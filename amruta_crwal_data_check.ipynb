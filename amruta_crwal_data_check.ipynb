{
 "cells": [
  {
   "cell_type": "code",
   "execution_count": 1,
   "metadata": {
    "collapsed": true
   },
   "outputs": [],
   "source": [
    "import pandas as pd\n",
    "import re\n",
    "df = pd.read_pickle('sahaja_df.pkl')"
   ]
  },
  {
   "cell_type": "code",
   "execution_count": 2,
   "metadata": {
    "collapsed": false
   },
   "outputs": [],
   "source": [
    "df['date_std'] = df['date'].map(lambda e: '%s-%s-%s' %(e[0:4], e[5:7], e[7:9]))"
   ]
  },
  {
   "cell_type": "code",
   "execution_count": 3,
   "metadata": {
    "collapsed": false
   },
   "outputs": [],
   "source": [
    "df['title_std'] = df['date_std']+ ' ' + df['title']+ ' [' +df['chs_title']+'](机器翻译/未校对)'"
   ]
  },
  {
   "cell_type": "code",
   "execution_count": 4,
   "metadata": {
    "collapsed": false
   },
   "outputs": [
    {
     "data": {
      "text/plain": [
       "'1970-01-01 Ardha Matra Volume 2 Interview [Ardha Matra第2卷专访](机器翻译/未校对)'"
      ]
     },
     "execution_count": 4,
     "metadata": {},
     "output_type": "execute_result"
    }
   ],
   "source": [
    "df.loc[0, 'title_std']"
   ]
  },
  {
   "cell_type": "code",
   "execution_count": 5,
   "metadata": {
    "collapsed": false
   },
   "outputs": [],
   "source": [
    "df_chs = df[['date_std', 'during', 'location', 'title_std', 'amruta_url', 'git_url', 'youtube_url', 'youku_url', 'Chs']]\n",
    "\n",
    "df_chs_out = df_chs[df_chs['Chs'].notnull()]\n",
    "\n",
    "df_chs_out['id'] = df_chs_out.index\n",
    "\n",
    "df_chs_out['content_html'] = df_chs_out['Chs'].map(lambda e: ''.join(\"<p>%s</p>\" % line for line in e.splitlines(keepends=True)))\n",
    "\n",
    "df_chs_out = df_chs_out[['id','date_std', 'during', 'location', 'title_std', 'amruta_url', 'git_url', 'youtube_url', 'youku_url', 'content_html']]\n",
    "\n",
    "df_chs_out.to_pickle('sahaja_translations_html.pkl')"
   ]
  },
  {
   "cell_type": "code",
   "execution_count": 24,
   "metadata": {
    "collapsed": false,
    "scrolled": true
   },
   "outputs": [],
   "source": [
    "df_chs_out.to_csv('sahaja_translations.csv', encoding='utf-8', index=False)"
   ]
  },
  {
   "cell_type": "code",
   "execution_count": null,
   "metadata": {
    "collapsed": false
   },
   "outputs": [],
   "source": [
    "df_chs_out.to_json('sahaja_translations.json')"
   ]
  },
  {
   "cell_type": "code",
   "execution_count": 10,
   "metadata": {
    "collapsed": true
   },
   "outputs": [],
   "source": [
    "df_chs_out.to_csv('sahaja_translations.csv', encoding='utf-8')"
   ]
  },
  {
   "cell_type": "code",
   "execution_count": 13,
   "metadata": {
    "collapsed": true
   },
   "outputs": [],
   "source": [
    "df = pd.read_csv('sahaja_translations.csv')"
   ]
  },
  {
   "cell_type": "code",
   "execution_count": 49,
   "metadata": {
    "collapsed": false
   },
   "outputs": [
    {
     "data": {
      "text/plain": [
       "'<p>Ardha Matra Volume 2 Interview Translation from Hindi\\n</p><p>Ardha Matra第2卷采访印地语翻译\\n</p><p>\\n</p><p>Reporter: Through Kundalini awakening we can achieve our Self-realization.\\xa0 In various ancient scriptures too, it has been described. The founder of Sahaja Yoga, Shri Mataji Nirmala Devi has given experience of self-realization through Kundalini awakening, to hundreds of thousands of people throughout the world. Sahaja yoga is gaining popularity in more than seven countries as of today. Ardha Matra had an exclusive meeting with Shri Mataji about the Kundalini power and Sahaja yoga. We are presenting excerpts from the same interview…\\n</p><p>记者：通过昆达利尼的觉醒，我们可以实现自我实现。在各种古代经文中也有描述。霎哈嘉瑜伽的创始人，Shri Mataji Nirmala Devi通过昆达利尼觉醒，向全世界数十万人提供了自我实现的经验。到目前为止，霎哈嘉瑜伽在七个以上的国家越来越受欢迎。 Ardha Matra与Shri Mataji就Kundalini力量和霎哈嘉瑜伽进行了独家会面。我们正在介绍同一次访谈的摘录......\\n</p><p>\\n</p><p>Reporter: In Ramayana TV serial, we watched Sage Valmiki giving knowledge of Kundalini power to princes Luv and Kush. Kindly tell us in details about this happening and Kundalini power.\\n</p><p>记者：在罗摩衍那电视连续剧中，我们观看了Sage Valmiki向王子Luv和Kush介绍了昆达利尼的力量。请详细告诉我们这件事和昆达利尼的力量。\\n</p><p>\\n</p><p>Shri Mataji: Kundalini power does reside within us. If Valmiki told about this, then it must be true because he was a great man.\\xa0 He knew that no matter how much knowledge one attains but until unless self-realisation is achieved, one remains incomplete. Now about this power… in our country many people knew about this for ages and they were called Gurus..masters [sadguru].\\xa0 These people had attained this knowledge through very hard penance. A power names as Kundalini resides in our triangular bone. And we call it Kundalini because it’s sits in the shape of three and a half coil. It is very surprising it that even Greeks knew about this. Because the triangular bone where Kundalini resides, they call it “Sacrum” (means sacred) bone. It means there is this sacred bone within us. Not sure, if many of these things they adopted from us or they attained this knowledge themselves in Sahaja way. In our country, experimentations to achieve self-realisation have been going on for ages. In Maharashtra (India) there have been people belonging to Nath sect like Machinder Nath, Gorakh Nath etc. these people were all into this. \\n</p><p>Shri Mataji：昆达利尼的力量确实存在于我们体内。如果瓦尔米基讲述了这一点，那一定是真的，因为他是一个伟大的人。他知道无论获得多少知识，但除非实现自我实现，否则一个人仍然不完整。现在关于这种力量...在我们国家，很多人都知道这个年龄，他们被称为Gurus..masters [sadguru]。这些人通过非常艰苦的忏悔获得了这些知识。昆达利尼（Kundalini）的力量名在我们的三角骨中。我们称之为Kundalini，因为它的形状为三个半线圈。甚至希腊人也知道这一点，这是非常令人惊讶的。因为昆达利尼居住的三角形骨头，他们称之为“骶骨”（意为神圣的）骨头。这意味着我们内心有这个神圣的骨头。不确定，如果他们从我们这里获得了很多这些东西，或者他们以霎哈嘉的方式获得了这些知识。在我们国家，实现自我实现的实验已经持续了很长时间。在马哈拉施特拉邦（印度），有一些人属于Nath教派，如Machinder Nath，Gorakh Nath等。这些人都参与其中。\\n</p><p>\\n</p><p>On the other hand, we were into Vedas. Studying Vedas makes one “Vid”. It means to know ultimate knowledge [param gyan], on your central nervous system. One has to be “Vid”. It is mention in very first Shloka that if one does not attain state of “Vid”, studying Vedas is of no use. There was another path called Bhakti Marg [path of devoutness], through which people used to try to please many deities through their devotion [bhakti]. \\n</p><p>另一方面，我们进入了吠陀经。学习吠陀经作一个“Vid”。这意味着要了解您的中枢神经系统的最终知识[param gyan]。一个必须是“Vid”。在第一个Shloka中提到，如果一个人没有达到“Vid”状态，那么学习Vedas是没有用的。还有另一条叫做Bhakti Marg [虔诚之路]的道路，人们过去常常通过他们的奉献来取悦许多神灵[bhakti]。\\n</p><p>\\n</p><p>But amongst all these, the middle path was that of Sahaja Kundalini Awakening and people of Nath sect [Nath panthi] used to follow this. All this knowledge is scripted in Sanskrit language and all discussions were also done in same language. On this matter, in 12th century Gyaneshwar Ji requested his elder brother (who happened to be his Guru too) for his permission to write about this power within us in his book “Gyaneshwari”, the power which gives us our self-realization. As nobody had clearly documented this before. When his Guru granted permission, he narrated about Kundalini very clearly in sixth chapter of his book. \\n</p><p>但在所有这些中，中间路径是霎哈嘉昆尼尼觉醒，而Nath教派的人[Nath panthi]过去常常这样做。所有这些知识都是用梵语编写的，所有讨论都是用同一种语言编写的。在这件事上，在12世纪，Gyaneshwar Ji请求他的哥哥（他恰好也是他的上师）允许他们在我们的书“Gyaneshwari”中写下我们的这种力量，这种力量使我们能够自我实现。因为之前没有人清楚地记录过这一点当他的大师获得许可时，他在他的书的第六章中非常清楚地叙述了昆达利尼。\\n</p><p>\\n</p><p>Despite of this clear narration, later on when so called guards of religions laid their hands on this book they realized that Kundalini awakening is beyond their capability, so they prohibited this sixth chapter. This resulted in decline in awareness about Kundalini. Afterwards in 16th century there have been many saints in Maharashtra like Shri Ramdas Ji, who was the Guru of Shivaji Maharaj. Someone questioned him how Kundalini awakens? On this his response was, “It happens Spontaneously. But there has to be a deserving receiver [disciple] and an able granter [guru]”\\n</p><p>尽管有这种明确的叙述，后来当所谓的宗教守卫放在这本书上时，他们意识到昆达利尼的觉醒超出了他们的能力，所以他们禁止了第六章。这导致对昆达利尼的认识下降。后来在16世纪，在马哈拉施特拉邦有许多圣徒，如Shri Ramdas Ji，他是Shivaji Maharaj的大师。有人质问昆达里尼是如何唤醒的？对此他的反应是，“它自发地发生了。但必须有一个值得接受的[门徒]和一个能干的大师[大师]“\\n</p><p>\\n</p><p>On the same lines, Namdev ji also narrated about Kundalini in his scripts. Likewise, many saints have talked about Kundalini.\\n</p><p>同样，Namdev ji也在他的剧本中叙述了昆达利尼。同样，很多圣徒都谈到了昆达利尼。\\n</p><p>\\n</p><p>But later many people termed it as nonsense, a thing of illusion and as there is nothing like Kundalini in reality. Even today, people talk like this. Because, nowadays we are so much under influence of western countries that we want to learn and adopt things from them only.\\n</p><p>但是后来很多人都把它称为废话，这是一种幻觉，因为现实中没有像昆达里尼这样的东西。即使在今天，人们也会这样说。因为，如今我们受到西方国家的影响，我们只想学习和收养他们的东西。\\n</p><p>\\n</p><p>Reporter: What is actual meaning of Yoga?\\n</p><p>记者：瑜伽的实际意义是什么？\\n</p><p>\\n</p><p>Shri Mataji: Kundalini awakening happens in Sahaja way. It’s just like a seed which has potential to grow into thousands of trees. When a seed is sowed in earth, it germinates in Sahaja way. Likewise, all these powers are there within us in potential state, which if awakened a human can become very powerful. When Kundalini awakens, it passes through 6 chakras, not 7. First chakra is placed under the Kundalini, which protects it and looks after it’s purity. A man who has lived a saintly life and even when his past life has been saintly, such a person’s Kundalini awakens very quickly. And after awakening she attains union with all pervading power of Chaitanya. This is called Yoga. Anything else, like bending your body, doing acrobat is not Yoga. \\n</p><p>Shri Mataji：昆达利尼觉醒以霎哈嘉的方式发生。它就像一颗有可能长成数千棵树的种子。当种子播种在地球上时，它以霎哈嘉的方式发芽。同样地，所有这些权力都存在于我们内部的潜在状态中，如果被唤醒，人类就会变得非常强大。当昆达利尼醒来时，它通过6个脉轮，而不是7个。第一个脉轮被放置在昆达利尼（Kundalini）下面，它保护它并保持它的纯净。一个过着圣洁生活的男人，即使他的过去生活圣洁，这样一个人的昆达里尼很快就会醒来。在觉醒之后，她与Chaitanya的所有普遍力量结合在一起。这叫瑜伽。其他任何东西，比如弯曲身体，做杂技演员都不是瑜伽。\\n</p><p>\\n</p><p>Actually, it is the only spiritual yoga through which your Kundalini attains union with all pervading divine power [brahma shakti]. When this happens, first of all, one becomes thoughtless. You are completely aware but thoughtless. When we have thoughts, we are either in past or future, and not in present. On Kundalini awakening, the thoughts which come from past or future are completely stopped or vanish. And the time elapsed between two thoughts [vilamba] stretches and there we witness state of present. We are fully aware but still thoughtless and in this state only, we achieve our spiritual ascent. But this (awakening) has to happen within you. No use of going places, studying and attaining stuff all that. Nothing helps… Kundalini awakening is an event such that this power rises above from within your triangular bone, pierces through six plexuses (chakras) and comes out from brahma randhra (hole in fontanelle bone). Until this event takes place within you, sometimes it’s fruitless to talk about Dharma [Religion]. Because talks may perhaps make you a good human being but one cannot get self-realization. Unless self-realization is achieved, all powers within us cannot be expressed. Understand that it is final and ultimate goal of our evolution. When Kundalini is awakened, it pierces the Brahma Randhra [hole in fontanelle bone] but post this connection, the Yoga has to be established. Not for too long but meditation for a short while has to be practiced every day. In olden days, tradition of one Master – one disciple was common, when they use to grant realization to one disciple only. So, there were very few realized people and if someone talked about Kundalini, would be perceived as crazy. Like Kabirdas ji has mentioned in his poetry..”How do I explain, as this whole world is blind?”\\n</p><p>实际上，它是唯一的灵性瑜伽，通过它你的昆达利尼与所有普遍的神力[brahma shakti]结合在一起。当这种情况发生时，首先，一个人变得轻率。你完全清楚但没有思想。当我们有想法时，我们要么处于过去，要么未来，而不是现在。在昆达利尼醒来时，来自过去或未来的思想完全停止或消失。两个想法[vilamba]之间的时间过去了，我们目睹了现状。我们充分意识到但仍然没有思想，仅在这种状态下，我们实现了精神上升。但这种（觉醒）必须发生在你内心。没有使用去的地方，学习和获得所有这些。什么都没有帮助......昆达利尼觉醒是一个事件，这个力量从你的三角骨内部上升，刺穿六个丛（脉轮）并从梵天randhra（囟门骨洞）出来。在此事件发生之前，有时谈论佛法[宗教]是徒劳的。谈判可能会让你成为一个好人，但却无法自我实现。除非实现自我实现，否则我们内部的所有权力都无法表达。明白这是我们进化的最终目标。当昆达利尼被唤醒时，它刺穿了梵天兰德拉[囟门骨中的洞]，但是发布这种联系后，必须建立瑜伽。不要太久，但必须每天练习一段时间的冥想。在过去，一个师父的传统 - 一个门徒是常见的，当他们用来向一个门徒提供实现时。因此，很少有人意识到，如果有人谈到昆达利尼，会被认为是疯了。就像Kabirdas ji在他的诗歌中提到的那样......“我怎么解释，因为整个世界都是盲目的？”\\n</p><p>\\n</p><p>Reporter: What is the difference between Sahaja Yoga and other Yogic practices?\\n</p><p>记者：霎哈嘉瑜伽和其他瑜珈练习有什么区别？\\n</p><p>\\n</p><p>Shri Mataji: You may call it modern Sahaja yoga. Its uniqueness is that we can give realization to enmass, in thousands together. In country like Russia, in a single village there are up to 21-22 thousand Sahaja Yogis.\\xa0 Because they are not so materialistic like us. They are very wise people. 70% of them are very wise, rest 30% may be after petty things like us. But 70% are wise and have good understanding. Now sure, how they have such a discrimination that they did not let anyone else establish other than me, rest all were turned back. Not sure how they understand that I am working so honestly. Here in Maharashtra (India) also a lot of things happened, many Gurus arrived on this land, taught people but don’t know why situation is so deteriorated here. Here seeking has declined in people and they are more inclined towards modernization. But I am surprised and I had never thought that in North India people will grasp Sahaja yoga so well. But it’s spreading like fire and people are receiving it and getting established well. So, it is such a thing that you don’t have to talk about this, it is an event. e.g. if you sow a seed in ground, it will germinate itself. For this, you don’t have to do any acrobat. Because there is a binding force in both the seed and the earth and when these bindings work together it just happens. It’s a living process. As we are at final stage of evolution, thousands of people can experience it. \\n</p><p>Shri Mataji：你可以称之为现代霎哈嘉瑜伽。它的独特之处在于我们可以将成千上万的人群实现为enmass。在像俄罗斯这样的国家，在一个村庄里，有多达21-22万霎哈嘉瑜伽士。因为他们不像我们那么物质主义。他们是非常聪明的人。其中70％是非常聪明的，其余30％可能是像我们这样的小事。但70％是明智的，并且有很好的理解。现在可以肯定的是，他们如何有这样的歧视，以至于他们没有让任何其他人建立我以外的其他人，所有人都被拒绝了。不确定他们是如何明白我正在如此诚实地工作。在马哈拉施特拉邦（印度）也发生了很多事情，许多大师来到这片土地上，教过人们却不知道为什么这里的情况如此恶化。在这里寻求人数下降，他们更倾向于现代化。但我感到很惊讶，我从未想过在印度北部，人们会很好地掌握霎哈嘉瑜伽。但它正像火一样蔓延，人们正在接收它并建立起来。所以，这是一件你不必谈论这件事的事情，这是一件大事。例如如果你在地上撒播种子，它就会发芽。为此，您不必执行任何杂技演员。因为种子和地球都有结合力，当这些结合在一起时，它就会发生。这是一个活生生的过程。当我们处于进化的最后阶段时，成千上万的人可以体验它。\\n</p><p>\\n</p><p>Though blossom days have arrived and these are such times that many flowers are here who have potential to become fruits but there are many others around too, who would not at all accept it, would not even try to get it. As last judgement time has come. It’s your wish to attain the Truth or leave it. \\n</p><p>虽然开花的日子已经来临，但是这些时代的许多鲜花都在这里，它们有可能成为水果，但周围也有很多其他的，谁也不会接受它，甚至都不会尝试。随着最后的审判时间到了。这是你希望获得真相或离开它。\\n</p><p>\\n</p><p>Human beings can achieve a lot from this. First achievement is that we can feel this all-pervading power [param chaitanya] on your fingers and very soothing, settle cool (not very cold) breeze flows from your fontanelle bone area. Adi Shankracharya called it “Salilam Salilam…”. The vibrations that flow through your hands, he called it “Spand”. On your palm there are 7 sympathetic nerve endings. These are all 7 plexuses [chakras] on palm, through them you know which of your plexuses [chakras] have problem. You will know it on fingers. You will also know problems of others too because you are enlightened in collective consciousness. You enter into a new dimension through which a collective consciousness is awakened within you. You can feel chakras of another person too. So now you know about your own as well other’s Chakras. If you also learn how to correct chakras, you can correct your own chakras and help others too. This is called Shuddha Vidhya (pure knowledge). \\n</p><p>人类可以从中获得很多。第一个成就是我们可以感受到这种无所不在的力量[param chaitanya]在你的手指上，非常舒缓，从你的囟门骨区域流出凉爽（不是很冷）的微风。 Adi Shankracharya称之为“Salilam Salilam ......”。流过你手的振动，他称之为“Spand”。在你的手掌上有7个交感神经末梢。这些都是手掌上的7个丛[chakras]，通过它们你知道哪些丛[chakras]有问题。你会在手指上知道它。你也会知道别人的问题，因为你在集体意识中得到了启发。你进入了一个新的维度，通过它你可以唤醒集体意识。你也可以感受到另一个人的脉轮。所以现在你知道你自己以及其他的Chakras。如果您还学习如何纠正脉轮，您可以纠正自己的脉轮并帮助其他人。这被称为Shuddha Vidhya（纯知识）。\\n</p><p>\\n</p><p>Second power that awakens with you is, you can also give self-realization to others. You can also raise other’s Kundalini. You can correct their physical, mental, intellectual and spiritual conditions too. Like this, we can help anyone whoever comes to Sahaja Yoga and wants to get self-realization. That’s how whole society can be reformed, not only this our country can be reformed, even whole world can be reformed. \\n</p><p>与你一同唤醒的第二种力量，你也可以给别人自我实现。你也可以筹集其他的昆达利尼。您也可以纠正他们的身体，心理，智力和精神状况。像这样，我们可以帮助任何来到霎哈嘉瑜伽并希望自我实现的人。这就是整个社会可以改革的方式，不仅可以改革我们的国家，甚至可以改革整个世界。\\n</p><p>\\n</p><p>Another big change that happens is sense of Righteousness [Dharma] is awakened within us, it’s within and not without. For example, any Hindi, Muslim or Christian can commit any sin or do wrong deeds, his religion has no binding upon him. But it’s such a thing that once Dharma is awakened within, you can not commit anything illicit. Compassion, mercy etc. are awakened within you and despite this you become extremely energetic and dynamic. Whatever you keep doing, you won’t feel tired. You do your work in very loving and peaceful way. With this, you attain peace with you, become absolutely peaceful. A person who has very angry temperament becomes absolutely calm. Because whatever angularities you have within, become alright. All deformities within us are due to problems in plexuses [Chakras] and once these Chakras become alright, they get alright. I have seen many people have established big organizations of peace, got big awards etc. What peace they can give to others when they don’t have it in their heart itself? So, people become absolutely peaceful within. This work is going on in 7 countries. Thousands of people get together, but never ever there is any tussle. All live-in harmony together. Yes, sometimes they do tease each other but jokingly, in a friendly manner. You would not have seen such friendships otherwise. Whether this person is from Russia, England, Japan or anywhere they build a collective love amongst themselves. Because of this when true Religion [Dharma] is awakened within, they understand that all religions are one, understand totality of all religions. You don’t criticize any religion and worship all Dharma Pravartaka [who propagated religions]. \\n</p><p>发生的另一个重大变化是正义感[佛法]在我们内部被唤醒，它在内在而非在外。例如，任何印地语，穆斯林或基督徒都可以犯下任何罪行或做错事，他的宗教信仰对他没有约束力。但是，一旦佛法被唤醒，你就无法犯下任何违法行为。怜悯，怜悯等在你内心被唤醒，尽管如此，你仍然变得精力充沛，充满活力。无论你做什么，你都不会感到疲倦。你以非常爱和平的方式做你的工作。有了这个，你就能与你和平相处，变得绝对和平。一个非常生气的人变得绝对平静。因为你内在的任何角度，变得好。我们内部的所有畸形都是由于丛[Chakras]的问题，一旦这些Chakras变得正常，它们就会好起来的。我看到很多人建立了和平的大组织，获得了大奖等。当他们内心没有这些时，他们可以给予他们什么样的和平？所以，人们变得绝对和平。这项工作正在7个国家进行。成千上万的人聚在一起，但从来没有任何争斗。所有人都和睦相处。是的，有时他们会以友好的方式互相戏弄，但是开玩笑。否则你不会看到这样的友谊。无论这个人是来自俄罗斯，英国，日本还是他们自己建立集体爱的任何地方。正因为如此，当真正的宗教[佛法]被唤醒时，他们才明白所有宗教都是一体，理解所有宗教的总体性。你不批评任何宗教，并崇拜所有传播宗教的Dharma Pravartaka。\\n</p><p>\\n</p><p>Reporter: Shri Mataji, is it true that with Sahaja Yoga once can get rid of all many physical and mental disorders?\\n</p><p>记者：Shri Mataji，霎哈嘉瑜伽曾经能摆脱所有身体和精神障碍吗？\\n</p><p>\\n</p><p> Shri Mataji: Due to problems in Chakras, whatever Physical ailments are there e.g. Psychosomatic diseases, Cancers etc. which cannot be cured by Doctors are cured by Sahaja Yoga, there is no doubt in that. But first you must come in search of Truth not that you walk-in for treatment of all diseases. Seekers of Truth get rid of all diseases and they can help others too, but first of all one must seek. You can understand that God almighty has most wisdom, common sense. He sees that those, who are of no use and won’t give light to others even if put alright, why to treat such lamps. However even such lamps get alright… He wants to fix lamps which get enlightened and give light to others too, benefit others. That’s how Sahaja Yoga is going to spread. \\n</p><p>Shri Mataji：由于Chakras的问题，无论有什么身体疾病，例如医生无法治愈的心身疾病，癌症等由霎哈嘉瑜伽治愈，毫无疑问。但首先，你必须寻找真相，而不是为了治疗所有疾病而进入。真理的寻求者摆脱了所有的疾病，他们也可以帮助别人，但首先必须寻求。你可以理解全能的上帝拥有最常见的智慧。他看到那些没有用的人，即使放好了也不会给别人发光，为什么要对待这样的灯。然而，即使这样的灯也没问题......他想修理那些得到启发并为其他人提供照明的灯，让其他人受益。这就是霎哈嘉瑜伽的传播方式。\\n</p><p>\\n</p><p>Sahaja means Sah (with you) + Ja (born). It’s such a Sahaja Vishawa (Global) Religion. When you achieve it, all petty things in our lives like Shad-Ripus i.e. six Demons within us [Kama – Lust, Krodha – Anger, Lobha- Greed, Mada – Arrogance, Moha – Attachment, Matsarya – Jealousy], just disappear somewhere. What you achieve is only Absolute Truth. If ten people are there, they will say the same thing. e.g. if you ask them what problem a particular person has? All will have the same answer. Diagnosis is also done. Everyone knows the single Truth, so there is no question of argument, automatically everyone arrives at same opinion. \\n</p><p>Sahaja意味着Sah（和你一起）+ Ja（出生）。这是一个霎哈嘉Vishawa（全球）宗教。当你实现它时，我们生活中的所有小事如Shad-Ripus，即我们内部的六个恶魔[Kama  -  Lust，Krodha  -  Anger，Lobha-Greed，Mada  -  Arrogance，Moha  -  Attachment，Matsarya  -  Jealousy]，就在某处消失。你所取得的只是绝对真理。如果有十个人，他们会说同样的话。例如如果你问他们某个人有什么问题？所有人都会有相同的答案。诊断也已完成。每个人都知道单一的真理，所以不存在争论的问题，每个人都会自动达成同样的意见。\\n</p><p>\\n</p><p>Sahaja Yoga is a great blessing. Because once you in shelter of Param Chaitanya, you are already in the court of God almighty. His government is very efficient and alert. On every step, you will see so many blessings from him that you would be surprised how all this is happening. Everyone sends letters to me asking mother, kindly tell how it has happened, this miracle has happened, that problem is solved. I amuse that you don’t even know where you are sitting. \\n</p><p>霎哈嘉瑜伽是一个伟大的祝福。因为一旦你在Param Chaitanya的庇护所，你已经在全能的上帝的宫廷。他的政府非常有效率和警觉。在每一步，你都会看到他的许多祝福，你会惊讶地发现这一切都在发生。每个人都会给我发信，问妈妈，请告诉我这是怎么回事，这个奇迹已经发生了，那问题就解决了。我觉得你甚至不知道你坐在哪里。\\n</p><p>\\n</p><p>So the horizon we are living on, is all illusion [maya] and we must step into to the depth of reality. Once we get there, we feel that everything is happening itself and we are not doing anything, we witness everything happening right before you then what’s the need of putting in your efforts? And besides your attention becomes absolutely pure. As we saw that some boys especially from foreign countries they used to complain of wobbling eyes all the time and were tired of this, it would wander around on sight of a woman or anything around. I said it’s okay, doesn’t matter. After realization, I asked them to keep eyes on mother earth for some time. They started walking with their head down, by practicing it regularly their eyes have become so pure now, absolutely innocent. So, attention becomes absolutely pure, and not just pure it becomes such that if even it goes to someone slightly for a moment [kataksha], that person is endowed with his benevolence. If he goes to a house, peace gets established there. Wherever he stands brings peace. His sight becomes so powerful and pure, as he is full of selfless love. \\n</p><p>因此，我们所依赖的视野，都是幻想[maya]，我们必须深入到现实的深处。一旦我们到达那里，我们觉得一切都在发生，我们没有做任何事情，我们目睹发生在你面前的一切，那么你需要付出什么努力呢？此外，你的注意力变得绝对纯净。当我们看到一些男孩，尤其是来自外国的男孩，他们常常一直抱怨摇晃的眼睛，并且厌倦了这一点，它会在看到一个女人或周围的任何东西时四处游荡。我说没关系，没关系。实现之后，我让他们一直关注地球母亲。他们开始低着头走路，经常练习它们的眼睛现在变得如此纯净，绝对无辜。因此，注意力变得绝对纯净，并且不仅仅是纯粹的，如果即使它稍微转向某人[kataksha]，那个人也被赋予了他的仁慈。如果他去一所房子，那里就会建立和平。无论他站在哪里都能带来和平。他的视线变得如此强大和纯洁，因为他充满了无私的爱。\\n</p><p>\\n</p><p>So, this attention acts wherever it reaches. If you want to know about someone, you would know through your vibrations. There is another Ether even more settler, that’s one which communicates all this. All these powers are there and all around us are supreme powers too. For example, if you see these beautiful flowers, you don’t even realize that it’s such a big miracle. Nobody thinks about it but it’s a living process. Just like this we have our heart. Nobody thinks about it as well that how it’s functioning. If you ask Doctors, they say it’s autonomous. Who is Auto? Science does not have answer for many things. Above all, science cannot explain why have to come in this world. You have come to enter into kingdom of almighty, enjoy and do benevolence of whole world. When they realize this, they keep engaged selflessly for no money. As you know we don’t change any money. Such a big work is going on and I don’t even have a secretary but everyone is my secretary. They do this work with full dedication, enjoy only this and keep talking about the same and nothing else. How to do good to others, how to solve other’s problems. \\n</p><p>因此，这种注意力发生在任何地方。如果你想了解某人，你会知道你的振动。还有另一个Ether甚至更多的定居者，这是一个传达所有这一切的人。所有这些权力都在那里，我们周围的人也是最高权力。例如，如果你看到这些美丽的花朵，你甚至都没有意识到这是一个如此巨大的奇迹。没有人想到它，但这是一个活生生的过程。就像这样，我们有自己的心。没有人会想到它是如何运作的。如果你问医生，他们说这是自主的。谁是汽车？科学对许多事情没有答案。最重要的是，科学无法解释为什么必须来到这个世界。你已经进入全能的国度，享受和做全世界的仁慈。当他们意识到这一点时，他们无私地继续订婚，没有钱。如你所知，我们不会改变任何金钱。这么大的工作正在进行，我甚至没有秘书，但每个人都是我的秘书。他们以完全的奉献精神完成这项工作，只享受这一点并继续谈论同样的事情。如何善待他人，如何解决他人的问题。\\n</p><p>\\n</p><p>Third and highest of all thing is that you are drowned into bliss [ananda]. Happiness and sorrow are merely two sides of our ego, just like a coin has two sides. When your ego gets very elated, you are happy and if its gets pricked a bit you become sad. But in Sahaja state you become blissful [anandamay]. There is no duality in bliss, you just keep watching everything and enjoy it. Means that you achieve state of witness. You look at everything like a drama. That’s how all kind of tensions and stress etc. of these days just disappear. Jokingly, I tell them that now you all got a hole on your heads and these problems will stream out of you through this [laughs]. \\n</p><p>所有事情的第三个也是最重要的是你被淹没在幸福中[ananda]。幸福和悲伤只是我们自我的两面，就像一枚硬币有两面。当你的自我变得非常兴奋时，你会感到高兴，如果它被刺痛了一点你会变得悲伤。但在霎哈嘉州，你变得幸福[anandamay]。幸福没有二元性，你只是继续观看一切并享受它。意味着你实现了证人的状态。你看一下戏剧中的一切。这就是现在各种紧张和压力等消失的方式。开玩笑说，我告诉他们，现在你们头上都有一个洞，这些问题会从你身上传出来[笑]。\\n</p><p>\\n</p><p>What must be understood is that all this is within us, it’s just right time, everything is going to work out in these times, you don’t have to pay for this, but still people visit all those mischievous Gurus. Now what to do, no one can change their minds. So, one must understand what do we have to achieve? We have to achieve our complete maturity. And for this you don’t have to do anything or give anything. Only you have to give time, very little time. \\n</p><p>必须要理解的是，所有这一切都在我们体内，这是恰当的时间，一切都将在这些时候发挥作用，你不必为此付出代价，但人们仍然会拜访所有那些淘气的大师。现在该做什么，没有人能改变他们的想法。那么，我们必须了解我们必须实现的目标是什么？我们必须实现完全成熟。为此，您不必做任何事情或给予任何东西。只有你必须花时间，很少的时间。\\n</p><p>\\n</p><p>But when you step down in this, you find it to be ocean of knowledge, love and compassion and above of all its ocean of forgiveness. Whatever mistakes one might have committed prior to realization, everything has to be forgotten in Sahaja Yoga, no need to feel guilty and you just forgive everyone. That’s all. This works out so quickly even for thousands of people that it just surprise everyone how it’s happening for so many together. They say that recently about One Hundred Thousand people came in Pune and everyone raised their hands to confirm that they felt it. But how many continue and grow in this, is the shortcoming. \\n</p><p>但是当你踏入这个世界时，你会发现它是知识，爱和同情的海洋，而且是宽恕之海。无论在实现之前可能犯过什么错误，在霎哈嘉瑜伽中都必须忘记一切，不需要感到内疚，你只是原谅每个人。就这样。即使对于成千上万的人来说，这也很快就能解决，这让每个人都感到惊讶。他们说，最近大约有十万人来到浦那，每个人都举起手来证实他们有这种感觉。但是，有多少人继续并在此成长，这是一个缺点。\\n</p><p>\\n</p><p>Reporter: Shri Mataji, in every public program you give experience of Kundalini awakening to thousands. Can you give same experience through this program to our viewers too?\\n</p><p>记者：Shri Mataji，在每一个公共项目中，你都会感受到昆达利尼成千上万的觉醒。您是否可以通过此计划向观众提供相同的体验？\\n</p><p>\\n</p><p> Shri Mataji: Not a problem. We did it in Hong Kong. We visited Hong Kong and there a TV Anchor who organized it, and many people sent letters afterwards. But nobody brought them together as collective. But now there in Hong Kong all of them have got together. So definitely it is possible. \\n</p><p>Shri Mataji：不是问题。我们在香港做过。我们访问了香港，并组织了一个电视主持人，之后许多人发了信。但是没有人把它们集中在一起。但现在在香港，所有人都聚在一起。所以绝对有可能。\\n</p><p>\\n</p><p> Reporter: So, can this be done now?\\n</p><p>记者：那么，现在能做到吗？\\n</p><p>\\n</p><p> Shri Mataji: Now? (Smiles…) Ok so whoever is watching it now, please take off your shoes and spectacles. Shoes have to be removed because this earth element absorbs all our problems, deformities. \\n</p><p>Shri Mataji：现在？ （微笑......）好吧，无论谁现在正在看，请脱掉你的鞋子和眼镜。鞋子必须被移除，因为这个地球元素吸收了我们所有的问题，畸形。\\n</p><p>\\n</p>'"
      ]
     },
     "execution_count": 49,
     "metadata": {},
     "output_type": "execute_result"
    }
   ],
   "source": [
    "df_chs_out.loc[0, 'content_html']"
   ]
  },
  {
   "cell_type": "code",
   "execution_count": null,
   "metadata": {
    "collapsed": true
   },
   "outputs": [],
   "source": []
  },
  {
   "cell_type": "code",
   "execution_count": null,
   "metadata": {
    "collapsed": true
   },
   "outputs": [],
   "source": []
  },
  {
   "cell_type": "code",
   "execution_count": 10,
   "metadata": {
    "collapsed": true
   },
   "outputs": [],
   "source": [
    "df_chs_out = df_chs[df_chs['Chs'].isnull()]"
   ]
  },
  {
   "cell_type": "code",
   "execution_count": 11,
   "metadata": {
    "collapsed": true
   },
   "outputs": [],
   "source": [
    "df_chs_out.to_csv('sahaja_translations_notext.csv')"
   ]
  },
  {
   "cell_type": "code",
   "execution_count": null,
   "metadata": {
    "collapsed": true
   },
   "outputs": [],
   "source": []
  },
  {
   "cell_type": "code",
   "execution_count": 12,
   "metadata": {
    "collapsed": false
   },
   "outputs": [
    {
     "data": {
      "text/plain": [
       "(515, 9)"
      ]
     },
     "execution_count": 12,
     "metadata": {},
     "output_type": "execute_result"
    }
   ],
   "source": [
    "df_chs_out.shape"
   ]
  },
  {
   "cell_type": "code",
   "execution_count": null,
   "metadata": {
    "collapsed": true
   },
   "outputs": [],
   "source": []
  },
  {
   "cell_type": "code",
   "execution_count": 517,
   "metadata": {
    "collapsed": false,
    "scrolled": true
   },
   "outputs": [
    {
     "data": {
      "text/plain": [
       "Index(['date', 'during', 'location', 'title', 'url', 'amruta_url', 'git_url',\n",
       "       'youtube_url', 'youku_url', 'eng', 'Chs', 'chs_title', 'date_std',\n",
       "       'title_std'],\n",
       "      dtype='object')"
      ]
     },
     "execution_count": 517,
     "metadata": {},
     "output_type": "execute_result"
    }
   ],
   "source": [
    "df.columns"
   ]
  },
  {
   "cell_type": "code",
   "execution_count": 525,
   "metadata": {
    "collapsed": false
   },
   "outputs": [
    {
     "data": {
      "text/html": [
       "<div>\n",
       "<style scoped>\n",
       "    .dataframe tbody tr th:only-of-type {\n",
       "        vertical-align: middle;\n",
       "    }\n",
       "\n",
       "    .dataframe tbody tr th {\n",
       "        vertical-align: top;\n",
       "    }\n",
       "\n",
       "    .dataframe thead th {\n",
       "        text-align: right;\n",
       "    }\n",
       "</style>\n",
       "<table border=\"1\" class=\"dataframe\">\n",
       "  <thead>\n",
       "    <tr style=\"text-align: right;\">\n",
       "      <th></th>\n",
       "      <th>date</th>\n",
       "      <th>during</th>\n",
       "      <th>location</th>\n",
       "      <th>title</th>\n",
       "      <th>url</th>\n",
       "      <th>amruta_url</th>\n",
       "      <th>git_url</th>\n",
       "      <th>youtube_url</th>\n",
       "      <th>youku_url</th>\n",
       "      <th>eng</th>\n",
       "      <th>Chs</th>\n",
       "      <th>chs_title</th>\n",
       "      <th>date_std</th>\n",
       "      <th>title_std</th>\n",
       "    </tr>\n",
       "  </thead>\n",
       "  <tbody>\n",
       "    <tr>\n",
       "      <th>0</th>\n",
       "      <td>1970-0101</td>\n",
       "      <td>26′</td>\n",
       "      <td>[Hindi] City Unknown (India)</td>\n",
       "      <td>Ardha Matra Volume 2 Interview</td>\n",
       "      <td>https://www.amruta.org/?p=12254</td>\n",
       "      <td>https://www.amruta.org/1970/01/01/ardha-matra-...</td>\n",
       "      <td>https://raw.githubusercontent.com/amrutadotorg...</td>\n",
       "      <td>https://www.youtube.com/embed/RQizS7hUMyw?rel=...</td>\n",
       "      <td>http://v.youku.com/v_show/id_XMTI2MDU4ODEwMA==...</td>\n",
       "      <td>Ardha Matra Volume 2 Interview Translation fro...</td>\n",
       "      <td>Ardha Matra Volume 2 Interview Translation fro...</td>\n",
       "      <td>Ardha Matra第2卷专访</td>\n",
       "      <td>1970-01-01</td>\n",
       "      <td>1970-01-01 Ardha Matra Volume 2 Interview [Ard...</td>\n",
       "    </tr>\n",
       "    <tr>\n",
       "      <th>1</th>\n",
       "      <td>1970-0101</td>\n",
       "      <td>17′</td>\n",
       "      <td>[Hindi] City Unknown (India)</td>\n",
       "      <td>Ardha Matra Volume 5 two interviews or talks i...</td>\n",
       "      <td>https://www.amruta.org/?p=12257</td>\n",
       "      <td>https://www.amruta.org/1970/01/01/ardha-matra-...</td>\n",
       "      <td>https://raw.githubusercontent.com/amrutadotorg...</td>\n",
       "      <td>https://www.youtube.com/embed/hHf3T-9L3GE?rel=...</td>\n",
       "      <td>http://v.youku.com/v_show/id_XMTI2MDYxMzM5Ng==...</td>\n",
       "      <td>None</td>\n",
       "      <td>None</td>\n",
       "      <td>Ardha Matra第5卷两次采访或印地语会谈</td>\n",
       "      <td>1970-01-01</td>\n",
       "      <td>1970-01-01 Ardha Matra Volume 5 two interviews...</td>\n",
       "    </tr>\n",
       "    <tr>\n",
       "      <th>2</th>\n",
       "      <td>1970-0101</td>\n",
       "      <td>6′</td>\n",
       "      <td>[Hindi] City Unknown (Location Unknown)</td>\n",
       "      <td>Unidentified Hindi Talk (extract on Swadhisthana)</td>\n",
       "      <td>https://www.amruta.org/?p=10564</td>\n",
       "      <td>https://www.amruta.org/1970/01/01/unidentified...</td>\n",
       "      <td>https://raw.githubusercontent.com/amrutadotorg...</td>\n",
       "      <td>https://www.youtube.com/embed/d03_RfQWKX4?rel=...</td>\n",
       "      <td>http://v.youku.com/v_show/id_XODkyOTY4MjQ0.html</td>\n",
       "      <td>Swadishthan Chakra.\\nThe quality of this Chakr...</td>\n",
       "      <td>Swadishthan Chakra.\\nSwadrishna Chakra\\n\\nThe ...</td>\n",
       "      <td>身份不明的印地语谈话（在Swadhisthana上提取）</td>\n",
       "      <td>1970-01-01</td>\n",
       "      <td>1970-01-01 Unidentified Hindi Talk (extract on...</td>\n",
       "    </tr>\n",
       "    <tr>\n",
       "      <th>3</th>\n",
       "      <td>1970-0101</td>\n",
       "      <td>10′</td>\n",
       "      <td>[Hindi] City Unknown (Location Unknown)</td>\n",
       "      <td>Unidentified Hindi Talk (Extract on Agnya Chakra)</td>\n",
       "      <td>https://www.amruta.org/?p=10565</td>\n",
       "      <td>https://www.amruta.org/1970/01/01/unidentified...</td>\n",
       "      <td>https://raw.githubusercontent.com/amrutadotorg...</td>\n",
       "      <td>https://www.youtube.com/embed/WYp69FtsQEQ?rel=...</td>\n",
       "      <td>http://v.youku.com/v_show/id_XODk5MDg2ODg4.html</td>\n",
       "      <td>None</td>\n",
       "      <td>None</td>\n",
       "      <td>身份不明的印地语谈话（Agnya Chakra上的提取物）</td>\n",
       "      <td>1970-01-01</td>\n",
       "      <td>1970-01-01 Unidentified Hindi Talk (Extract on...</td>\n",
       "    </tr>\n",
       "    <tr>\n",
       "      <th>4</th>\n",
       "      <td>1970-0101</td>\n",
       "      <td>12′</td>\n",
       "      <td>City Unknown (Location Unknown)</td>\n",
       "      <td>Unidentified talk</td>\n",
       "      <td>https://www.amruta.org/?p=11418</td>\n",
       "      <td>https://www.amruta.org/1970/01/01/unidentified...</td>\n",
       "      <td>https://raw.githubusercontent.com/amrutadotorg...</td>\n",
       "      <td>None</td>\n",
       "      <td>None</td>\n",
       "      <td>unidentified talk\\n“Since you must know that I...</td>\n",
       "      <td>unidentified talk\\n身份不明的谈话\\n\\n“Since you must ...</td>\n",
       "      <td>身份不明的谈话</td>\n",
       "      <td>1970-01-01</td>\n",
       "      <td>1970-01-01 Unidentified talk [身份不明的谈话](机器翻译/未校对)</td>\n",
       "    </tr>\n",
       "  </tbody>\n",
       "</table>\n",
       "</div>"
      ],
      "text/plain": [
       "        date during                                 location  \\\n",
       "0  1970-0101    26′             [Hindi] City Unknown (India)   \n",
       "1  1970-0101    17′             [Hindi] City Unknown (India)   \n",
       "2  1970-0101     6′  [Hindi] City Unknown (Location Unknown)   \n",
       "3  1970-0101    10′  [Hindi] City Unknown (Location Unknown)   \n",
       "4  1970-0101    12′          City Unknown (Location Unknown)   \n",
       "\n",
       "                                               title  \\\n",
       "0                     Ardha Matra Volume 2 Interview   \n",
       "1  Ardha Matra Volume 5 two interviews or talks i...   \n",
       "2  Unidentified Hindi Talk (extract on Swadhisthana)   \n",
       "3  Unidentified Hindi Talk (Extract on Agnya Chakra)   \n",
       "4                                  Unidentified talk   \n",
       "\n",
       "                               url  \\\n",
       "0  https://www.amruta.org/?p=12254   \n",
       "1  https://www.amruta.org/?p=12257   \n",
       "2  https://www.amruta.org/?p=10564   \n",
       "3  https://www.amruta.org/?p=10565   \n",
       "4  https://www.amruta.org/?p=11418   \n",
       "\n",
       "                                          amruta_url  \\\n",
       "0  https://www.amruta.org/1970/01/01/ardha-matra-...   \n",
       "1  https://www.amruta.org/1970/01/01/ardha-matra-...   \n",
       "2  https://www.amruta.org/1970/01/01/unidentified...   \n",
       "3  https://www.amruta.org/1970/01/01/unidentified...   \n",
       "4  https://www.amruta.org/1970/01/01/unidentified...   \n",
       "\n",
       "                                             git_url  \\\n",
       "0  https://raw.githubusercontent.com/amrutadotorg...   \n",
       "1  https://raw.githubusercontent.com/amrutadotorg...   \n",
       "2  https://raw.githubusercontent.com/amrutadotorg...   \n",
       "3  https://raw.githubusercontent.com/amrutadotorg...   \n",
       "4  https://raw.githubusercontent.com/amrutadotorg...   \n",
       "\n",
       "                                         youtube_url  \\\n",
       "0  https://www.youtube.com/embed/RQizS7hUMyw?rel=...   \n",
       "1  https://www.youtube.com/embed/hHf3T-9L3GE?rel=...   \n",
       "2  https://www.youtube.com/embed/d03_RfQWKX4?rel=...   \n",
       "3  https://www.youtube.com/embed/WYp69FtsQEQ?rel=...   \n",
       "4                                               None   \n",
       "\n",
       "                                           youku_url  \\\n",
       "0  http://v.youku.com/v_show/id_XMTI2MDU4ODEwMA==...   \n",
       "1  http://v.youku.com/v_show/id_XMTI2MDYxMzM5Ng==...   \n",
       "2    http://v.youku.com/v_show/id_XODkyOTY4MjQ0.html   \n",
       "3    http://v.youku.com/v_show/id_XODk5MDg2ODg4.html   \n",
       "4                                               None   \n",
       "\n",
       "                                                 eng  \\\n",
       "0  Ardha Matra Volume 2 Interview Translation fro...   \n",
       "1                                               None   \n",
       "2  Swadishthan Chakra.\\nThe quality of this Chakr...   \n",
       "3                                               None   \n",
       "4  unidentified talk\\n“Since you must know that I...   \n",
       "\n",
       "                                                 Chs  \\\n",
       "0  Ardha Matra Volume 2 Interview Translation fro...   \n",
       "1                                               None   \n",
       "2  Swadishthan Chakra.\\nSwadrishna Chakra\\n\\nThe ...   \n",
       "3                                               None   \n",
       "4  unidentified talk\\n身份不明的谈话\\n\\n“Since you must ...   \n",
       "\n",
       "                       chs_title    date_std  \\\n",
       "0               Ardha Matra第2卷专访  1970-01-01   \n",
       "1       Ardha Matra第5卷两次采访或印地语会谈  1970-01-01   \n",
       "2   身份不明的印地语谈话（在Swadhisthana上提取）  1970-01-01   \n",
       "3  身份不明的印地语谈话（Agnya Chakra上的提取物）  1970-01-01   \n",
       "4                        身份不明的谈话  1970-01-01   \n",
       "\n",
       "                                           title_std  \n",
       "0  1970-01-01 Ardha Matra Volume 2 Interview [Ard...  \n",
       "1  1970-01-01 Ardha Matra Volume 5 two interviews...  \n",
       "2  1970-01-01 Unidentified Hindi Talk (extract on...  \n",
       "3  1970-01-01 Unidentified Hindi Talk (Extract on...  \n",
       "4   1970-01-01 Unidentified talk [身份不明的谈话](机器翻译/未校对)  "
      ]
     },
     "execution_count": 525,
     "metadata": {},
     "output_type": "execute_result"
    }
   ],
   "source": [
    "df.head()"
   ]
  },
  {
   "cell_type": "code",
   "execution_count": null,
   "metadata": {
    "collapsed": true
   },
   "outputs": [],
   "source": []
  },
  {
   "cell_type": "code",
   "execution_count": null,
   "metadata": {
    "collapsed": true
   },
   "outputs": [],
   "source": []
  },
  {
   "cell_type": "code",
   "execution_count": 477,
   "metadata": {
    "collapsed": true
   },
   "outputs": [],
   "source": [
    "ids = df[df['Chs'].isnull() & df['eng'].notnull()].index"
   ]
  },
  {
   "cell_type": "code",
   "execution_count": 478,
   "metadata": {
    "collapsed": false
   },
   "outputs": [],
   "source": [
    "for i in ids:\n",
    "    content = df.loc[i, 'eng']\n",
    "    lines = split_to_limit_list(content)\n",
    "    print(i, len(lines))"
   ]
  },
  {
   "cell_type": "code",
   "execution_count": 449,
   "metadata": {
    "collapsed": false
   },
   "outputs": [],
   "source": [
    "content = df.loc[1234, 'eng']"
   ]
  },
  {
   "cell_type": "code",
   "execution_count": 450,
   "metadata": {
    "collapsed": false
   },
   "outputs": [],
   "source": [
    "def split_to_limit_list(content):\n",
    "    limit_length = 5000\n",
    "    lines = content.splitlines(keepends=True)\n",
    "    part_num = len(lines)\n",
    "    for i in range(part_num):\n",
    "        if len(lines[i]) > limit_length:\n",
    "            sentences = iter(re.split(r'([.])', lines[i]))\n",
    "            sen_list, current = [], next(sentences)\n",
    "            for sentence in sentences:\n",
    "                if len(current) + len(sentence) >= limit_length:\n",
    "                    sen_list.append(current)\n",
    "                    current = sentence\n",
    "                else:\n",
    "                    current += sentence\n",
    "            sen_list.append(current)\n",
    "            lines[i] = sen_list\n",
    "    return lines"
   ]
  },
  {
   "cell_type": "code",
   "execution_count": 451,
   "metadata": {
    "collapsed": true
   },
   "outputs": [],
   "source": [
    "def transl(raw_list):\n",
    "    translator = Translator(service_urls=['translate.google.cn'], timeout=300)\n",
    "    translations = translator.translate(raw_list, dest='zh-cn')\n",
    "    tran_list = []\n",
    "    for translation in translations:\n",
    "        if isinstance(translation, list):\n",
    "            origin_list, text_list = [], []\n",
    "            for tra in translation:\n",
    "                origin_list.append(tra.origin)\n",
    "                text_list.append(tra.text)\n",
    "                if '\\n' in tra.origin:\n",
    "                    text_list.append('\\n\\n')\n",
    "            tran_list.extend(origin_list)\n",
    "            tran_list.extend(text_list)\n",
    "        else:    \n",
    "            tran_list.append(translation.origin)\n",
    "            tran_list.append(translation.text)\n",
    "            if '\\n' in translation.origin:\n",
    "                    tran_list.append('\\n\\n')\n",
    "    trans_txt = ''.join(tran_list)\n",
    "    return trans_txt"
   ]
  },
  {
   "cell_type": "code",
   "execution_count": 454,
   "metadata": {
    "collapsed": false,
    "scrolled": true
   },
   "outputs": [],
   "source": [
    "lines = split_to_limit_list(content)\n",
    "txt = transl(lines[400:])"
   ]
  },
  {
   "cell_type": "code",
   "execution_count": 459,
   "metadata": {
    "collapsed": false
   },
   "outputs": [
    {
     "data": {
      "text/plain": [
       "['Shri Mataji: Yes, please.\\n',\n",
       " 'Yogi: Wenn Shri Mataji nach dem Puja in das Ashram gekommen ist haben wir das Kumkum von Ihren Fuessen gewaschen. Ich habe Seife genommen und Wasser und ich habe mir die Haende eingeseift und hab dann die Fuesse von Shri Mataji begonnen abzuwaschen. Und ich schau mir die Haende an: meine Haende waren kohlraben-schwarz. Wie wenn man in ein uraltes Motoroel hinein gegriffen haette. Und das Wasser war dann nicht rot, wie es normal ist, wenn man die Fuesse von Shri Mataji vom Kumkum abwaescht, sondern total eine schwarze Sauce, koennte man sagen. Und Shri Mataji hat erklaert, dass es all die Negativitaet war, die waehrend dieses Ekadasha Rudra Pujas zerstoert worden ist. Das war also ganz …\\n',\n",
       " 'Shri Mataji: Never had this kind of a black thing, never had.\\n',\n",
       " 'Yogi: It was harsh, so that I have made a joke, or something like this.\\n']"
      ]
     },
     "execution_count": 459,
     "metadata": {},
     "output_type": "execute_result"
    }
   ],
   "source": [
    "lines[398:402]"
   ]
  },
  {
   "cell_type": "code",
   "execution_count": null,
   "metadata": {
    "collapsed": true
   },
   "outputs": [],
   "source": []
  },
  {
   "cell_type": "code",
   "execution_count": null,
   "metadata": {
    "collapsed": true
   },
   "outputs": [],
   "source": []
  },
  {
   "cell_type": "code",
   "execution_count": null,
   "metadata": {
    "collapsed": false
   },
   "outputs": [],
   "source": [
    "len(lines)"
   ]
  },
  {
   "cell_type": "code",
   "execution_count": null,
   "metadata": {
    "collapsed": false
   },
   "outputs": [],
   "source": [
    "a.replace('🙂', '')"
   ]
  },
  {
   "cell_type": "code",
   "execution_count": 479,
   "metadata": {
    "collapsed": true
   },
   "outputs": [],
   "source": [
    "import pandas as pd\n",
    "import re\n",
    "df = pd.read_pickle('sahaja_df.pkl')"
   ]
  },
  {
   "cell_type": "code",
   "execution_count": null,
   "metadata": {
    "collapsed": false
   },
   "outputs": [],
   "source": [
    "print(df.loc[df['date']=='1992-0725', 'Chs'].item())"
   ]
  },
  {
   "cell_type": "code",
   "execution_count": null,
   "metadata": {
    "collapsed": false
   },
   "outputs": [],
   "source": [
    "df.loc[df['date']=='1992-0725', 'date'].item()\n",
    "df.loc[df['date']=='1992-0725', 'date'].values[0]"
   ]
  },
  {
   "cell_type": "code",
   "execution_count": null,
   "metadata": {
    "collapsed": false
   },
   "outputs": [],
   "source": [
    "test"
   ]
  },
  {
   "cell_type": "code",
   "execution_count": 474,
   "metadata": {
    "collapsed": false
   },
   "outputs": [],
   "source": [
    "test = df.loc[1243, 'eng']"
   ]
  },
  {
   "cell_type": "code",
   "execution_count": null,
   "metadata": {
    "collapsed": false,
    "scrolled": false
   },
   "outputs": [],
   "source": [
    "print(test)"
   ]
  },
  {
   "cell_type": "code",
   "execution_count": null,
   "metadata": {
    "collapsed": false
   },
   "outputs": [],
   "source": [
    "a = df.loc[1742, 'Chs']"
   ]
  },
  {
   "cell_type": "code",
   "execution_count": null,
   "metadata": {
    "collapsed": false
   },
   "outputs": [],
   "source": [
    "df.loc[1579, 'amruta_url']"
   ]
  },
  {
   "cell_type": "code",
   "execution_count": null,
   "metadata": {
    "collapsed": false
   },
   "outputs": [],
   "source": [
    "print(a)"
   ]
  },
  {
   "cell_type": "code",
   "execution_count": 480,
   "metadata": {
    "collapsed": false
   },
   "outputs": [
    {
     "data": {
      "text/plain": [
       "date           0\n",
       "during         0\n",
       "location       0\n",
       "title          0\n",
       "url            0\n",
       "amruta_url     0\n",
       "git_url        0\n",
       "youtube_url    0\n",
       "youku_url      0\n",
       "eng            0\n",
       "Chs            0\n",
       "dtype: int64"
      ]
     },
     "execution_count": 480,
     "metadata": {},
     "output_type": "execute_result"
    }
   ],
   "source": [
    "df[df['Chs'].isnull() & df['eng'].notnull()].count()"
   ]
  },
  {
   "cell_type": "code",
   "execution_count": 432,
   "metadata": {
    "collapsed": false
   },
   "outputs": [
    {
     "data": {
      "text/plain": [
       "7"
      ]
     },
     "execution_count": 432,
     "metadata": {},
     "output_type": "execute_result"
    }
   ],
   "source": [
    "len(df[df['Chs'].isnull() & df['eng'].notnull()].index)"
   ]
  },
  {
   "cell_type": "code",
   "execution_count": 434,
   "metadata": {
    "collapsed": false
   },
   "outputs": [
    {
     "data": {
      "text/plain": [
       "Int64Index([511, 566, 681, 1232, 1234, 1243, 1882], dtype='int64')"
      ]
     },
     "execution_count": 434,
     "metadata": {},
     "output_type": "execute_result"
    }
   ],
   "source": [
    "df[df['Chs'].isnull() & df['eng'].notnull()].index"
   ]
  },
  {
   "cell_type": "code",
   "execution_count": null,
   "metadata": {
    "collapsed": true
   },
   "outputs": [],
   "source": []
  },
  {
   "cell_type": "code",
   "execution_count": null,
   "metadata": {
    "collapsed": true
   },
   "outputs": [],
   "source": []
  },
  {
   "cell_type": "code",
   "execution_count": null,
   "metadata": {
    "collapsed": true
   },
   "outputs": [],
   "source": []
  },
  {
   "cell_type": "code",
   "execution_count": null,
   "metadata": {
    "collapsed": true
   },
   "outputs": [],
   "source": []
  },
  {
   "cell_type": "code",
   "execution_count": null,
   "metadata": {
    "collapsed": false
   },
   "outputs": [],
   "source": [
    "df.loc[df['eng'].notnull(), 'Chs'].isnull().sum()"
   ]
  },
  {
   "cell_type": "code",
   "execution_count": null,
   "metadata": {
    "collapsed": true
   },
   "outputs": [],
   "source": []
  },
  {
   "cell_type": "code",
   "execution_count": 484,
   "metadata": {
    "collapsed": false
   },
   "outputs": [],
   "source": [
    "l = 'They are one better than the other. Nothing to choose. '"
   ]
  },
  {
   "cell_type": "code",
   "execution_count": 485,
   "metadata": {
    "collapsed": false
   },
   "outputs": [],
   "source": [
    "from googletrans import Translator\n",
    "translator = Translator(service_urls=['translate.google.cn'])\n",
    "translations = translator.translate(l, dest='zh-cn')"
   ]
  },
  {
   "cell_type": "code",
   "execution_count": 486,
   "metadata": {
    "collapsed": false
   },
   "outputs": [
    {
     "data": {
      "text/plain": [
       "'他们比另一个更好。没什么好选择的。'"
      ]
     },
     "execution_count": 486,
     "metadata": {},
     "output_type": "execute_result"
    }
   ],
   "source": [
    "translations.text"
   ]
  },
  {
   "cell_type": "code",
   "execution_count": null,
   "metadata": {
    "collapsed": true
   },
   "outputs": [],
   "source": []
  },
  {
   "cell_type": "code",
   "execution_count": null,
   "metadata": {
    "collapsed": false,
    "scrolled": true
   },
   "outputs": [],
   "source": [
    "len(lines)"
   ]
  },
  {
   "cell_type": "code",
   "execution_count": null,
   "metadata": {
    "collapsed": false
   },
   "outputs": [],
   "source": [
    "len(lines[1])"
   ]
  },
  {
   "cell_type": "code",
   "execution_count": null,
   "metadata": {
    "collapsed": true
   },
   "outputs": [],
   "source": []
  },
  {
   "cell_type": "code",
   "execution_count": null,
   "metadata": {
    "collapsed": true
   },
   "outputs": [],
   "source": []
  },
  {
   "cell_type": "code",
   "execution_count": null,
   "metadata": {
    "collapsed": true
   },
   "outputs": [],
   "source": [
    "txt = ['how', 'are', ['how are you', 'who are you']]"
   ]
  },
  {
   "cell_type": "code",
   "execution_count": null,
   "metadata": {
    "collapsed": false
   },
   "outputs": [],
   "source": []
  },
  {
   "cell_type": "code",
   "execution_count": null,
   "metadata": {
    "collapsed": false
   },
   "outputs": [],
   "source": [
    "translations[0].text"
   ]
  },
  {
   "cell_type": "code",
   "execution_count": null,
   "metadata": {
    "collapsed": true
   },
   "outputs": [],
   "source": []
  },
  {
   "cell_type": "code",
   "execution_count": null,
   "metadata": {
    "collapsed": true
   },
   "outputs": [],
   "source": []
  },
  {
   "cell_type": "code",
   "execution_count": null,
   "metadata": {
    "collapsed": true
   },
   "outputs": [],
   "source": []
  },
  {
   "cell_type": "code",
   "execution_count": null,
   "metadata": {
    "collapsed": false
   },
   "outputs": [],
   "source": [
    "a = test.split('\\n')"
   ]
  },
  {
   "cell_type": "code",
   "execution_count": null,
   "metadata": {
    "collapsed": false
   },
   "outputs": [],
   "source": [
    "len(a)"
   ]
  },
  {
   "cell_type": "code",
   "execution_count": null,
   "metadata": {
    "collapsed": false
   },
   "outputs": [],
   "source": [
    "for i in a:\n",
    "    print(len(i))"
   ]
  },
  {
   "cell_type": "code",
   "execution_count": null,
   "metadata": {
    "collapsed": false
   },
   "outputs": [],
   "source": [
    "b = a[1]"
   ]
  },
  {
   "cell_type": "code",
   "execution_count": null,
   "metadata": {
    "collapsed": false
   },
   "outputs": [],
   "source": [
    "c = b.split('.')"
   ]
  },
  {
   "cell_type": "code",
   "execution_count": null,
   "metadata": {
    "collapsed": false
   },
   "outputs": [],
   "source": [
    "len(c)"
   ]
  },
  {
   "cell_type": "code",
   "execution_count": null,
   "metadata": {
    "collapsed": false
   },
   "outputs": [],
   "source": [
    "for i in c:\n",
    "    print(len(i))"
   ]
  },
  {
   "cell_type": "code",
   "execution_count": null,
   "metadata": {
    "collapsed": false
   },
   "outputs": [],
   "source": [
    "# df.loc[df['url']==df['amruta_url'], 'amruta_url'] = None\n",
    "\n",
    "# df.loc[df['git_url'].str.len()==0, 'git_url'] = None\n",
    "\n",
    "# df.loc[df['youtube_url'].str.len()==0, 'youtube_url'] = None\n",
    "\n",
    "# df.loc[df['youku_url'].str.len()==0, 'youku_url'] = None\n",
    "\n",
    "# df.loc[df['eng'].str.len()==0, 'eng'] = None\n",
    "\n",
    "# df['Chs'] = None\n",
    "\n",
    "# df.to_pickle('sahaja_df.pkl')"
   ]
  },
  {
   "cell_type": "code",
   "execution_count": null,
   "metadata": {
    "collapsed": false
   },
   "outputs": [],
   "source": [
    "df[df['Chs'].isnull() & df['eng'].notnull()].count()"
   ]
  },
  {
   "cell_type": "code",
   "execution_count": null,
   "metadata": {
    "collapsed": false
   },
   "outputs": [],
   "source": [
    "df['eng'].notnull().sum()"
   ]
  },
  {
   "cell_type": "code",
   "execution_count": null,
   "metadata": {
    "collapsed": false
   },
   "outputs": [],
   "source": [
    "df[df['eng'].str.len()>0].count()"
   ]
  },
  {
   "cell_type": "code",
   "execution_count": null,
   "metadata": {
    "collapsed": false
   },
   "outputs": [],
   "source": [
    "df['amruta_url'].notnull().sum()"
   ]
  },
  {
   "cell_type": "code",
   "execution_count": null,
   "metadata": {
    "collapsed": false,
    "scrolled": true
   },
   "outputs": [],
   "source": [
    "df[df['eng'].str.len()==0]"
   ]
  },
  {
   "cell_type": "code",
   "execution_count": null,
   "metadata": {
    "collapsed": false
   },
   "outputs": [],
   "source": [
    "df[df['url']==df['amruta_url']]"
   ]
  },
  {
   "cell_type": "code",
   "execution_count": null,
   "metadata": {
    "collapsed": false,
    "scrolled": false
   },
   "outputs": [],
   "source": [
    "df_eng = df[df['eng'].notnull()]\n",
    "for i in range(100, 1825, 100):\n",
    "    print(df_eng.iloc[i, 5])\n",
    "    print(df_eng.iloc[i, 9])"
   ]
  },
  {
   "cell_type": "code",
   "execution_count": null,
   "metadata": {
    "collapsed": true
   },
   "outputs": [],
   "source": []
  },
  {
   "cell_type": "code",
   "execution_count": null,
   "metadata": {
    "collapsed": true
   },
   "outputs": [],
   "source": []
  },
  {
   "cell_type": "code",
   "execution_count": null,
   "metadata": {
    "collapsed": false,
    "scrolled": true
   },
   "outputs": [],
   "source": []
  },
  {
   "cell_type": "code",
   "execution_count": null,
   "metadata": {
    "collapsed": true
   },
   "outputs": [],
   "source": []
  },
  {
   "cell_type": "code",
   "execution_count": null,
   "metadata": {
    "collapsed": true
   },
   "outputs": [],
   "source": []
  },
  {
   "cell_type": "code",
   "execution_count": null,
   "metadata": {
    "collapsed": true
   },
   "outputs": [],
   "source": []
  },
  {
   "cell_type": "code",
   "execution_count": null,
   "metadata": {
    "collapsed": false
   },
   "outputs": [],
   "source": [
    "from pathlib import Path\n",
    "\n",
    "path_s = 'D:/BaiduYunDownload/sahaja own/transcripts_and_translations-master'\n",
    "p = Path(path_s)\n",
    "\n",
    "files = p.rglob('*.en')\n",
    "\n",
    "A = set(i.name for i in files)\n",
    "\n",
    "len(A)"
   ]
  },
  {
   "cell_type": "code",
   "execution_count": null,
   "metadata": {
    "collapsed": false
   },
   "outputs": [],
   "source": [
    "import pandas as pd\n",
    "\n",
    "df = pd.read_pickle('sahaja_df.pkl')\n",
    "git_urls = df.loc[df['git_url'].notnull(), ['git_url']]\n",
    "\n",
    "git_urls['git_url2'] = git_urls['git_url'].str.extract(r'(\\d+.en)')\n",
    "\n",
    "B = set(git_urls['git_url2'].tolist())"
   ]
  },
  {
   "cell_type": "code",
   "execution_count": null,
   "metadata": {
    "collapsed": false
   },
   "outputs": [],
   "source": [
    "A - B"
   ]
  },
  {
   "cell_type": "code",
   "execution_count": null,
   "metadata": {
    "collapsed": false
   },
   "outputs": [],
   "source": [
    "df[df['date'] == '1979-1220']"
   ]
  },
  {
   "cell_type": "code",
   "execution_count": null,
   "metadata": {
    "collapsed": false
   },
   "outputs": [],
   "source": [
    "df[df['amruta_url']=='https://www.amruta.org/1986/12/25/christmas-puja-pune-1986/']"
   ]
  },
  {
   "cell_type": "code",
   "execution_count": null,
   "metadata": {
    "collapsed": false
   },
   "outputs": [],
   "source": [
    "df[df['amruta_url'].isnull()]"
   ]
  },
  {
   "cell_type": "code",
   "execution_count": null,
   "metadata": {
    "collapsed": true
   },
   "outputs": [],
   "source": [
    "import pandas as pd\n",
    "\n",
    "sahaja_df = pd.read_pickle('sahaja_df.pkl')"
   ]
  },
  {
   "cell_type": "code",
   "execution_count": null,
   "metadata": {
    "collapsed": false
   },
   "outputs": [],
   "source": [
    "sahaja_df.loc[sahaja_df['eng'].notnull(), 'Chs'].isnull().sum()"
   ]
  },
  {
   "cell_type": "code",
   "execution_count": null,
   "metadata": {
    "collapsed": false,
    "scrolled": true
   },
   "outputs": [],
   "source": [
    "sahaja_df[sahaja_df['Chs'].isnull() & sahaja_df['eng'].notnull()]"
   ]
  },
  {
   "cell_type": "code",
   "execution_count": null,
   "metadata": {
    "collapsed": true
   },
   "outputs": [],
   "source": []
  },
  {
   "cell_type": "code",
   "execution_count": null,
   "metadata": {
    "collapsed": true
   },
   "outputs": [],
   "source": []
  },
  {
   "cell_type": "code",
   "execution_count": null,
   "metadata": {
    "collapsed": false
   },
   "outputs": [],
   "source": [
    "dfn = df.loc[df['eng'].notnull()]"
   ]
  },
  {
   "cell_type": "code",
   "execution_count": null,
   "metadata": {
    "collapsed": false
   },
   "outputs": [],
   "source": [
    "dfn[dfn['eng'].str.contains('🙂')]"
   ]
  },
  {
   "cell_type": "code",
   "execution_count": null,
   "metadata": {
    "collapsed": false
   },
   "outputs": [],
   "source": [
    "df.loc[[529, 575, 2021], 'eng'] = df.loc[[529, 575, 2021], 'eng'].map(lambda e: e.replace('🙂', ''))"
   ]
  },
  {
   "cell_type": "code",
   "execution_count": null,
   "metadata": {
    "collapsed": false
   },
   "outputs": [],
   "source": [
    "df.loc[[529, 575, 2021], 'eng'].str.len()"
   ]
  },
  {
   "cell_type": "code",
   "execution_count": null,
   "metadata": {
    "collapsed": false
   },
   "outputs": [],
   "source": [
    "df.loc[[529, 575, 2021], 'eng'].str.len()"
   ]
  },
  {
   "cell_type": "code",
   "execution_count": null,
   "metadata": {
    "collapsed": true
   },
   "outputs": [],
   "source": [
    "df.to_pickle('sahaja_df.pkl')"
   ]
  },
  {
   "cell_type": "code",
   "execution_count": null,
   "metadata": {
    "collapsed": false
   },
   "outputs": [],
   "source": [
    "df.iloc[:10].to_excel('test111.xlsx')"
   ]
  },
  {
   "cell_type": "markdown",
   "metadata": {
    "collapsed": true
   },
   "source": [
    "# 18部往世书的内容概述Puranas.txt"
   ]
  },
  {
   "cell_type": "code",
   "execution_count": 56,
   "metadata": {
    "collapsed": true
   },
   "outputs": [],
   "source": [
    "import pandas as pd"
   ]
  },
  {
   "cell_type": "code",
   "execution_count": 57,
   "metadata": {
    "collapsed": true
   },
   "outputs": [],
   "source": [
    "f = open('18部往世书的内容概述Puranas.txt', 'r', encoding='utf-8')"
   ]
  },
  {
   "cell_type": "code",
   "execution_count": 58,
   "metadata": {
    "collapsed": false
   },
   "outputs": [],
   "source": [
    "lines = f.readlines()"
   ]
  },
  {
   "cell_type": "code",
   "execution_count": 59,
   "metadata": {
    "collapsed": true
   },
   "outputs": [],
   "source": [
    "sahaja_df = pd.DataFrame({'eng': lines})"
   ]
  },
  {
   "cell_type": "code",
   "execution_count": 60,
   "metadata": {
    "collapsed": false
   },
   "outputs": [],
   "source": [
    "sahaja_df['chs'] = None"
   ]
  },
  {
   "cell_type": "code",
   "execution_count": 61,
   "metadata": {
    "collapsed": false
   },
   "outputs": [
    {
     "data": {
      "text/plain": [
       "6993     3442\n",
       "10177    2853\n",
       "7197     2831\n",
       "Name: eng, dtype: int64"
      ]
     },
     "execution_count": 61,
     "metadata": {},
     "output_type": "execute_result"
    }
   ],
   "source": [
    "sahaja_df['eng'].str.len().nlargest(3)"
   ]
  },
  {
   "cell_type": "code",
   "execution_count": 62,
   "metadata": {
    "collapsed": true
   },
   "outputs": [],
   "source": [
    "sahaja_df.to_pickle('Puranas.pkl')"
   ]
  },
  {
   "cell_type": "code",
   "execution_count": 67,
   "metadata": {
    "collapsed": true
   },
   "outputs": [],
   "source": [
    "sahaja_df = pd.read_pickle('Puranas.pkl')"
   ]
  },
  {
   "cell_type": "code",
   "execution_count": 68,
   "metadata": {
    "collapsed": false,
    "scrolled": true
   },
   "outputs": [
    {
     "data": {
      "text/html": [
       "<div>\n",
       "<style scoped>\n",
       "    .dataframe tbody tr th:only-of-type {\n",
       "        vertical-align: middle;\n",
       "    }\n",
       "\n",
       "    .dataframe tbody tr th {\n",
       "        vertical-align: top;\n",
       "    }\n",
       "\n",
       "    .dataframe thead th {\n",
       "        text-align: right;\n",
       "    }\n",
       "</style>\n",
       "<table border=\"1\" class=\"dataframe\">\n",
       "  <thead>\n",
       "    <tr style=\"text-align: right;\">\n",
       "      <th></th>\n",
       "      <th>eng</th>\n",
       "      <th>chs</th>\n",
       "    </tr>\n",
       "  </thead>\n",
       "  <tbody>\n",
       "  </tbody>\n",
       "</table>\n",
       "</div>"
      ],
      "text/plain": [
       "Empty DataFrame\n",
       "Columns: [eng, chs]\n",
       "Index: []"
      ]
     },
     "execution_count": 68,
     "metadata": {},
     "output_type": "execute_result"
    }
   ],
   "source": [
    "sahaja_df[sahaja_df['chs'].isnull() & sahaja_df['eng'].notnull()]"
   ]
  },
  {
   "cell_type": "code",
   "execution_count": 71,
   "metadata": {
    "collapsed": false
   },
   "outputs": [],
   "source": [
    "sahaja_df['chs'] = sahaja_df['chs'].replace('\\n\\n\\n', '\\n')"
   ]
  },
  {
   "cell_type": "code",
   "execution_count": 76,
   "metadata": {
    "collapsed": false
   },
   "outputs": [],
   "source": [
    "saha_list = sahaja_df['chs'].tolist()"
   ]
  },
  {
   "cell_type": "code",
   "execution_count": 79,
   "metadata": {
    "collapsed": true
   },
   "outputs": [],
   "source": [
    "f = open('18部往世书的内容概述Puranas(机器翻译).txt', 'w', encoding='utf-8')"
   ]
  },
  {
   "cell_type": "code",
   "execution_count": 80,
   "metadata": {
    "collapsed": false
   },
   "outputs": [],
   "source": [
    "f.writelines(saha_list)"
   ]
  },
  {
   "cell_type": "code",
   "execution_count": 81,
   "metadata": {
    "collapsed": true
   },
   "outputs": [],
   "source": [
    "f.close()"
   ]
  },
  {
   "cell_type": "code",
   "execution_count": 2,
   "metadata": {
    "collapsed": false
   },
   "outputs": [
    {
     "data": {
      "text/plain": [
       "(2340, 12)"
      ]
     },
     "execution_count": 2,
     "metadata": {},
     "output_type": "execute_result"
    }
   ],
   "source": [
    "df.shape"
   ]
  },
  {
   "cell_type": "code",
   "execution_count": 5,
   "metadata": {
    "collapsed": false
   },
   "outputs": [
    {
     "data": {
      "text/html": [
       "<div>\n",
       "<style scoped>\n",
       "    .dataframe tbody tr th:only-of-type {\n",
       "        vertical-align: middle;\n",
       "    }\n",
       "\n",
       "    .dataframe tbody tr th {\n",
       "        vertical-align: top;\n",
       "    }\n",
       "\n",
       "    .dataframe thead th {\n",
       "        text-align: right;\n",
       "    }\n",
       "</style>\n",
       "<table border=\"1\" class=\"dataframe\">\n",
       "  <thead>\n",
       "    <tr style=\"text-align: right;\">\n",
       "      <th></th>\n",
       "      <th>date</th>\n",
       "      <th>during</th>\n",
       "      <th>location</th>\n",
       "      <th>title</th>\n",
       "      <th>url</th>\n",
       "      <th>amruta_url</th>\n",
       "      <th>git_url</th>\n",
       "      <th>youtube_url</th>\n",
       "      <th>youku_url</th>\n",
       "      <th>eng</th>\n",
       "      <th>Chs</th>\n",
       "      <th>chs_title</th>\n",
       "    </tr>\n",
       "  </thead>\n",
       "  <tbody>\n",
       "    <tr>\n",
       "      <th>0</th>\n",
       "      <td>1970-0101</td>\n",
       "      <td>26′</td>\n",
       "      <td>[Hindi] City Unknown (India)</td>\n",
       "      <td>Ardha Matra Volume 2 Interview</td>\n",
       "      <td>https://www.amruta.org/?p=12254</td>\n",
       "      <td>https://www.amruta.org/1970/01/01/ardha-matra-...</td>\n",
       "      <td>https://raw.githubusercontent.com/amrutadotorg...</td>\n",
       "      <td>https://www.youtube.com/embed/RQizS7hUMyw?rel=...</td>\n",
       "      <td>http://v.youku.com/v_show/id_XMTI2MDU4ODEwMA==...</td>\n",
       "      <td>Ardha Matra Volume 2 Interview Translation fro...</td>\n",
       "      <td>Ardha Matra Volume 2 Interview Translation fro...</td>\n",
       "      <td>Ardha Matra第2卷专访</td>\n",
       "    </tr>\n",
       "    <tr>\n",
       "      <th>1</th>\n",
       "      <td>1970-0101</td>\n",
       "      <td>17′</td>\n",
       "      <td>[Hindi] City Unknown (India)</td>\n",
       "      <td>Ardha Matra Volume 5 two interviews or talks i...</td>\n",
       "      <td>https://www.amruta.org/?p=12257</td>\n",
       "      <td>https://www.amruta.org/1970/01/01/ardha-matra-...</td>\n",
       "      <td>https://raw.githubusercontent.com/amrutadotorg...</td>\n",
       "      <td>https://www.youtube.com/embed/hHf3T-9L3GE?rel=...</td>\n",
       "      <td>http://v.youku.com/v_show/id_XMTI2MDYxMzM5Ng==...</td>\n",
       "      <td>None</td>\n",
       "      <td>None</td>\n",
       "      <td>Ardha Matra第5卷两次采访或印地语会谈</td>\n",
       "    </tr>\n",
       "    <tr>\n",
       "      <th>2</th>\n",
       "      <td>1970-0101</td>\n",
       "      <td>6′</td>\n",
       "      <td>[Hindi] City Unknown (Location Unknown)</td>\n",
       "      <td>Unidentified Hindi Talk (extract on Swadhisthana)</td>\n",
       "      <td>https://www.amruta.org/?p=10564</td>\n",
       "      <td>https://www.amruta.org/1970/01/01/unidentified...</td>\n",
       "      <td>https://raw.githubusercontent.com/amrutadotorg...</td>\n",
       "      <td>https://www.youtube.com/embed/d03_RfQWKX4?rel=...</td>\n",
       "      <td>http://v.youku.com/v_show/id_XODkyOTY4MjQ0.html</td>\n",
       "      <td>Swadishthan Chakra.\\nThe quality of this Chakr...</td>\n",
       "      <td>Swadishthan Chakra.\\nSwadrishna Chakra\\n\\nThe ...</td>\n",
       "      <td>身份不明的印地语谈话（在Swadhisthana上提取）</td>\n",
       "    </tr>\n",
       "    <tr>\n",
       "      <th>3</th>\n",
       "      <td>1970-0101</td>\n",
       "      <td>10′</td>\n",
       "      <td>[Hindi] City Unknown (Location Unknown)</td>\n",
       "      <td>Unidentified Hindi Talk (Extract on Agnya Chakra)</td>\n",
       "      <td>https://www.amruta.org/?p=10565</td>\n",
       "      <td>https://www.amruta.org/1970/01/01/unidentified...</td>\n",
       "      <td>https://raw.githubusercontent.com/amrutadotorg...</td>\n",
       "      <td>https://www.youtube.com/embed/WYp69FtsQEQ?rel=...</td>\n",
       "      <td>http://v.youku.com/v_show/id_XODk5MDg2ODg4.html</td>\n",
       "      <td>None</td>\n",
       "      <td>None</td>\n",
       "      <td>身份不明的印地语谈话（Agnya Chakra上的提取物）</td>\n",
       "    </tr>\n",
       "    <tr>\n",
       "      <th>4</th>\n",
       "      <td>1970-0101</td>\n",
       "      <td>12′</td>\n",
       "      <td>City Unknown (Location Unknown)</td>\n",
       "      <td>Unidentified talk</td>\n",
       "      <td>https://www.amruta.org/?p=11418</td>\n",
       "      <td>https://www.amruta.org/1970/01/01/unidentified...</td>\n",
       "      <td>https://raw.githubusercontent.com/amrutadotorg...</td>\n",
       "      <td>None</td>\n",
       "      <td>None</td>\n",
       "      <td>unidentified talk\\n“Since you must know that I...</td>\n",
       "      <td>unidentified talk\\n身份不明的谈话\\n\\n“Since you must ...</td>\n",
       "      <td>身份不明的谈话</td>\n",
       "    </tr>\n",
       "  </tbody>\n",
       "</table>\n",
       "</div>"
      ],
      "text/plain": [
       "        date during                                 location  \\\n",
       "0  1970-0101    26′             [Hindi] City Unknown (India)   \n",
       "1  1970-0101    17′             [Hindi] City Unknown (India)   \n",
       "2  1970-0101     6′  [Hindi] City Unknown (Location Unknown)   \n",
       "3  1970-0101    10′  [Hindi] City Unknown (Location Unknown)   \n",
       "4  1970-0101    12′          City Unknown (Location Unknown)   \n",
       "\n",
       "                                               title  \\\n",
       "0                     Ardha Matra Volume 2 Interview   \n",
       "1  Ardha Matra Volume 5 two interviews or talks i...   \n",
       "2  Unidentified Hindi Talk (extract on Swadhisthana)   \n",
       "3  Unidentified Hindi Talk (Extract on Agnya Chakra)   \n",
       "4                                  Unidentified talk   \n",
       "\n",
       "                               url  \\\n",
       "0  https://www.amruta.org/?p=12254   \n",
       "1  https://www.amruta.org/?p=12257   \n",
       "2  https://www.amruta.org/?p=10564   \n",
       "3  https://www.amruta.org/?p=10565   \n",
       "4  https://www.amruta.org/?p=11418   \n",
       "\n",
       "                                          amruta_url  \\\n",
       "0  https://www.amruta.org/1970/01/01/ardha-matra-...   \n",
       "1  https://www.amruta.org/1970/01/01/ardha-matra-...   \n",
       "2  https://www.amruta.org/1970/01/01/unidentified...   \n",
       "3  https://www.amruta.org/1970/01/01/unidentified...   \n",
       "4  https://www.amruta.org/1970/01/01/unidentified...   \n",
       "\n",
       "                                             git_url  \\\n",
       "0  https://raw.githubusercontent.com/amrutadotorg...   \n",
       "1  https://raw.githubusercontent.com/amrutadotorg...   \n",
       "2  https://raw.githubusercontent.com/amrutadotorg...   \n",
       "3  https://raw.githubusercontent.com/amrutadotorg...   \n",
       "4  https://raw.githubusercontent.com/amrutadotorg...   \n",
       "\n",
       "                                         youtube_url  \\\n",
       "0  https://www.youtube.com/embed/RQizS7hUMyw?rel=...   \n",
       "1  https://www.youtube.com/embed/hHf3T-9L3GE?rel=...   \n",
       "2  https://www.youtube.com/embed/d03_RfQWKX4?rel=...   \n",
       "3  https://www.youtube.com/embed/WYp69FtsQEQ?rel=...   \n",
       "4                                               None   \n",
       "\n",
       "                                           youku_url  \\\n",
       "0  http://v.youku.com/v_show/id_XMTI2MDU4ODEwMA==...   \n",
       "1  http://v.youku.com/v_show/id_XMTI2MDYxMzM5Ng==...   \n",
       "2    http://v.youku.com/v_show/id_XODkyOTY4MjQ0.html   \n",
       "3    http://v.youku.com/v_show/id_XODk5MDg2ODg4.html   \n",
       "4                                               None   \n",
       "\n",
       "                                                 eng  \\\n",
       "0  Ardha Matra Volume 2 Interview Translation fro...   \n",
       "1                                               None   \n",
       "2  Swadishthan Chakra.\\nThe quality of this Chakr...   \n",
       "3                                               None   \n",
       "4  unidentified talk\\n“Since you must know that I...   \n",
       "\n",
       "                                                 Chs  \\\n",
       "0  Ardha Matra Volume 2 Interview Translation fro...   \n",
       "1                                               None   \n",
       "2  Swadishthan Chakra.\\nSwadrishna Chakra\\n\\nThe ...   \n",
       "3                                               None   \n",
       "4  unidentified talk\\n身份不明的谈话\\n\\n“Since you must ...   \n",
       "\n",
       "                       chs_title  \n",
       "0               Ardha Matra第2卷专访  \n",
       "1       Ardha Matra第5卷两次采访或印地语会谈  \n",
       "2   身份不明的印地语谈话（在Swadhisthana上提取）  \n",
       "3  身份不明的印地语谈话（Agnya Chakra上的提取物）  \n",
       "4                        身份不明的谈话  "
      ]
     },
     "execution_count": 5,
     "metadata": {},
     "output_type": "execute_result"
    }
   ],
   "source": [
    "df.head()"
   ]
  },
  {
   "cell_type": "code",
   "execution_count": 3,
   "metadata": {
    "collapsed": true
   },
   "outputs": [],
   "source": [
    "from googletrans import Translator"
   ]
  },
  {
   "cell_type": "code",
   "execution_count": 6,
   "metadata": {
    "collapsed": true
   },
   "outputs": [],
   "source": [
    "def google_translate(content):\n",
    "    try:\n",
    "        content_list = []\n",
    "        # proxy = get_proxy()\n",
    "        # proxies = {\"http\": \"http://{}\".format(proxy)}\n",
    "\n",
    "        for line in content:\n",
    "            print(line)\n",
    "            translator = Translator(service_urls=['translate.google.cn'], timeout=300)\n",
    "            translation = translator.translate(line, dest='zh-cn')\n",
    "            trans_txt = translation.text\n",
    "            content_list.append(line + trans_txt + '\\n\\n')\n",
    "        print(trans_txt)\n",
    "        return content_list\n",
    "    except Exception as e:\n",
    "        print(e)"
   ]
  },
  {
   "cell_type": "code",
   "execution_count": 7,
   "metadata": {
    "collapsed": false
   },
   "outputs": [
    {
     "name": "stdout",
     "output_type": "stream",
     "text": [
      "﻿From: Gregoire de Kalbermatten ‪<gregoire.dekalbermatten@googlemail.com>‬\n",
      "\n",
      "Date: Thu, Jan 29, 2015 at 2:45 PM\n",
      "\n",
      "Subject: Some words to share with my brothers and sisters\n",
      "\n",
      "\n",
      "\n",
      "\n",
      "\n",
      "Dear All,\n",
      "\n",
      " \n",
      "\n",
      "Please allow me to share these lines with you.\n",
      "\n",
      " \n",
      "\n",
      "As you may know from emails that have circulated around the world, I have been the target of a public attack. It is fuelled by misguided anger. The intensity and cruelty of the allegations against me reached a new level as a reaction to the release into the public domain of a 20 page letter written by Kalpana didi . Although this letter has been in the possession of the members of the Foundation and the CC since May 2014 it was not made public. This letter of Kalpana comments on the inheritance conflict separating the Family and other very serious matters. Although this should go without saying, I hereby state that I have nothing to do with Kalpana’s letter being made public.\n",
      "\n",
      " \n",
      "\n",
      "The slander, magnified by the extreme language used to describe me cannot go unanswered. Under normal circumstances I would not have discussed these matters.  Please feel free to distribute this text as the emails attacking me have gone around the world. When I see the intent to harm in these texts I do not recognize my reality or the reality of Sahaja Yoga. The allegations are hurtful. So be it. This is not the first time. One day over the world we will be friends, brothers and sisters again.\n",
      "\n",
      " \n",
      "\n",
      "Today, certain facts about the Family have been made public by the Family. This gives us the opportunity to establish a new maturity in the relationship of the Sangha with the Family of our Guru.\n",
      "\n",
      " \n",
      "\n",
      "The Family of our Guru\n",
      "\n",
      " \n",
      "\n",
      "The relationship between the Sangha and the Family of our Guru needs to mature. This Family is now involved in a legal conflict, in matters concerning the Testament and Will of Shri Mataji. This is not a frivolous quarrel. It is serious. This should not have been our concern. Today it is no longer possible to ignore it because the Family of Shri Mataji continues to influence Sahaja Yogis and to manage Sahaj institutions. As long as there is a lack of maturity in our sangha and the differences in the Family are not resolved - the collective will suffer. Distrust will reign. Rumours will spread; carried by unsuspecting yogis who may have been deceived into believing that one daughter of Shri Mataji is light and the other is darkness. The divisions in our collective are older than this conflict in the family, but this court case and the feelings it inspires certainly explain the new height of absurdity we have recently witnessed.\n",
      "\n",
      "\n",
      "\n",
      "We now know that all is not well in the Family. This may distress certain Sahaja Yogis but it should not challenge our faith. It may be harder for seekers and new people to understand why the Family is divided, but what this illustrates is that we are alone before God. This is true as a member of the Family and as Sahaja Yogis. Our spirit is watching us from within. Every step we take is watched. Every word we speak is heard and every thought we have is recorded. We are alone before God and His Shakti. There is only one truth and that is the experience of God’s presence in our being when we are in Sahasrara.\n",
      "\n",
      " \n",
      "\n",
      "Many Sahaja Yogis spent so many years with Shri Mataji and no longer worship Her today. This illustrates that no matter who we are, where we come from, what we have done and achieved, every day is a new beginning, in which the sadhaka needs to connect to his Mother. So although the divisions in the Family may be distressing - they should not destabilize us. We should in fact remove our attention from this matter, allow that conflict to take its course and take our responsibilities as disciples of Shri Mataji, which means that, notably, we should not turn a blind eye to what is going on. There are intimidations: yogis’ email accounts are now being hacked. The violence of the attacks against me is simply meant to silence the possibility of examining the true state of affairs.\n",
      "\n",
      " \n",
      "\n",
      "This is not a call to boycott the Family, to show them any disrespect or to cease from interacting with them. It is not a call to exclude them from joining in the worship of our Mother. But, in the same way that one matures when faced with adversity we, as a collective need to mature in our approach to the Family. We need to open our eyes and see things as they are. There was a day they were united through love. There was a day we were united through love. Let them find their path. Let us find ours; we are seekers, what do we seek?\n",
      "\n",
      " \n",
      "\n",
      "Sir CP Shrivastava, the husband of Shri Mataji\n",
      "\n",
      " \n",
      "\n",
      "I did not hate Sir CP. I do not hate him. My track record demonstrates that I came to his defense publicly when I felt some accusations against him were false. I spoke openly to him; with respect, but without fear. One day, he was sitting as usual next to Shri Mataji. Before leaving their presence I stood before him on my knees. I put my hands on his knees and speaking from my heart I told him that he had a glowing history of being a ruler and an administrator and a unique destiny as the husband of Shri Mataji. And I told him that his test in this life was to surrender the management of Sahaja Yoga to Shri Mataji.\n",
      "\n",
      " \n",
      "\n",
      "In 2005, Shri Mataji, with the full support of her husband, donated Her Intellectual Property rights to Her children and bestowed upon them the duty to protect and preserve this knowledge. Two years later Sir CP began to claim that the American Sahaja Yogis had conspired to defraud Shri Mataji of Her Intellectual Property. I made it clear to Sir that I would not follow him down this path. No American Sahaja Yogis conspired to steal Shri Mataji’s IP from Her. There is a report of 80 pages and 112 annexes that recounts this history, which has not circulated publicly.\n",
      "\n",
      " \n",
      "\n",
      "Some of the yogis who knew that Sir CP’s assertions were false refused to acknowledge this or to take a stand in defense of their brothers and sisters and this is why they have been called followers of Sir CP; not worshippers.\n",
      "\n",
      " \n",
      "\n",
      "In November 2009 NIPC voted on whether the IP should be transferred back to the family (as a for profit corporation) or should be kept in the possession of the collective. An overwhelming majority voted to protect it. Prior to this vote I went to Cabella with Wolfgang. We wrote a text which I read to Shri Mataji in front of Sir CP explaining what we were going to do in London where the vote took place and I even read to Shri Mataji the question we asked the vibrations to answer on this matter. In this context, it is important to note that Kalpana didi did not in any way add to the almost intolerable pressure we were being subject to by Sir CP in this context. Nor for that matter did Anand Varma. For their support during this time we were grateful.\n",
      "\n",
      " \n",
      "\n",
      "I wrote a letter in June 2011 in which I commented on many of these matters in the context of discussions, which were taking place around the Central Committee. I had no further interactions with Sir CP. I did become concerned when he wrote a letter to the world indicating that he wanted to exhume the body of our Guru but fortunately that storm soon passed.\n",
      "\n",
      " \n",
      "\n",
      "Sadly, the legacy of the ordeal that we faced on the IP issue remains very relevant today and continues to define the divisions that have grown in our collective as many Sahaj institutions have been split along the lines of those who chose to protect the IP and those who chose to give it back. \n",
      "\n",
      "\n",
      "\n",
      "We should not be cowed from asking the questions that explain the state of our community. As I said, the allegation that I hate Sir CP is false, but it is an easy and expedient way of explaining why I could not follow his lead and of discrediting the positions I and many other yogis have taken in our determination to remain faithful to what we understood to be the Will of Our Mother. \n",
      "\n",
      " \n",
      "\n",
      "Kalpana didi, the first daughter\n",
      "\n",
      " \n",
      "\n",
      "The idea that a conspiracy exists between Kalpana and myself is a tissue woven from projections and lies. It is so wrong to allege that I have interfered with family matters and that I have influenced Kalpana in any of the decisions she has taken concerning her family matters. I have not and never will be involved in the personal affairs of Shri Mataji's Family. The idea that I would have instrumentalized Kalpana through manipulation - to destroy Sir CP and Sadhana - because of my hatred for them is heinous and confirms that I am an object of extreme hate. All such allegations are hereby formally rejected.\n",
      "\n",
      " \n",
      "\n",
      "Such hate can only have been born from the court case separating the Family and the perception that I am an agent of the other side. The facts described in the 20 pages letter of Kalpana didi explain why she has been forced to take legal action.\n",
      "\n",
      " \n",
      "\n",
      "The interactions I have had with Kalpana didi have been cordial and few and far between.  She knows I did not agree with some positions she took and, I think, she is fine with it. Regarding Vashi I had spoken to both parties and from the outcome it is clear that none heeded my advice or similar advice other friends gave them.\n",
      "\n",
      " \n",
      "\n",
      "Some took exception to the fact that I interact with Kalpana didi. I maintain my right to speak with whomsoever I want. \n",
      "\n",
      " \n",
      "\n",
      "We all make mistakes, but I certainly do not see Kalpana didi as the quintessence of evil she is portrayed as being by some yogis, who blindly follow the persons on the other side of the divide that ended in the Inheritance court case.\n",
      "\n",
      " \n",
      "\n",
      "Sadhana didi, the second daughter\n",
      "\n",
      " \n",
      "\n",
      "I had friendly relationships with the second daughter of Shri Mataji until the disagreements with her father began.\n",
      "\n",
      " \n",
      "\n",
      "A call for accountability and transparency to the Board/Society of ISPS is not an accusation of theft. I have not said or intimated that Sadhana has stolen funds from the school in Dharamshala or from “sahaja yoga”. Over the last years, calls made to Sadhana are interpreted as a personal attack against her and reflect the siege mentality that has taken form.\n",
      "\n",
      " This perception is perhaps why our request to have an independent evaluation of the school in 2013 was blocked.  Indeed, the World Foundation in Cabella (from which I resigned last year: bad move for someone who aspires to control everything…) has a mandate for education in Sahaj. In this context many of us requested that an independent evaluation take place. We proposed that Robert Hunter (who had been principle in the school in the past and whom we felt Sadhana Varma could trust) lead it. Sadhana did not allow this to happen.\n",
      "\n",
      "What now regarding the daughters of Shri Mataji?\n",
      "\n",
      " \n",
      "\n",
      "It is true that Shri Mataji gave management positions to both Her daughters. Does this mean though, that they should hold onto them independently of the manner in which they perform their duties to the collective? Should they keep these positions while they are engaged in litigation? Are we as a collective mature enough to handle our institutions, schools and relations without being influenced by the conflict dividing the Family? No passion is required in debating such issues. Again, if we all mature as a collective, the dialogue will improve significantly.\n",
      "\n",
      " \n",
      "\n",
      "The Central Committee\n",
      "\n",
      "The facts well known by all those involved are these:  the CC process was led by several yogis and the Committee was launched through consultations, which started after Shri Mataji's instructions in July 2008. It was established with the feedback of over forty countries. Emails from Dubai had no influence on the CC formation. Its membership comes from three continents. We take decisions together. Texts are discussed collectively and different opinions on matters help shaping our views and communications. Amongst other things, the CC has promoted international pujas around the world (Brazil, UK, South Africa, Philippines, Thailand, China, Russia, Benin, USA, France etc.) and supported global initiatives.\n",
      "\n",
      "The school in Dharamshala\n",
      "\n",
      "Mary and Marcel were hired following the storm that rocked the school in 2013. We hoped that apart from ensuring the immediate welfare of the children they would be able to bring the structural change much needed to the school so as to anchor it in the auspiciousness of Shri Mataji's vision.\n",
      "\n",
      "After spending a year with the children and doing a great job, Mary and Marcel have acquired credibility that none of us had in the past, when we expressed our worries about the school (2012, 2013). In this respect, their observations and concerns regarding ISPS are significant and ought to have been appreciated and considered.\n",
      "\n",
      "During the entire time of the tenure of Marcel and Mary, I simply was not in touch with them. Sometime after Mary and Marcel were fired we interacted and Marcel in any event, chose to send out his own text.  There is no question of apologizing for interacting with them. I stand by the call for transparency and accountability. The insinuations that I may be the puppeteer of the concerns that have been expressed publicly by the parents, the Principal and the General Manager show contempt for the concerns they harbour.\n",
      "\n",
      "We are fully aware that Shri Mataji did not want parents to interfere with the school. She was directing it. Today Shri Mataji is in Her nirakar form. This does not mean that parents should \"interfere\" with the school. But parents were not asking for new curtains or furniture. They were worried by the out of control behaviour of some children. It is not fair to attempt to silence parents with Shri Mataji's holy words in context where the school has faced grave problems. Indeed, Mary and Marcel were precisely hired to bring a Sahaj balance to ISPS. It should come as no surprise then that their abrupt dismal renews widespread serious concerns. Let us not go into the “visa” issue that was the official justification of their firing.\n",
      "\n",
      "The Board/Society should not expect to receive the same level of surrender that yogis had for Shri Mataji.\n",
      "\n",
      "I feel that it would be a good idea to enlarge the Board/Society of the school with yogis who are universally trusted and respected, who bring professionalism in educational matters, and to associate Sahaja institutions in India. In a normal set up such suggestions, given the circumstances, would be seen as constructive.\n",
      "\n",
      "Money in Sahaja Yoga\n",
      "\n",
      " \n",
      "\n",
      "We said that family matters should have remained out of the bounds and attention of Sahaja Yogis. This is especially true of the Guru dakshina that was given to Shri Mataji. When it is given, it is given. We rejoiced in Her generosity and we always recognized our debt of gratitude to the Family who graciously shared so much of the precious time and attention of their Mother with all of us. But, at the same time we do not believe that Shri Mataji wanted us to put in place mechanisms in Sahaja Yoga to enrich Her family.\n",
      "\n",
      " \n",
      "\n",
      "More importantly, Sahaja yogis who enrich themselves through functions or roles in Sahaja Yoga betray the vision of Shri Mataji and will harm themselves.\n",
      "\n",
      " \n",
      "\n",
      "Australia\n",
      "\n",
      "I have never made blanket statements about the Australian collective worshipping the Family. I got several feedbacks and I read in emails (quite a coincidence) that respected yogis of the leadership group in Australia privately claims that Shri Mataji's powers have passed to Sadhana Varma. I made this point as, for years now, we had heard similar feedback before from other people on the manner some in their leadership exalt the status of the husband of our guru.  I have fond memories from Australia and I am sad if I am misrepresented and if my sayings are twisted.  The same applies for Russia.\n",
      "\n",
      " \n",
      "\n",
      "And to end…\n",
      "\n",
      " \n",
      "\n",
      "We cannot pretend that we have remained unaffected by the events described above but in the end we have ourselves to blame for our divisions.\n",
      "\n",
      " \n",
      "\n",
      "Evolving as a collective will only be possible when Sahaja Yogis assume their status as children of the Devi and stand on their own feet. \n",
      "\n",
      " \n",
      "\n",
      "Calls for holy wars disgraced other religions. Do they have their place in Vishwa Nirmala Dharma? Discretion is key, so is courage.\n",
      "\n",
      " \n",
      "\n",
      "Through all this, the collective awareness is rising.\n",
      "\n",
      " \n",
      "\n",
      "I bow with love and devotion to Shri Mataji and seek Her forgiveness,  \n",
      "\n",
      " \n",
      "\n",
      "Gregoire\n",
      "\n",
      "\n",
      "\n",
      "\n"
     ]
    }
   ],
   "source": [
    "f = open('Gregoire lettre.txt', 'r', encoding='utf-8')\n",
    "content = f.readlines()\n",
    "f.close()\n",
    "lines = google_translate(content)\n",
    "f = open('Gregoire lettre_trans.txt', 'w', encoding='utf-8')\n",
    "f.writelines(lines)\n",
    "f.close()"
   ]
  },
  {
   "cell_type": "code",
   "execution_count": 19,
   "metadata": {
    "collapsed": false
   },
   "outputs": [
    {
     "data": {
      "text/plain": [
       "50793"
      ]
     },
     "execution_count": 19,
     "metadata": {},
     "output_type": "execute_result"
    }
   ],
   "source": [
    "len(df_chs_out.loc[df_chs_out['date_std'] == '1973-12-09', 'Chs'].item())"
   ]
  },
  {
   "cell_type": "markdown",
   "metadata": {
    "collapsed": true
   },
   "source": [
    "# Amruta中文讲话"
   ]
  },
  {
   "cell_type": "code",
   "execution_count": 38,
   "metadata": {
    "collapsed": true
   },
   "outputs": [],
   "source": [
    "import pandas as pd\n",
    "import re\n",
    "df = pd.read_pickle('sahaja_cn_df.pkl')"
   ]
  },
  {
   "cell_type": "code",
   "execution_count": 39,
   "metadata": {
    "collapsed": false
   },
   "outputs": [],
   "source": [
    "df['date_std'] = df['date'].map(lambda e: '%s-%s-%s' %(e[0:4], e[5:7], e[7:9]))"
   ]
  },
  {
   "cell_type": "code",
   "execution_count": 40,
   "metadata": {
    "collapsed": false
   },
   "outputs": [
    {
     "name": "stderr",
     "output_type": "stream",
     "text": [
      "C:\\Program Files\\Anaconda3\\lib\\site-packages\\ipykernel\\__main__.py:3: SettingWithCopyWarning: \n",
      "A value is trying to be set on a copy of a slice from a DataFrame.\n",
      "Try using .loc[row_indexer,col_indexer] = value instead\n",
      "\n",
      "See the caveats in the documentation: http://pandas.pydata.org/pandas-docs/stable/indexing.html#indexing-view-versus-copy\n",
      "  app.launch_new_instance()\n",
      "C:\\Program Files\\Anaconda3\\lib\\site-packages\\ipykernel\\__main__.py:5: SettingWithCopyWarning: \n",
      "A value is trying to be set on a copy of a slice from a DataFrame.\n",
      "Try using .loc[row_indexer,col_indexer] = value instead\n",
      "\n",
      "See the caveats in the documentation: http://pandas.pydata.org/pandas-docs/stable/indexing.html#indexing-view-versus-copy\n"
     ]
    }
   ],
   "source": [
    "df_chs_out = df[['date_std', 'location', 'title', 'url', 'youtube_url', 'youku_url', 'Chs']]\n",
    "\n",
    "df_chs_out['id'] = df_chs_out.index\n",
    "\n",
    "df_chs_out['content_html'] = df_chs_out['Chs'].map(lambda e: ''.join(\"<p>%s</p>\" % line for line in e.splitlines(keepends=True)))\n",
    "\n",
    "df_chs_out = df_chs_out[['id', 'date_std', 'location', 'title', 'url', 'youtube_url', 'youku_url', 'content_html']]\n",
    "\n",
    "df_chs_out.to_pickle('sahaja_cn_translations_html.pkl')"
   ]
  },
  {
   "cell_type": "code",
   "execution_count": 41,
   "metadata": {
    "collapsed": false
   },
   "outputs": [
    {
     "data": {
      "text/plain": [
       "(147, 8)"
      ]
     },
     "execution_count": 41,
     "metadata": {},
     "output_type": "execute_result"
    }
   ],
   "source": [
    "df_chs_out.shape"
   ]
  },
  {
   "cell_type": "markdown",
   "metadata": {
    "collapsed": true
   },
   "source": [
    "# 导出为文本"
   ]
  },
  {
   "cell_type": "code",
   "execution_count": 6,
   "metadata": {
    "collapsed": true
   },
   "outputs": [],
   "source": [
    "import pandas as pd\n",
    "import re\n",
    "from pathlib import Path\n",
    "df = pd.read_pickle('sahaja_df.pkl')"
   ]
  },
  {
   "cell_type": "code",
   "execution_count": 7,
   "metadata": {
    "collapsed": false
   },
   "outputs": [],
   "source": [
    "df = df[df['Chs'].notnull()]"
   ]
  },
  {
   "cell_type": "code",
   "execution_count": 8,
   "metadata": {
    "collapsed": false
   },
   "outputs": [],
   "source": [
    "df['title_std'] = df['date']+ ' ' + df['title']+ ' [' +df['chs_title']+'](机器翻译_未校对)'"
   ]
  },
  {
   "cell_type": "code",
   "execution_count": 10,
   "metadata": {
    "collapsed": false
   },
   "outputs": [],
   "source": [
    "for i in df.itertuples():\n",
    "    title = i[13].replace(r'/', '_').replace('?', '').replace(':', '')\n",
    "    p = Path.cwd() / 'engchs' / '{}.txt'.format(title)\n",
    "    f = p.open('w', encoding='utf-8')\n",
    "    if i[6]:\n",
    "        f.write(i[6])\n",
    "        f.write('\\n')\n",
    "    if i[8]:\n",
    "        f.write(i[8]) \n",
    "        f.write('\\n')\n",
    "    if i[2]:\n",
    "        f.write(i[2])\n",
    "        f.write('\\n')\n",
    "    if i[9]:\n",
    "        f.write(i[9]) \n",
    "        f.write('\\n')\n",
    "    if any([i[6], i[8], i[9]]):\n",
    "        f.write('\\n')\n",
    "    f.write(i[11])\n",
    "    f.close()"
   ]
  },
  {
   "cell_type": "code",
   "execution_count": 11,
   "metadata": {
    "collapsed": false
   },
   "outputs": [
    {
     "data": {
      "text/html": [
       "<div>\n",
       "<style scoped>\n",
       "    .dataframe tbody tr th:only-of-type {\n",
       "        vertical-align: middle;\n",
       "    }\n",
       "\n",
       "    .dataframe tbody tr th {\n",
       "        vertical-align: top;\n",
       "    }\n",
       "\n",
       "    .dataframe thead th {\n",
       "        text-align: right;\n",
       "    }\n",
       "</style>\n",
       "<table border=\"1\" class=\"dataframe\">\n",
       "  <thead>\n",
       "    <tr style=\"text-align: right;\">\n",
       "      <th></th>\n",
       "      <th>date</th>\n",
       "      <th>during</th>\n",
       "      <th>location</th>\n",
       "      <th>title</th>\n",
       "      <th>url</th>\n",
       "      <th>amruta_url</th>\n",
       "      <th>git_url</th>\n",
       "      <th>youtube_url</th>\n",
       "      <th>youku_url</th>\n",
       "      <th>eng</th>\n",
       "      <th>Chs</th>\n",
       "      <th>chs_title</th>\n",
       "      <th>title_std</th>\n",
       "    </tr>\n",
       "  </thead>\n",
       "  <tbody>\n",
       "    <tr>\n",
       "      <th>0</th>\n",
       "      <td>1970-0101</td>\n",
       "      <td>26′</td>\n",
       "      <td>[Hindi] City Unknown (India)</td>\n",
       "      <td>Ardha Matra Volume 2 Interview</td>\n",
       "      <td>https://www.amruta.org/?p=12254</td>\n",
       "      <td>https://www.amruta.org/1970/01/01/ardha-matra-...</td>\n",
       "      <td>https://raw.githubusercontent.com/amrutadotorg...</td>\n",
       "      <td>https://www.youtube.com/embed/RQizS7hUMyw?rel=...</td>\n",
       "      <td>http://v.youku.com/v_show/id_XMTI2MDU4ODEwMA==...</td>\n",
       "      <td>Ardha Matra Volume 2 Interview Translation fro...</td>\n",
       "      <td>Ardha Matra Volume 2 Interview Translation fro...</td>\n",
       "      <td>Ardha Matra第2卷专访</td>\n",
       "      <td>1970-0101 Ardha Matra Volume 2 Interview [Ardh...</td>\n",
       "    </tr>\n",
       "    <tr>\n",
       "      <th>2</th>\n",
       "      <td>1970-0101</td>\n",
       "      <td>6′</td>\n",
       "      <td>[Hindi] City Unknown (Location Unknown)</td>\n",
       "      <td>Unidentified Hindi Talk (extract on Swadhisthana)</td>\n",
       "      <td>https://www.amruta.org/?p=10564</td>\n",
       "      <td>https://www.amruta.org/1970/01/01/unidentified...</td>\n",
       "      <td>https://raw.githubusercontent.com/amrutadotorg...</td>\n",
       "      <td>https://www.youtube.com/embed/d03_RfQWKX4?rel=...</td>\n",
       "      <td>http://v.youku.com/v_show/id_XODkyOTY4MjQ0.html</td>\n",
       "      <td>Swadishthan Chakra.\\nThe quality of this Chakr...</td>\n",
       "      <td>Swadishthan Chakra.\\nSwadrishna Chakra\\n\\nThe ...</td>\n",
       "      <td>身份不明的印地语谈话（在Swadhisthana上提取）</td>\n",
       "      <td>1970-0101 Unidentified Hindi Talk (extract on ...</td>\n",
       "    </tr>\n",
       "    <tr>\n",
       "      <th>4</th>\n",
       "      <td>1970-0101</td>\n",
       "      <td>12′</td>\n",
       "      <td>City Unknown (Location Unknown)</td>\n",
       "      <td>Unidentified talk</td>\n",
       "      <td>https://www.amruta.org/?p=11418</td>\n",
       "      <td>https://www.amruta.org/1970/01/01/unidentified...</td>\n",
       "      <td>https://raw.githubusercontent.com/amrutadotorg...</td>\n",
       "      <td>None</td>\n",
       "      <td>None</td>\n",
       "      <td>unidentified talk\\n“Since you must know that I...</td>\n",
       "      <td>unidentified talk\\n身份不明的谈话\\n\\n“Since you must ...</td>\n",
       "      <td>身份不明的谈话</td>\n",
       "      <td>1970-0101 Unidentified talk [身份不明的谈话](机器翻译_未校对)</td>\n",
       "    </tr>\n",
       "    <tr>\n",
       "      <th>6</th>\n",
       "      <td>1972-0601</td>\n",
       "      <td>60′</td>\n",
       "      <td>[Hindi] Mumbai (India)</td>\n",
       "      <td>Guru Purnima, Sahaja Yoga a New Discovery</td>\n",
       "      <td>https://www.amruta.org/?p=7534</td>\n",
       "      <td>https://www.amruta.org/1972/06/01/sahaja-yoga-...</td>\n",
       "      <td>https://raw.githubusercontent.com/amrutadotorg...</td>\n",
       "      <td>None</td>\n",
       "      <td>None</td>\n",
       "      <td>Guru Purnima Puja. Mumbay (India), 1 June 1972...</td>\n",
       "      <td>Guru Purnima Puja. Mumbay (India), 1 June 1972...</td>\n",
       "      <td>Guru Purnima，霎哈嘉瑜伽新发现</td>\n",
       "      <td>1972-0601 Guru Purnima, Sahaja Yoga a New Disc...</td>\n",
       "    </tr>\n",
       "    <tr>\n",
       "      <th>7</th>\n",
       "      <td>1973-0125</td>\n",
       "      <td>11′</td>\n",
       "      <td>[Hindi] Bordi (India)</td>\n",
       "      <td>Public Program</td>\n",
       "      <td>https://www.amruta.org/?p=11058</td>\n",
       "      <td>https://www.amruta.org/1973/01/25/public-progr...</td>\n",
       "      <td>https://raw.githubusercontent.com/amrutadotorg...</td>\n",
       "      <td>None</td>\n",
       "      <td>None</td>\n",
       "      <td>Public Program, Bordi (India), January 25th, 1...</td>\n",
       "      <td>Public Program, Bordi (India), January 25th, 1...</td>\n",
       "      <td>公共计划</td>\n",
       "      <td>1973-0125 Public Program [公共计划](机器翻译_未校对)</td>\n",
       "    </tr>\n",
       "    <tr>\n",
       "      <th>8</th>\n",
       "      <td>1973-0828</td>\n",
       "      <td>34′</td>\n",
       "      <td>Mumbai (India)</td>\n",
       "      <td>Shri Krishna Puja, Most Dynamic Power of Love</td>\n",
       "      <td>https://www.amruta.org/?p=4548</td>\n",
       "      <td>https://www.amruta.org/1973/08/28/shri-krishna...</td>\n",
       "      <td>https://raw.githubusercontent.com/amrutadotorg...</td>\n",
       "      <td>https://www.youtube.com/embed/HEs8KLsUuNE?rel=...</td>\n",
       "      <td>http://v.youku.com/v_show/id_XMTczMTMxNjIzNg==...</td>\n",
       "      <td>28 August 1973, Shri Krishna Puja, Most Dynami...</td>\n",
       "      <td>28 August 1973, Shri Krishna Puja, Most Dynami...</td>\n",
       "      <td>Shri Krishna Puja，最具活力的爱情力量</td>\n",
       "      <td>1973-0828 Shri Krishna Puja, Most Dynamic Powe...</td>\n",
       "    </tr>\n",
       "    <tr>\n",
       "      <th>9</th>\n",
       "      <td>1973-0903</td>\n",
       "      <td>58′</td>\n",
       "      <td>[Hindi] Mumbai (India)</td>\n",
       "      <td>Understand your importance (Hindi)</td>\n",
       "      <td>https://www.amruta.org/?p=8438</td>\n",
       "      <td>https://www.amruta.org/1973/09/03/understand-y...</td>\n",
       "      <td>https://raw.githubusercontent.com/amrutadotorg...</td>\n",
       "      <td>None</td>\n",
       "      <td>None</td>\n",
       "      <td>\\n\\n\\n\\nH. H. S H R I   M A T A J I   N I R M ...</td>\n",
       "      <td>H. H. S H R I   M A T A J I   N I R M A L A   ...</td>\n",
       "      <td>了解你的重要性（印地语）</td>\n",
       "      <td>1973-0903 Understand your importance (Hindi) [...</td>\n",
       "    </tr>\n",
       "    <tr>\n",
       "      <th>13</th>\n",
       "      <td>1973-1117</td>\n",
       "      <td>34′</td>\n",
       "      <td>[Hindi] New Delhi (India)</td>\n",
       "      <td>Public Program</td>\n",
       "      <td>https://www.amruta.org/?p=11051</td>\n",
       "      <td>https://www.amruta.org/1973/11/17/public-progr...</td>\n",
       "      <td>https://raw.githubusercontent.com/amrutadotorg...</td>\n",
       "      <td>https://www.youtube.com/embed/Fd5hO76B6o0?rel=...</td>\n",
       "      <td>None</td>\n",
       "      <td>Public Program, New Delhi (India), Hindi, Nove...</td>\n",
       "      <td>Public Program, New Delhi (India), Hindi, Nove...</td>\n",
       "      <td>公共计划</td>\n",
       "      <td>1973-1117 Public Program [公共计划](机器翻译_未校对)</td>\n",
       "    </tr>\n",
       "    <tr>\n",
       "      <th>14</th>\n",
       "      <td>1973-1125</td>\n",
       "      <td>43′</td>\n",
       "      <td>[Hindi] Mumbai (India)</td>\n",
       "      <td>Seven Chakras and their Deities, Paane ke baad</td>\n",
       "      <td>https://www.amruta.org/?p=8439</td>\n",
       "      <td>https://www.amruta.org/1973/11/25/seven-chakra...</td>\n",
       "      <td>https://raw.githubusercontent.com/amrutadotorg...</td>\n",
       "      <td>None</td>\n",
       "      <td>None</td>\n",
       "      <td>1973-11-25 Seven Chakras and their Deities (Pa...</td>\n",
       "      <td>1973-11-25 Seven Chakras and their Deities (Pa...</td>\n",
       "      <td>收到Seven Chakras和Thir DTS后</td>\n",
       "      <td>1973-1125 Seven Chakras and their Deities, Paa...</td>\n",
       "    </tr>\n",
       "    <tr>\n",
       "      <th>15</th>\n",
       "      <td>1973-1207</td>\n",
       "      <td>45′</td>\n",
       "      <td>[Hindi] Birla Kreeda Kendra, Mumbai (India)</td>\n",
       "      <td>Sahajyog ki Utapatti, Origin of Sahaj Yoga</td>\n",
       "      <td>https://www.amruta.org/?p=11047</td>\n",
       "      <td>https://www.amruta.org/1973/12/07/public-progr...</td>\n",
       "      <td>https://raw.githubusercontent.com/amrutadotorg...</td>\n",
       "      <td>None</td>\n",
       "      <td>None</td>\n",
       "      <td>1973-1207 Origin of Sahaj Yoga, Public Program...</td>\n",
       "      <td>1973-1207 Origin of Sahaj Yoga, Public Program...</td>\n",
       "      <td>Sahaja Yoga Ki Utpatti，霎哈嘉瑜伽的起源</td>\n",
       "      <td>1973-1207 Sahajyog ki Utapatti, Origin of Saha...</td>\n",
       "    </tr>\n",
       "    <tr>\n",
       "      <th>17</th>\n",
       "      <td>1973-1209</td>\n",
       "      <td>43′</td>\n",
       "      <td>[Hindi] Mumbai (India)</td>\n",
       "      <td>Public Program, Shri Dattatreya Jayanti</td>\n",
       "      <td>https://www.amruta.org/?p=11045</td>\n",
       "      <td>https://www.amruta.org/1973/12/09/public-progr...</td>\n",
       "      <td>https://raw.githubusercontent.com/amrutadotorg...</td>\n",
       "      <td>https://www.youtube.com/embed/-kqQwUDUmsw?rel=...</td>\n",
       "      <td>None</td>\n",
       "      <td>Public Program, Shri Dattatreya Jayanti (Hindi...</td>\n",
       "      <td>Public Program, Shri Dattatreya Jayanti (Hindi...</td>\n",
       "      <td>公共计划，Shri Dattatray Jayanti</td>\n",
       "      <td>1973-1209 Public Program, Shri Dattatreya Jaya...</td>\n",
       "    </tr>\n",
       "    <tr>\n",
       "      <th>18</th>\n",
       "      <td>1973-1222</td>\n",
       "      <td>44′</td>\n",
       "      <td>[Hindi] Nagpur (India)</td>\n",
       "      <td>Public Program</td>\n",
       "      <td>https://www.amruta.org/?p=11042</td>\n",
       "      <td>https://www.amruta.org/1973/12/22/public-progr...</td>\n",
       "      <td>https://raw.githubusercontent.com/amrutadotorg...</td>\n",
       "      <td>https://www.youtube.com/embed/jKKslmVfH2U?rel=...</td>\n",
       "      <td>None</td>\n",
       "      <td>Public Program (Hindi), Nagpur, Maharastra, 19...</td>\n",
       "      <td>Public Program (Hindi), Nagpur, Maharastra, 19...</td>\n",
       "      <td>公共计划</td>\n",
       "      <td>1973-1222 Public Program [公共计划](机器翻译_未校对)</td>\n",
       "    </tr>\n",
       "    <tr>\n",
       "      <th>20</th>\n",
       "      <td>1974-0326</td>\n",
       "      <td>36′</td>\n",
       "      <td>[Hindi] Birla Kreeda Kendra, Mumbai (India)</td>\n",
       "      <td>Public Program Day 2</td>\n",
       "      <td>https://www.amruta.org/?p=11038</td>\n",
       "      <td>https://www.amruta.org/1974/03/26/talk-at-birl...</td>\n",
       "      <td>https://raw.githubusercontent.com/amrutadotorg...</td>\n",
       "      <td>None</td>\n",
       "      <td>None</td>\n",
       "      <td>H.H. Shri Mataji Nirmala Devi\\n</td>\n",
       "      <td>H.H. Shri Mataji Nirmala Devi\\nH.H. Shri Mataj...</td>\n",
       "      <td>公共计划日2</td>\n",
       "      <td>1974-0326 Public Program Day 2 [公共计划日2](机器翻译_未校对)</td>\n",
       "    </tr>\n",
       "    <tr>\n",
       "      <th>21</th>\n",
       "      <td>1974-0327</td>\n",
       "      <td>74′</td>\n",
       "      <td>[Hindi] Birla Kreeda Kendra, Mumbai (India)</td>\n",
       "      <td>Public Program Day 3, Vibrations that is Love</td>\n",
       "      <td>https://www.amruta.org/?p=8437</td>\n",
       "      <td>https://www.amruta.org/1974/03/27/public-progr...</td>\n",
       "      <td>https://raw.githubusercontent.com/amrutadotorg...</td>\n",
       "      <td>None</td>\n",
       "      <td>None</td>\n",
       "      <td>1974-03-27 Public Program 3 at Birla Kreeda Ke...</td>\n",
       "      <td>1974-03-27 Public Program 3 at Birla Kreeda Ke...</td>\n",
       "      <td>公共计划第3天，充满爱的振动</td>\n",
       "      <td>1974-0327 Public Program Day 3, Vibrations tha...</td>\n",
       "    </tr>\n",
       "    <tr>\n",
       "      <th>23</th>\n",
       "      <td>1975-0120</td>\n",
       "      <td>58′</td>\n",
       "      <td>[Hindi] Mumbai (India)</td>\n",
       "      <td>Talk to Sahaja Yogis, Kshma Ki Shakti Ka Mahat...</td>\n",
       "      <td>https://www.amruta.org/?p=7466</td>\n",
       "      <td>https://www.amruta.org/1975/01/20/power-of-for...</td>\n",
       "      <td>https://raw.githubusercontent.com/amrutadotorg...</td>\n",
       "      <td>https://www.youtube.com/embed/CN7PRwAIv0U?rel=...</td>\n",
       "      <td>None</td>\n",
       "      <td>Talk to yogis. Mumbai (India), 20 January 1975...</td>\n",
       "      <td>Talk to yogis. Mumbai (India), 20 January 1975...</td>\n",
       "      <td>谈话是一种轻松的瑜伽，宽恕的力量，宽恕的力量的重要性</td>\n",
       "      <td>1975-0120 Talk to Sahaja Yogis, Kshma Ki Shakt...</td>\n",
       "    </tr>\n",
       "    <tr>\n",
       "      <th>25</th>\n",
       "      <td>1975-0122</td>\n",
       "      <td>32′</td>\n",
       "      <td>[Marathi] Mumbai (India)</td>\n",
       "      <td>Talk, Bholepana ani nirvicharitecha killa</td>\n",
       "      <td>https://www.amruta.org/?p=11128</td>\n",
       "      <td>https://www.amruta.org/1975/01/22/talk-bholepa...</td>\n",
       "      <td>https://raw.githubusercontent.com/amrutadotorg...</td>\n",
       "      <td>None</td>\n",
       "      <td>None</td>\n",
       "      <td>Talk, Bholepana ani nirvicharitecha killa \\nYe...</td>\n",
       "      <td>Talk, Bholepana ani nirvicharitecha killa \\n说话...</td>\n",
       "      <td>说话，天真和无人居住的堡垒</td>\n",
       "      <td>1975-0122 Talk, Bholepana ani nirvicharitecha ...</td>\n",
       "    </tr>\n",
       "    <tr>\n",
       "      <th>26</th>\n",
       "      <td>1975-0123</td>\n",
       "      <td>57′</td>\n",
       "      <td>[Hindi, Marathi] Mumbai (India)</td>\n",
       "      <td>Seminar</td>\n",
       "      <td>https://www.amruta.org/?p=8442</td>\n",
       "      <td>https://www.amruta.org/1975/01/23/seminar-mumb...</td>\n",
       "      <td>https://raw.githubusercontent.com/amrutadotorg...</td>\n",
       "      <td>None</td>\n",
       "      <td>None</td>\n",
       "      <td>1975-01-23 Seminar Mumbai, (Hindi)\\nH.H. Shri ...</td>\n",
       "      <td>1975-01-23 Seminar Mumbai, (Hindi)\\n1975-01-23...</td>\n",
       "      <td>研讨会</td>\n",
       "      <td>1975-0123 Seminar [研讨会](机器翻译_未校对)</td>\n",
       "    </tr>\n",
       "    <tr>\n",
       "      <th>27</th>\n",
       "      <td>1975-0125</td>\n",
       "      <td>45′</td>\n",
       "      <td>[Hindi] Mumbai (India)</td>\n",
       "      <td>Talk to Sahaja Yogis, Must listen every day</td>\n",
       "      <td>https://www.amruta.org/?p=7461</td>\n",
       "      <td>https://www.amruta.org/1975/01/25/must-listen-...</td>\n",
       "      <td>https://raw.githubusercontent.com/amrutadotorg...</td>\n",
       "      <td>https://www.youtube.com/embed/mkotc8-m3Ko?rel=...</td>\n",
       "      <td>None</td>\n",
       "      <td>Talk to yogis (Hindi). Mumbay (India), 25 Janu...</td>\n",
       "      <td>Talk to yogis (Hindi). Mumbay (India), 25 Janu...</td>\n",
       "      <td>和Sahaja Yogis交谈，每天都要听</td>\n",
       "      <td>1975-0125 Talk to Sahaja Yogis, Must listen ev...</td>\n",
       "    </tr>\n",
       "    <tr>\n",
       "      <th>28</th>\n",
       "      <td>1975-0202</td>\n",
       "      <td>46′</td>\n",
       "      <td>[Hindi] Mumbai (India)</td>\n",
       "      <td>Meditation and Prayer</td>\n",
       "      <td>https://www.amruta.org/?p=8441</td>\n",
       "      <td>https://www.amruta.org/1975/02/02/meditation-a...</td>\n",
       "      <td>https://raw.githubusercontent.com/amrutadotorg...</td>\n",
       "      <td>None</td>\n",
       "      <td>None</td>\n",
       "      <td>1975-02-02, Meditation and Prayer, Mumbai\\n</td>\n",
       "      <td>1975-02-02, Meditation and Prayer, Mumbai\\n197...</td>\n",
       "      <td>冥想和祈祷</td>\n",
       "      <td>1975-0202 Meditation and Prayer [冥想和祈祷](机器翻译_未校对)</td>\n",
       "    </tr>\n",
       "    <tr>\n",
       "      <th>30</th>\n",
       "      <td>1975-0209</td>\n",
       "      <td>11′</td>\n",
       "      <td>Mumbai (India)</td>\n",
       "      <td>Prayer to the Almighty</td>\n",
       "      <td>https://www.amruta.org/?p=5451</td>\n",
       "      <td>https://www.amruta.org/1975/02/09/prayer-to-th...</td>\n",
       "      <td>https://raw.githubusercontent.com/amrutadotorg...</td>\n",
       "      <td>None</td>\n",
       "      <td>None</td>\n",
       "      <td>Short prayer. Bombay (India), 9 February 1975....</td>\n",
       "      <td>Short prayer. Bombay (India), 9 February 1975....</td>\n",
       "      <td>向全能者祈祷</td>\n",
       "      <td>1975-0209 Prayer to the Almighty [向全能者祈祷](机器翻译...</td>\n",
       "    </tr>\n",
       "    <tr>\n",
       "      <th>32</th>\n",
       "      <td>1975-0301</td>\n",
       "      <td>0′</td>\n",
       "      <td>New Delhi (India)</td>\n",
       "      <td>Talk</td>\n",
       "      <td>https://www.amruta.org/?p=4552</td>\n",
       "      <td>https://www.amruta.org/1975/03/01/talk-at-new-...</td>\n",
       "      <td>https://raw.githubusercontent.com/amrutadotorg...</td>\n",
       "      <td>None</td>\n",
       "      <td>None</td>\n",
       "      <td>\\nTalk at New Delhi, 10 King George Avenue Mar...</td>\n",
       "      <td>Talk at New Delhi, 10 King George Avenue March...</td>\n",
       "      <td>谈论</td>\n",
       "      <td>1975-0301 Talk [谈论](机器翻译_未校对)</td>\n",
       "    </tr>\n",
       "    <tr>\n",
       "      <th>35</th>\n",
       "      <td>1975-0313</td>\n",
       "      <td>32′</td>\n",
       "      <td>[Hindi] City Unknown (India)</td>\n",
       "      <td>Talk, Clean your life</td>\n",
       "      <td>https://www.amruta.org/?p=11149</td>\n",
       "      <td>https://www.amruta.org/1975/03/13/talk/</td>\n",
       "      <td>https://raw.githubusercontent.com/amrutadotorg...</td>\n",
       "      <td>None</td>\n",
       "      <td>None</td>\n",
       "      <td>Talk, India, 1975-03-13\\nThose for whom it has...</td>\n",
       "      <td>Talk, India, 1975-03-13\\n谈话，印度，1975年3月13日\\n\\nT...</td>\n",
       "      <td>说说话，清洁你的生活</td>\n",
       "      <td>1975-0313 Talk, Clean your life [说说话，清洁你的生活](机...</td>\n",
       "    </tr>\n",
       "    <tr>\n",
       "      <th>37</th>\n",
       "      <td>1975-0318</td>\n",
       "      <td>6′</td>\n",
       "      <td>[Hindi] Bharatiya Vidya Bhavan, Mumbai (India)</td>\n",
       "      <td>Talk to Sahaja Yogis</td>\n",
       "      <td>https://www.amruta.org/?p=11140</td>\n",
       "      <td>https://www.amruta.org/1975/03/18/advice-at-bh...</td>\n",
       "      <td>https://raw.githubusercontent.com/amrutadotorg...</td>\n",
       "      <td>None</td>\n",
       "      <td>None</td>\n",
       "      <td>Talk to Sahaja Yogis\\nPlease cure this person’...</td>\n",
       "      <td>Talk to Sahaja Yogis\\n和Sahaja Yogis交谈\\n\\nPleas...</td>\n",
       "      <td>和Sahaja Yogis交谈</td>\n",
       "      <td>1975-0318 Talk to Sahaja Yogis [和Sahaja Yogis交...</td>\n",
       "    </tr>\n",
       "    <tr>\n",
       "      <th>38</th>\n",
       "      <td>1975-0329</td>\n",
       "      <td>26′</td>\n",
       "      <td>[Hindi] Mumbai (India)</td>\n",
       "      <td>Public Program, Science/Trigunatmika</td>\n",
       "      <td>https://www.amruta.org/?p=8443</td>\n",
       "      <td>https://www.amruta.org/1975/03/29/sciencetrigu...</td>\n",
       "      <td>https://raw.githubusercontent.com/amrutadotorg...</td>\n",
       "      <td>None</td>\n",
       "      <td>None</td>\n",
       "      <td>1975-03-29 Science/Trigunatmika (Hindi)\\n(Side...</td>\n",
       "      <td>1975-03-29 Science/Trigunatmika (Hindi)\\n1975-...</td>\n",
       "      <td>公共计划，科学/ Trigunatmika</td>\n",
       "      <td>1975-0329 Public Program, Science/Trigunatmika...</td>\n",
       "    </tr>\n",
       "    <tr>\n",
       "      <th>40</th>\n",
       "      <td>1975-0331</td>\n",
       "      <td>16′</td>\n",
       "      <td>[Hindi] Bharatiya Vidya Bhavan, Mumbai (India)</td>\n",
       "      <td>Talk to Sahaja Yogis</td>\n",
       "      <td>https://www.amruta.org/?p=11143</td>\n",
       "      <td>https://www.amruta.org/1975/03/31/advice-at-bh...</td>\n",
       "      <td>https://raw.githubusercontent.com/amrutadotorg...</td>\n",
       "      <td>None</td>\n",
       "      <td>None</td>\n",
       "      <td>Talk to Sahaja Yogis \\nPeople who had come ear...</td>\n",
       "      <td>Talk to Sahaja Yogis \\n和Sahaja Yogis交谈\\n\\nPeop...</td>\n",
       "      <td>和Sahaja Yogis交谈</td>\n",
       "      <td>1975-0331 Talk to Sahaja Yogis [和Sahaja Yogis交...</td>\n",
       "    </tr>\n",
       "    <tr>\n",
       "      <th>41</th>\n",
       "      <td>1975-1221</td>\n",
       "      <td>55′</td>\n",
       "      <td>[Hindi] Mumbai (India)</td>\n",
       "      <td>Keep the attention on yourself</td>\n",
       "      <td>https://www.amruta.org/?p=2940</td>\n",
       "      <td>https://www.amruta.org/1975/12/21/keep-the-att...</td>\n",
       "      <td>https://raw.githubusercontent.com/amrutadotorg...</td>\n",
       "      <td>None</td>\n",
       "      <td>None</td>\n",
       "      <td>Keep the attention on yourself, Bombay (India)...</td>\n",
       "      <td>Keep the attention on yourself, Bombay (India)...</td>\n",
       "      <td>注意自己</td>\n",
       "      <td>1975-1221 Keep the attention on yourself [注意自己...</td>\n",
       "    </tr>\n",
       "    <tr>\n",
       "      <th>43</th>\n",
       "      <td>1975-1222</td>\n",
       "      <td>71′</td>\n",
       "      <td>[Hindi] Mumbai (India)</td>\n",
       "      <td>Public Program, The Experience Of God’s Love, ...</td>\n",
       "      <td>https://www.amruta.org/?p=11147</td>\n",
       "      <td>https://www.amruta.org/1975/12/22/public-progr...</td>\n",
       "      <td>https://raw.githubusercontent.com/amrutadotorg...</td>\n",
       "      <td>None</td>\n",
       "      <td>None</td>\n",
       "      <td>Public Program, The Experience Of God’s Love, ...</td>\n",
       "      <td>Public Program, The Experience Of God’s Love, ...</td>\n",
       "      <td>公共计划，上帝的爱的经验，Prabhu Ki Prem Ka Anubhav</td>\n",
       "      <td>1975-1222 Public Program, The Experience Of Go...</td>\n",
       "    </tr>\n",
       "    <tr>\n",
       "      <th>44</th>\n",
       "      <td>1975-1223</td>\n",
       "      <td>40′</td>\n",
       "      <td>[Hindi] Mumbai (India)</td>\n",
       "      <td>Public Program, God’s Love, Parmatma Ka Prem, ...</td>\n",
       "      <td>https://www.amruta.org/?p=11145</td>\n",
       "      <td>https://www.amruta.org/1975/12/23/public-progr...</td>\n",
       "      <td>https://raw.githubusercontent.com/amrutadotorg...</td>\n",
       "      <td>None</td>\n",
       "      <td>None</td>\n",
       "      <td>God’s Love\\nTranslation from Hindi talk in Mum...</td>\n",
       "      <td>God’s Love\\n神的爱\\n\\nTranslation from Hindi talk...</td>\n",
       "      <td>Public Program，God's Love，Parmatma Ka Prem，Bal...</td>\n",
       "      <td>1975-1223 Public Program, God’s Love, Parmatma...</td>\n",
       "    </tr>\n",
       "    <tr>\n",
       "      <th>45</th>\n",
       "      <td>1975-1226</td>\n",
       "      <td>40′</td>\n",
       "      <td>[Hindi] Balmohan Vidyamandir, Mumbai (India)</td>\n",
       "      <td>Public Program</td>\n",
       "      <td>https://www.amruta.org/?p=19801</td>\n",
       "      <td>https://www.amruta.org/1975/12/26/public-progr...</td>\n",
       "      <td>https://raw.githubusercontent.com/amrutadotorg...</td>\n",
       "      <td>None</td>\n",
       "      <td>None</td>\n",
       "      <td>1975-1226 Program at Bal Mohan Vidya Mandir\\nI...</td>\n",
       "      <td>1975-1226 Program at Bal Mohan Vidya Mandir\\n1...</td>\n",
       "      <td>公共计划</td>\n",
       "      <td>1975-1226 Public Program [公共计划](机器翻译_未校对)</td>\n",
       "    </tr>\n",
       "    <tr>\n",
       "      <th>46</th>\n",
       "      <td>1976-0123</td>\n",
       "      <td>63′</td>\n",
       "      <td>New Delhi (India)</td>\n",
       "      <td>Description of Kundalini</td>\n",
       "      <td>https://www.amruta.org/?p=5460</td>\n",
       "      <td>https://www.amruta.org/1976/01/23/description-...</td>\n",
       "      <td>https://raw.githubusercontent.com/amrutadotorg...</td>\n",
       "      <td>None</td>\n",
       "      <td>None</td>\n",
       "      <td>Description of Kundalini. Delhi (India), 1976....</td>\n",
       "      <td>Description of Kundalini. Delhi (India), 1976....</td>\n",
       "      <td>昆达利尼的描述</td>\n",
       "      <td>1976-0123 Description of Kundalini [昆达利尼的描述](机...</td>\n",
       "    </tr>\n",
       "    <tr>\n",
       "      <th>...</th>\n",
       "      <td>...</td>\n",
       "      <td>...</td>\n",
       "      <td>...</td>\n",
       "      <td>...</td>\n",
       "      <td>...</td>\n",
       "      <td>...</td>\n",
       "      <td>...</td>\n",
       "      <td>...</td>\n",
       "      <td>...</td>\n",
       "      <td>...</td>\n",
       "      <td>...</td>\n",
       "      <td>...</td>\n",
       "      <td>...</td>\n",
       "    </tr>\n",
       "    <tr>\n",
       "      <th>2299</th>\n",
       "      <td>2003-0615</td>\n",
       "      <td>4′</td>\n",
       "      <td>Cabella Ligure (Italy)</td>\n",
       "      <td>Adi Shakti Puja</td>\n",
       "      <td>https://www.amruta.org/?p=1565</td>\n",
       "      <td>https://www.amruta.org/2003/06/15/after-adi-sh...</td>\n",
       "      <td>https://raw.githubusercontent.com/amrutadotorg...</td>\n",
       "      <td>None</td>\n",
       "      <td>http://v.youku.com/v_show/id_XNTk0NjUzNzcy.htm...</td>\n",
       "      <td>After the Adi Shakti Puja, Cabella Ligure, 15 ...</td>\n",
       "      <td>After the Adi Shakti Puja, Cabella Ligure, 15 ...</td>\n",
       "      <td>Adi Shakti Puja</td>\n",
       "      <td>2003-0615 Adi Shakti Puja [Adi Shakti Puja](机器...</td>\n",
       "    </tr>\n",
       "    <tr>\n",
       "      <th>2300</th>\n",
       "      <td>2003-0713</td>\n",
       "      <td>4′</td>\n",
       "      <td>Cabella Ligure (Italy)</td>\n",
       "      <td>Guru Puja, A very big responsibility</td>\n",
       "      <td>https://www.amruta.org/?p=2176</td>\n",
       "      <td>https://www.amruta.org/2003/07/13/guru-puja-2003/</td>\n",
       "      <td>https://raw.githubusercontent.com/amrutadotorg...</td>\n",
       "      <td>https://www.youtube.com/embed/585zDxrmk3I?rel=...</td>\n",
       "      <td>http://v.youku.com/v_show/id_XNTk2NTYyMDAw.htm...</td>\n",
       "      <td>Guru Puja. Cabella Ligure (Italy), 13 July 200...</td>\n",
       "      <td>Guru Puja. Cabella Ligure (Italy), 13 July 200...</td>\n",
       "      <td>Guru Puja，一个非常重要的责任</td>\n",
       "      <td>2003-0713 Guru Puja, A very big responsibility...</td>\n",
       "    </tr>\n",
       "    <tr>\n",
       "      <th>2301</th>\n",
       "      <td>2003-0810</td>\n",
       "      <td>35′</td>\n",
       "      <td>[Hindi] Pune (India)</td>\n",
       "      <td>Shri Krishna Puja</td>\n",
       "      <td>https://www.amruta.org/?p=2530</td>\n",
       "      <td>https://www.amruta.org/2003/08/10/shri-krishna...</td>\n",
       "      <td>https://raw.githubusercontent.com/amrutadotorg...</td>\n",
       "      <td>https://www.youtube.com/embed/V4aTeV_pUDs?rel=...</td>\n",
       "      <td>http://v.youku.com/v_show/id_XNTk4NjE1NzE2.html</td>\n",
       "      <td>Shri Krishna Puja (Hindi). Pune (India), 9 Aug...</td>\n",
       "      <td>Shri Krishna Puja (Hindi). Pune (India), 9 Aug...</td>\n",
       "      <td>Shri Krishna Puja</td>\n",
       "      <td>2003-0810 Shri Krishna Puja [Shri Krishna Puja...</td>\n",
       "    </tr>\n",
       "    <tr>\n",
       "      <th>2302</th>\n",
       "      <td>2003-0913</td>\n",
       "      <td>13′</td>\n",
       "      <td>Cabella Ligure (Italy)</td>\n",
       "      <td>Shri Ganesha Puja, They Are All Incarnations</td>\n",
       "      <td>https://www.amruta.org/?p=1391</td>\n",
       "      <td>https://www.amruta.org/2003/09/13/shri-ganesha...</td>\n",
       "      <td>https://raw.githubusercontent.com/amrutadotorg...</td>\n",
       "      <td>https://www.youtube.com/embed/ErbDbmgONNQ?rel=...</td>\n",
       "      <td>http://v.youku.com/v_show/id_XMTQ3MzcxMDQ0MA==...</td>\n",
       "      <td>Shri Ganesha Puja, Cabella Ligure, 13 Septembe...</td>\n",
       "      <td>Shri Ganesha Puja, Cabella Ligure, 13 Septembe...</td>\n",
       "      <td>Shri Ganesha Puja，他们都是化身</td>\n",
       "      <td>2003-0913 Shri Ganesha Puja, They Are All Inca...</td>\n",
       "    </tr>\n",
       "    <tr>\n",
       "      <th>2303</th>\n",
       "      <td>2003-0927</td>\n",
       "      <td>17′</td>\n",
       "      <td>Frankfurt (Germany)</td>\n",
       "      <td>Arrival and Talk</td>\n",
       "      <td>https://www.amruta.org/?p=10090</td>\n",
       "      <td>https://www.amruta.org/2003/09/27/arrival-and-...</td>\n",
       "      <td>https://raw.githubusercontent.com/amrutadotorg...</td>\n",
       "      <td>https://www.youtube.com/embed/2MaF-SH5KIA?rel=...</td>\n",
       "      <td>http://v.youku.com/v_show/id_XODk4Nzg0ODQ0.html</td>\n",
       "      <td>(…) children sit here, doesn’t matter. Childre...</td>\n",
       "      <td>(…) children sit here, doesn’t matter. Childre...</td>\n",
       "      <td>到达和谈话</td>\n",
       "      <td>2003-0927 Arrival and Talk [到达和谈话](机器翻译_未校对)</td>\n",
       "    </tr>\n",
       "    <tr>\n",
       "      <th>2304</th>\n",
       "      <td>2003-1012</td>\n",
       "      <td>5′</td>\n",
       "      <td>Nevele Grande Resort Hotel, Ellenville (United...</td>\n",
       "      <td>Navaratri Puja and Evening Program</td>\n",
       "      <td>https://www.amruta.org/?p=2687</td>\n",
       "      <td>https://www.amruta.org/2003/10/12/navaratri-pu...</td>\n",
       "      <td>https://raw.githubusercontent.com/amrutadotorg...</td>\n",
       "      <td>https://www.youtube.com/embed/_k2_hAE8PQg?rel=...</td>\n",
       "      <td>http://v.youku.com/v_show/id_XNTkxNTg0MjA0.htm...</td>\n",
       "      <td>Navaratri Puja, Birthday of Shri Gauri, Ellenv...</td>\n",
       "      <td>Navaratri Puja, Birthday of Shri Gauri, Ellenv...</td>\n",
       "      <td>Navratri Pooja和晚间节目</td>\n",
       "      <td>2003-1012 Navaratri Puja and Evening Program [...</td>\n",
       "    </tr>\n",
       "    <tr>\n",
       "      <th>2305</th>\n",
       "      <td>2003-1109</td>\n",
       "      <td>6′</td>\n",
       "      <td>Los Angeles (United States)</td>\n",
       "      <td>Diwali Puja, The Need for Sincerity</td>\n",
       "      <td>https://www.amruta.org/?p=498</td>\n",
       "      <td>https://www.amruta.org/2003/11/09/diwali-puja-...</td>\n",
       "      <td>https://raw.githubusercontent.com/amrutadotorg...</td>\n",
       "      <td>https://www.youtube.com/embed/Bl1tJHDi2Cw?rel=...</td>\n",
       "      <td>http://v.youku.com/v_show/id_XMTM3Nzk0MzM0MA==...</td>\n",
       "      <td>Diwali Puja. Los Angeles (USA), 9 November 200...</td>\n",
       "      <td>Diwali Puja. Los Angeles (USA), 9 November 200...</td>\n",
       "      <td>排灯节Puja，需要诚意</td>\n",
       "      <td>2003-1109 Diwali Puja, The Need for Sincerity ...</td>\n",
       "    </tr>\n",
       "    <tr>\n",
       "      <th>2306</th>\n",
       "      <td>2003-1225</td>\n",
       "      <td>14′</td>\n",
       "      <td>[English, Hindi, Marathi] Ganapatipule (India)</td>\n",
       "      <td>Christmas Puja</td>\n",
       "      <td>https://www.amruta.org/?p=2629</td>\n",
       "      <td>https://www.amruta.org/2003/12/25/christmas-pu...</td>\n",
       "      <td>https://raw.githubusercontent.com/amrutadotorg...</td>\n",
       "      <td>https://www.youtube.com/embed/ZcuD1oHkigU?rel=...</td>\n",
       "      <td>http://v.youku.com/v_show/id_XNTk5OTc1Mzk2.htm...</td>\n",
       "      <td>Christmas Puja, Ganapatipule (India), 25 Decem...</td>\n",
       "      <td>Christmas Puja, Ganapatipule (India), 25 Decem...</td>\n",
       "      <td>圣诞节Puja</td>\n",
       "      <td>2003-1225 Christmas Puja [圣诞节Puja](机器翻译_未校对)</td>\n",
       "    </tr>\n",
       "    <tr>\n",
       "      <th>2308</th>\n",
       "      <td>2004-0215</td>\n",
       "      <td>14′</td>\n",
       "      <td>[Hindi] Pune (India)</td>\n",
       "      <td>Mahashivaratri Puja, Guru Pad</td>\n",
       "      <td>https://www.amruta.org/?p=2805</td>\n",
       "      <td>https://www.amruta.org/2004/02/15/mahashivarat...</td>\n",
       "      <td>https://raw.githubusercontent.com/amrutadotorg...</td>\n",
       "      <td>https://www.youtube.com/embed/m5hyH--2K9w?rel=...</td>\n",
       "      <td>http://v.youku.com/v_show/id_XNjAwMTA2NDQw.htm...</td>\n",
       "      <td>Mahashivaratri Puja, Pune (India), 15 February...</td>\n",
       "      <td>Mahashivaratri Puja, Pune (India), 15 February...</td>\n",
       "      <td>Mahashivaratri Pooja，Master Pad</td>\n",
       "      <td>2004-0215 Mahashivaratri Puja, Guru Pad [Mahas...</td>\n",
       "    </tr>\n",
       "    <tr>\n",
       "      <th>2309</th>\n",
       "      <td>2004-0320</td>\n",
       "      <td>54′</td>\n",
       "      <td>New Delhi (India)</td>\n",
       "      <td>Birthday Felicitations Program</td>\n",
       "      <td>https://www.amruta.org/?p=8657</td>\n",
       "      <td>https://www.amruta.org/2004/03/20/birthday-fel...</td>\n",
       "      <td>https://raw.githubusercontent.com/amrutadotorg...</td>\n",
       "      <td>https://www.youtube.com/embed/TDq4fVuY7WA?rel=...</td>\n",
       "      <td>http://v.youku.com/v_show/id_XNTk3NzY0MTY0.html</td>\n",
       "      <td>2004-03-20 Birthday Felicitations Program: Tal...</td>\n",
       "      <td>2004-03-20 Birthday Felicitations Program: Tal...</td>\n",
       "      <td>生日祝福计划</td>\n",
       "      <td>2004-0320 Birthday Felicitations Program [生日祝福...</td>\n",
       "    </tr>\n",
       "    <tr>\n",
       "      <th>2310</th>\n",
       "      <td>2004-0321</td>\n",
       "      <td>4′</td>\n",
       "      <td>[English, Hindi] New Delhi (India)</td>\n",
       "      <td>Birthday Puja</td>\n",
       "      <td>https://www.amruta.org/?p=2419</td>\n",
       "      <td>https://www.amruta.org/2004/03/21/birthday-puj...</td>\n",
       "      <td>https://raw.githubusercontent.com/amrutadotorg...</td>\n",
       "      <td>https://www.youtube.com/embed/wyT5XvXmY24?rel=...</td>\n",
       "      <td>http://v.youku.com/v_show/id_XNTk5OTM0Mjcy.htm...</td>\n",
       "      <td>Birthday Puja, New Delhi (India), 21 March 200...</td>\n",
       "      <td>Birthday Puja, New Delhi (India), 21 March 200...</td>\n",
       "      <td>生日派哈</td>\n",
       "      <td>2004-0321 Birthday Puja [生日派哈](机器翻译_未校对)</td>\n",
       "    </tr>\n",
       "    <tr>\n",
       "      <th>2311</th>\n",
       "      <td>2004-0417</td>\n",
       "      <td>33′</td>\n",
       "      <td>City Unknown (United Arab Emirates)</td>\n",
       "      <td>Public Program</td>\n",
       "      <td>https://www.amruta.org/?p=20105</td>\n",
       "      <td>https://www.amruta.org/2004/04/17/2002-0417-pu...</td>\n",
       "      <td>https://raw.githubusercontent.com/amrutadotorg...</td>\n",
       "      <td>https://www.youtube.com/embed/C4SqKAs4Z1U?rel=...</td>\n",
       "      <td>None</td>\n",
       "      <td>Public Program 2004-04-17\\nI bow to all the se...</td>\n",
       "      <td>Public Program 2004-04-17\\n公共计划2004-04-17\\n\\nI...</td>\n",
       "      <td>公共计划</td>\n",
       "      <td>2004-0417 Public Program [公共计划](机器翻译_未校对)</td>\n",
       "    </tr>\n",
       "    <tr>\n",
       "      <th>2312</th>\n",
       "      <td>2004-0509</td>\n",
       "      <td>10′</td>\n",
       "      <td>Cabella Ligure (Italy)</td>\n",
       "      <td>Sahastrara Puja, Continue To Live A Life of Re...</td>\n",
       "      <td>https://www.amruta.org/?p=354</td>\n",
       "      <td>https://www.amruta.org/2004/05/09/sahastrara-p...</td>\n",
       "      <td>https://raw.githubusercontent.com/amrutadotorg...</td>\n",
       "      <td>https://www.youtube.com/embed/lKq0o7fgfXQ?rel=...</td>\n",
       "      <td>http://v.youku.com/v_show/id_XNTk4MzE2MjYw.htm...</td>\n",
       "      <td>Sahastrara puja, “Continue to live a life of R...</td>\n",
       "      <td>Sahastrara puja, “Continue to live a life of R...</td>\n",
       "      <td>Sahastrara Puja，继续过现实生活</td>\n",
       "      <td>2004-0509 Sahastrara Puja, Continue To Live A ...</td>\n",
       "    </tr>\n",
       "    <tr>\n",
       "      <th>2313</th>\n",
       "      <td>2004-0606</td>\n",
       "      <td>23′</td>\n",
       "      <td>Cabella Ligure (Italy)</td>\n",
       "      <td>Adi Shakti Puja, Be One With Yourself First</td>\n",
       "      <td>https://www.amruta.org/?p=1557</td>\n",
       "      <td>https://www.amruta.org/2004/06/06/shri-adi-sha...</td>\n",
       "      <td>https://raw.githubusercontent.com/amrutadotorg...</td>\n",
       "      <td>https://www.youtube.com/embed/Ij5GICr1unU?rel=...</td>\n",
       "      <td>http://v.youku.com/v_show/id_XNTkyNjQzNjM2.htm...</td>\n",
       "      <td>Adi Shakti Puja, Cabella Ligure, 6 June 2004.\\...</td>\n",
       "      <td>Adi Shakti Puja, Cabella Ligure, 6 June 2004.\\...</td>\n",
       "      <td>Adi Shakti Puja，先与自己合而为一</td>\n",
       "      <td>2004-0606 Adi Shakti Puja, Be One With Yoursel...</td>\n",
       "    </tr>\n",
       "    <tr>\n",
       "      <th>2314</th>\n",
       "      <td>2004-0704</td>\n",
       "      <td>31′</td>\n",
       "      <td>Cabella Ligure (Italy)</td>\n",
       "      <td>Guru Puja, Follow My Message of Love</td>\n",
       "      <td>https://www.amruta.org/?p=2465</td>\n",
       "      <td>https://www.amruta.org/2004/07/04/guru-puja-2004/</td>\n",
       "      <td>https://raw.githubusercontent.com/amrutadotorg...</td>\n",
       "      <td>https://www.youtube.com/embed/-RrcSukxuSM?rel=...</td>\n",
       "      <td>None</td>\n",
       "      <td>Guru Puja, Cabella Ligure (Italy), 4 July 2004...</td>\n",
       "      <td>Guru Puja, Cabella Ligure (Italy), 4 July 2004...</td>\n",
       "      <td>Guru Puja，跟随我的爱的讯息</td>\n",
       "      <td>2004-0704 Guru Puja, Follow My Message of Love...</td>\n",
       "    </tr>\n",
       "    <tr>\n",
       "      <th>2316</th>\n",
       "      <td>2006-0802</td>\n",
       "      <td>2′</td>\n",
       "      <td>Chiswick, London (United Kingdom)</td>\n",
       "      <td>Talk to Sahaja Yogis</td>\n",
       "      <td>https://www.amruta.org/?p=10142</td>\n",
       "      <td>https://www.amruta.org/2006/08/02/talk-to-yogi...</td>\n",
       "      <td></td>\n",
       "      <td>https://www.youtube.com/embed/t6_Tfg-WO-g?rel=...</td>\n",
       "      <td>None</td>\n",
       "      <td>Address to Sahaja Yogis, Chiswick, London (Uni...</td>\n",
       "      <td>Address to Sahaja Yogis, Chiswick, London (Uni...</td>\n",
       "      <td>和Sahaja Yogis交谈</td>\n",
       "      <td>2006-0802 Talk to Sahaja Yogis [和Sahaja Yogis交...</td>\n",
       "    </tr>\n",
       "    <tr>\n",
       "      <th>2317</th>\n",
       "      <td>2007-0408</td>\n",
       "      <td>12′</td>\n",
       "      <td>House in Pratishthan, Pune (India)</td>\n",
       "      <td>Easter Puja, Be Peaceful</td>\n",
       "      <td>https://www.amruta.org/?p=729</td>\n",
       "      <td>https://www.amruta.org/2007/04/08/easter-puja-...</td>\n",
       "      <td>https://raw.githubusercontent.com/amrutadotorg...</td>\n",
       "      <td>https://www.youtube.com/embed/1Wbk2cpd15c?rel=...</td>\n",
       "      <td>http://v.youku.com/v_show/id_XNTkxMTgyMTU2.htm...</td>\n",
       "      <td>Easter puja. Pratishthan, Pune (India), 8 Apri...</td>\n",
       "      <td>Easter puja. Pratishthan, Pune (India), 8 Apri...</td>\n",
       "      <td>复活节Puja，是和平的</td>\n",
       "      <td>2007-0408 Easter Puja, Be Peaceful [复活节Puja，是和...</td>\n",
       "    </tr>\n",
       "    <tr>\n",
       "      <th>2320</th>\n",
       "      <td>2007-0624</td>\n",
       "      <td>34′</td>\n",
       "      <td>Cabella Ligure (Italy)</td>\n",
       "      <td>Adi Shakti Puja, You Have to Become Fragrant</td>\n",
       "      <td>https://www.amruta.org/?p=1552</td>\n",
       "      <td>https://www.amruta.org/2007/06/24/shri-adi-sha...</td>\n",
       "      <td>https://raw.githubusercontent.com/amrutadotorg...</td>\n",
       "      <td>https://www.youtube.com/embed/XyxrG1mYpak?rel=...</td>\n",
       "      <td>http://v.youku.com/v_show/id_XNTk5OTQ4Mzgw.htm...</td>\n",
       "      <td>Adi Shakti Puja, Cabella Ligure, 24 June 2007....</td>\n",
       "      <td>Adi Shakti Puja, Cabella Ligure, 24 June 2007....</td>\n",
       "      <td>Adi Shakti Puja，你必须变得香气扑鼻</td>\n",
       "      <td>2007-0624 Adi Shakti Puja, You Have to Become ...</td>\n",
       "    </tr>\n",
       "    <tr>\n",
       "      <th>2321</th>\n",
       "      <td>2007-0804</td>\n",
       "      <td>3′</td>\n",
       "      <td>Cabella Ligure (Italy)</td>\n",
       "      <td>Talk after Evening Program the day before the ...</td>\n",
       "      <td>https://www.amruta.org/?p=2525</td>\n",
       "      <td>https://www.amruta.org/2007/08/04/evening-prog...</td>\n",
       "      <td>https://raw.githubusercontent.com/amrutadotorg...</td>\n",
       "      <td>None</td>\n",
       "      <td>None</td>\n",
       "      <td>Evening program the day before the Krishna Puj...</td>\n",
       "      <td>Evening program the day before the Krishna Puj...</td>\n",
       "      <td>在Krishna Puja前一天晚间节目后谈话</td>\n",
       "      <td>2007-0804 Talk after Evening Program the day b...</td>\n",
       "    </tr>\n",
       "    <tr>\n",
       "      <th>2322</th>\n",
       "      <td>2007-1013</td>\n",
       "      <td>66′</td>\n",
       "      <td>Sydney (Australia)</td>\n",
       "      <td>2nd Day of Navaratri, Satisfy the Swadhishthan</td>\n",
       "      <td>https://www.amruta.org/?p=8879</td>\n",
       "      <td>https://www.amruta.org/2007/10/13/2nd-night-of...</td>\n",
       "      <td>https://raw.githubusercontent.com/amrutadotorg...</td>\n",
       "      <td>https://www.youtube.com/embed/Hsd1FzC5uhc?rel=...</td>\n",
       "      <td>http://v.youku.com/v_show/id_XNTkzODQ3MjAw.htm...</td>\n",
       "      <td>Second day of Navaratri, October 13, 2007, Syd...</td>\n",
       "      <td>Second day of Navaratri, October 13, 2007, Syd...</td>\n",
       "      <td>Navratri的第二天，Satisfi Thi Swadhishthan</td>\n",
       "      <td>2007-1013 2nd Day of Navaratri, Satisfy the Sw...</td>\n",
       "    </tr>\n",
       "    <tr>\n",
       "      <th>2323</th>\n",
       "      <td>2007-1017</td>\n",
       "      <td>60′</td>\n",
       "      <td>Sydney (Australia)</td>\n",
       "      <td>6th Day of Navaratri, On Drinking</td>\n",
       "      <td>https://www.amruta.org/?p=2697</td>\n",
       "      <td>https://www.amruta.org/2007/10/17/sashti-sixth...</td>\n",
       "      <td>https://raw.githubusercontent.com/amrutadotorg...</td>\n",
       "      <td>https://www.youtube.com/embed/_NJprboZQxw?rel=...</td>\n",
       "      <td>http://v.youku.com/v_show/id_XNTk5NjY0MjA4.htm...</td>\n",
       "      <td>Sashti. Sixth night of Navaratri, Sydney (Aust...</td>\n",
       "      <td>Sashti. Sixth night of Navaratri, Sydney (Aust...</td>\n",
       "      <td>Navaratri的第六天，饮酒</td>\n",
       "      <td>2007-1017 6th Day of Navaratri, On Drinking [N...</td>\n",
       "    </tr>\n",
       "    <tr>\n",
       "      <th>2324</th>\n",
       "      <td>2007-1021</td>\n",
       "      <td>16′</td>\n",
       "      <td>Sydney (Australia)</td>\n",
       "      <td>10th Day of Navaratri, Dassehra Celebrations</td>\n",
       "      <td>https://www.amruta.org/?p=2702</td>\n",
       "      <td>https://www.amruta.org/2007/10/21/dassehra-ten...</td>\n",
       "      <td>https://raw.githubusercontent.com/amrutadotorg...</td>\n",
       "      <td>https://www.youtube.com/embed/pah97HPS2Ko?rel=...</td>\n",
       "      <td>http://v.youku.com/v_show/id_XNTk2MzYyMjUy.htm...</td>\n",
       "      <td>Dassehra. Tenth day of Navaratri, Sydney (Aust...</td>\n",
       "      <td>Dassehra. Tenth day of Navaratri, Sydney (Aust...</td>\n",
       "      <td>Navaratri第十天，Dassehra庆祝活动</td>\n",
       "      <td>2007-1021 10th Day of Navaratri, Dassehra Cele...</td>\n",
       "    </tr>\n",
       "    <tr>\n",
       "      <th>2325</th>\n",
       "      <td>2007-1110</td>\n",
       "      <td>68′</td>\n",
       "      <td>[Hindi] Noida (India)</td>\n",
       "      <td>Talk and Quawalli of the Evening Eve of Diwali</td>\n",
       "      <td>https://www.amruta.org/?p=1966</td>\n",
       "      <td>https://www.amruta.org/2007/11/10/talk-of-the-...</td>\n",
       "      <td>https://raw.githubusercontent.com/amrutadotorg...</td>\n",
       "      <td>https://www.youtube.com/embed/HiBvhtC-zIk?rel=...</td>\n",
       "      <td>http://v.youku.com/v_show/id_XNTkyMDQ0MzMy.htm...</td>\n",
       "      <td>Talk of the Evening Eve of Diwali. Noida (Indi...</td>\n",
       "      <td>Talk of the Evening Eve of Diwali. Noida (Indi...</td>\n",
       "      <td>排灯节晚上的谈话和Quawalli</td>\n",
       "      <td>2007-1110 Talk and Quawalli of the Evening Eve...</td>\n",
       "    </tr>\n",
       "    <tr>\n",
       "      <th>2327</th>\n",
       "      <td>2007-1223</td>\n",
       "      <td>20′</td>\n",
       "      <td>[Hindi] Vashi Health Centre, Mumbai (India)</td>\n",
       "      <td>Visit to Belapur Health Centre</td>\n",
       "      <td>https://www.amruta.org/?p=7200</td>\n",
       "      <td>https://www.amruta.org/2007/12/23/visit-to-bel...</td>\n",
       "      <td>https://raw.githubusercontent.com/amrutadotorg...</td>\n",
       "      <td>https://www.youtube.com/embed/80A6hFbg2uY?rel=...</td>\n",
       "      <td>http://v.youku.com/v_show/id_XNTk5OTkwMDMy.html</td>\n",
       "      <td>H.H.Shri Mataji Nirmala Devi visits the Intern...</td>\n",
       "      <td>H.H.Shri Mataji Nirmala Devi visits the Intern...</td>\n",
       "      <td>参观Belapur健康中心</td>\n",
       "      <td>2007-1223 Visit to Belapur Health Centre [参观Be...</td>\n",
       "    </tr>\n",
       "    <tr>\n",
       "      <th>2328</th>\n",
       "      <td>2008-0117</td>\n",
       "      <td>8′</td>\n",
       "      <td>[Hindi] House in Pratishthan, Pune (India)</td>\n",
       "      <td>Makar Sankranti Puja</td>\n",
       "      <td>https://www.amruta.org/?p=2865</td>\n",
       "      <td>https://www.amruta.org/2008/01/17/makar-sankra...</td>\n",
       "      <td>https://raw.githubusercontent.com/amrutadotorg...</td>\n",
       "      <td>https://www.youtube.com/embed/qJJuItGhgIA?rel=...</td>\n",
       "      <td>http://v.youku.com/v_show/id_XNTkzMDk2MTky.htm...</td>\n",
       "      <td>Makar Sankranti. Pratishtan (India), 2008.\\nTo...</td>\n",
       "      <td>Makar Sankranti. Pratishtan (India), 2008.\\nMa...</td>\n",
       "      <td>Makar Sankranti Pooja</td>\n",
       "      <td>2008-0117 Makar Sankranti Puja [Makar Sankrant...</td>\n",
       "    </tr>\n",
       "    <tr>\n",
       "      <th>2330</th>\n",
       "      <td>2008-0210</td>\n",
       "      <td>15′</td>\n",
       "      <td>[Hindi] House in Pratishthan, Pune (India)</td>\n",
       "      <td>Shri Ganesha’s Birthday</td>\n",
       "      <td>https://www.amruta.org/?p=1972</td>\n",
       "      <td>https://www.amruta.org/2008/02/10/shri-ganesha...</td>\n",
       "      <td>https://raw.githubusercontent.com/amrutadotorg...</td>\n",
       "      <td>None</td>\n",
       "      <td>http://v.youku.com/v_show/id_XNTk5NDkxNzEy.html</td>\n",
       "      <td>Talk held in occasion of Shri Ganesha’s Jayant...</td>\n",
       "      <td>Talk held in occasion of Shri Ganesha’s Jayant...</td>\n",
       "      <td>Shri Ganesha的生日</td>\n",
       "      <td>2008-0210 Shri Ganesha’s Birthday [Shri Ganesh...</td>\n",
       "    </tr>\n",
       "    <tr>\n",
       "      <th>2331</th>\n",
       "      <td>2008-0323</td>\n",
       "      <td>19′</td>\n",
       "      <td>The Pride Hotel, Nagpur (India)</td>\n",
       "      <td>Easter Puja, You must forgive</td>\n",
       "      <td>https://www.amruta.org/?p=721</td>\n",
       "      <td>https://www.amruta.org/2008/03/23/easter-puja-...</td>\n",
       "      <td>https://raw.githubusercontent.com/amrutadotorg...</td>\n",
       "      <td>https://www.youtube.com/embed/IGo0JtJNv7A?rel=...</td>\n",
       "      <td>http://v.youku.com/v_show/id_XNTk4MDQ4ODA4.htm...</td>\n",
       "      <td>Easter Puja, “You must forgive”, Hotel Pride, ...</td>\n",
       "      <td>Easter Puja, “You must forgive”, Hotel Pride, ...</td>\n",
       "      <td>复活节Puja，你必须原谅</td>\n",
       "      <td>2008-0323 Easter Puja, You must forgive [复活节Pu...</td>\n",
       "    </tr>\n",
       "    <tr>\n",
       "      <th>2334</th>\n",
       "      <td>2008-0720</td>\n",
       "      <td>40′</td>\n",
       "      <td>Cabella Ligure (Italy)</td>\n",
       "      <td>Guru Puja, How To Become A Guru</td>\n",
       "      <td>https://www.amruta.org/?p=8876</td>\n",
       "      <td>https://www.amruta.org/2008/07/20/guru-puja-2008/</td>\n",
       "      <td>https://raw.githubusercontent.com/amrutadotorg...</td>\n",
       "      <td>https://www.youtube.com/embed/-68p-veeNzA?rel=...</td>\n",
       "      <td>http://v.youku.com/v_show/id_XNTk4NTk4MDcy.htm...</td>\n",
       "      <td>Guru Puja, “How to Become a Guru”, Cabella Lig...</td>\n",
       "      <td>Guru Puja, “How to Become a Guru”, Cabella Lig...</td>\n",
       "      <td>Guru Puja，如何成为一名大师</td>\n",
       "      <td>2008-0720 Guru Puja, How To Become A Guru [Gur...</td>\n",
       "    </tr>\n",
       "    <tr>\n",
       "      <th>2337</th>\n",
       "      <td>2008-1029</td>\n",
       "      <td>22′</td>\n",
       "      <td>[Hindi] New Delhi (India)</td>\n",
       "      <td>Diwali Puja, 1st Day, Dhanteras</td>\n",
       "      <td>https://www.amruta.org/?p=12125</td>\n",
       "      <td>https://www.amruta.org/2008/10/29/2008-1029-dh...</td>\n",
       "      <td>https://raw.githubusercontent.com/amrutadotorg...</td>\n",
       "      <td>https://www.youtube.com/embed/HDfSeXRCyCo?rel=...</td>\n",
       "      <td>http://v.youku.com/v_show/id_XOTM1NTQ4ODY0.htm...</td>\n",
       "      <td>Diwali Puja, 1st Day, Dhanteras\\n[English Tran...</td>\n",
       "      <td>Diwali Puja, 1st Day, Dhanteras\\n排灯节Pooja，第1天，...</td>\n",
       "      <td>排灯节Pooja，第1天，Dhanteras</td>\n",
       "      <td>2008-1029 Diwali Puja, 1st Day, Dhanteras [排灯节...</td>\n",
       "    </tr>\n",
       "    <tr>\n",
       "      <th>2338</th>\n",
       "      <td>2008-1113</td>\n",
       "      <td>62′</td>\n",
       "      <td>[English, Hindi] Noida (India)</td>\n",
       "      <td>Guru Nanaka Jayanti</td>\n",
       "      <td>https://www.amruta.org/?p=12258</td>\n",
       "      <td>https://www.amruta.org/2008/11/13/guru-nanaka-...</td>\n",
       "      <td>https://raw.githubusercontent.com/amrutadotorg...</td>\n",
       "      <td>None</td>\n",
       "      <td>http://v.youku.com/v_show/id_XMTI2MDU4MjI2MA==...</td>\n",
       "      <td>Guru Nanaka Jayanti\\n“…They didn’t talk of Kun...</td>\n",
       "      <td>Guru Nanaka Jayanti\\nGuru nanak jayanti\\n\\n“…T...</td>\n",
       "      <td>Guru nanak jayanti</td>\n",
       "      <td>2008-1113 Guru Nanaka Jayanti [Guru nanak jaya...</td>\n",
       "    </tr>\n",
       "  </tbody>\n",
       "</table>\n",
       "<p>1825 rows × 13 columns</p>\n",
       "</div>"
      ],
      "text/plain": [
       "           date during                                           location  \\\n",
       "0     1970-0101    26′                       [Hindi] City Unknown (India)   \n",
       "2     1970-0101     6′            [Hindi] City Unknown (Location Unknown)   \n",
       "4     1970-0101    12′                    City Unknown (Location Unknown)   \n",
       "6     1972-0601    60′                             [Hindi] Mumbai (India)   \n",
       "7     1973-0125    11′                              [Hindi] Bordi (India)   \n",
       "8     1973-0828    34′                                     Mumbai (India)   \n",
       "9     1973-0903    58′                             [Hindi] Mumbai (India)   \n",
       "13    1973-1117    34′                          [Hindi] New Delhi (India)   \n",
       "14    1973-1125    43′                             [Hindi] Mumbai (India)   \n",
       "15    1973-1207    45′        [Hindi] Birla Kreeda Kendra, Mumbai (India)   \n",
       "17    1973-1209    43′                             [Hindi] Mumbai (India)   \n",
       "18    1973-1222    44′                             [Hindi] Nagpur (India)   \n",
       "20    1974-0326    36′        [Hindi] Birla Kreeda Kendra, Mumbai (India)   \n",
       "21    1974-0327    74′        [Hindi] Birla Kreeda Kendra, Mumbai (India)   \n",
       "23    1975-0120    58′                             [Hindi] Mumbai (India)   \n",
       "25    1975-0122    32′                           [Marathi] Mumbai (India)   \n",
       "26    1975-0123    57′                    [Hindi, Marathi] Mumbai (India)   \n",
       "27    1975-0125    45′                             [Hindi] Mumbai (India)   \n",
       "28    1975-0202    46′                             [Hindi] Mumbai (India)   \n",
       "30    1975-0209    11′                                     Mumbai (India)   \n",
       "32    1975-0301     0′                                  New Delhi (India)   \n",
       "35    1975-0313    32′                       [Hindi] City Unknown (India)   \n",
       "37    1975-0318     6′     [Hindi] Bharatiya Vidya Bhavan, Mumbai (India)   \n",
       "38    1975-0329    26′                             [Hindi] Mumbai (India)   \n",
       "40    1975-0331    16′     [Hindi] Bharatiya Vidya Bhavan, Mumbai (India)   \n",
       "41    1975-1221    55′                             [Hindi] Mumbai (India)   \n",
       "43    1975-1222    71′                             [Hindi] Mumbai (India)   \n",
       "44    1975-1223    40′                             [Hindi] Mumbai (India)   \n",
       "45    1975-1226    40′       [Hindi] Balmohan Vidyamandir, Mumbai (India)   \n",
       "46    1976-0123    63′                                  New Delhi (India)   \n",
       "...         ...    ...                                                ...   \n",
       "2299  2003-0615     4′                             Cabella Ligure (Italy)   \n",
       "2300  2003-0713     4′                             Cabella Ligure (Italy)   \n",
       "2301  2003-0810    35′                               [Hindi] Pune (India)   \n",
       "2302  2003-0913    13′                             Cabella Ligure (Italy)   \n",
       "2303  2003-0927    17′                                Frankfurt (Germany)   \n",
       "2304  2003-1012     5′  Nevele Grande Resort Hotel, Ellenville (United...   \n",
       "2305  2003-1109     6′                        Los Angeles (United States)   \n",
       "2306  2003-1225    14′     [English, Hindi, Marathi] Ganapatipule (India)   \n",
       "2308  2004-0215    14′                               [Hindi] Pune (India)   \n",
       "2309  2004-0320    54′                                  New Delhi (India)   \n",
       "2310  2004-0321     4′                 [English, Hindi] New Delhi (India)   \n",
       "2311  2004-0417    33′                City Unknown (United Arab Emirates)   \n",
       "2312  2004-0509    10′                             Cabella Ligure (Italy)   \n",
       "2313  2004-0606    23′                             Cabella Ligure (Italy)   \n",
       "2314  2004-0704    31′                             Cabella Ligure (Italy)   \n",
       "2316  2006-0802     2′                  Chiswick, London (United Kingdom)   \n",
       "2317  2007-0408    12′                 House in Pratishthan, Pune (India)   \n",
       "2320  2007-0624    34′                             Cabella Ligure (Italy)   \n",
       "2321  2007-0804     3′                             Cabella Ligure (Italy)   \n",
       "2322  2007-1013    66′                                 Sydney (Australia)   \n",
       "2323  2007-1017    60′                                 Sydney (Australia)   \n",
       "2324  2007-1021    16′                                 Sydney (Australia)   \n",
       "2325  2007-1110    68′                              [Hindi] Noida (India)   \n",
       "2327  2007-1223    20′        [Hindi] Vashi Health Centre, Mumbai (India)   \n",
       "2328  2008-0117     8′         [Hindi] House in Pratishthan, Pune (India)   \n",
       "2330  2008-0210    15′         [Hindi] House in Pratishthan, Pune (India)   \n",
       "2331  2008-0323    19′                    The Pride Hotel, Nagpur (India)   \n",
       "2334  2008-0720    40′                             Cabella Ligure (Italy)   \n",
       "2337  2008-1029    22′                          [Hindi] New Delhi (India)   \n",
       "2338  2008-1113    62′                     [English, Hindi] Noida (India)   \n",
       "\n",
       "                                                  title  \\\n",
       "0                        Ardha Matra Volume 2 Interview   \n",
       "2     Unidentified Hindi Talk (extract on Swadhisthana)   \n",
       "4                                     Unidentified talk   \n",
       "6             Guru Purnima, Sahaja Yoga a New Discovery   \n",
       "7                                        Public Program   \n",
       "8         Shri Krishna Puja, Most Dynamic Power of Love   \n",
       "9                    Understand your importance (Hindi)   \n",
       "13                                       Public Program   \n",
       "14       Seven Chakras and their Deities, Paane ke baad   \n",
       "15           Sahajyog ki Utapatti, Origin of Sahaj Yoga   \n",
       "17              Public Program, Shri Dattatreya Jayanti   \n",
       "18                                       Public Program   \n",
       "20                                 Public Program Day 2   \n",
       "21        Public Program Day 3, Vibrations that is Love   \n",
       "23    Talk to Sahaja Yogis, Kshma Ki Shakti Ka Mahat...   \n",
       "25            Talk, Bholepana ani nirvicharitecha killa   \n",
       "26                                              Seminar   \n",
       "27          Talk to Sahaja Yogis, Must listen every day   \n",
       "28                                Meditation and Prayer   \n",
       "30                               Prayer to the Almighty   \n",
       "32                                                 Talk   \n",
       "35                                Talk, Clean your life   \n",
       "37                                 Talk to Sahaja Yogis   \n",
       "38                 Public Program, Science/Trigunatmika   \n",
       "40                                 Talk to Sahaja Yogis   \n",
       "41                       Keep the attention on yourself   \n",
       "43    Public Program, The Experience Of God’s Love, ...   \n",
       "44    Public Program, God’s Love, Parmatma Ka Prem, ...   \n",
       "45                                       Public Program   \n",
       "46                             Description of Kundalini   \n",
       "...                                                 ...   \n",
       "2299                                    Adi Shakti Puja   \n",
       "2300               Guru Puja, A very big responsibility   \n",
       "2301                                  Shri Krishna Puja   \n",
       "2302       Shri Ganesha Puja, They Are All Incarnations   \n",
       "2303                                   Arrival and Talk   \n",
       "2304                 Navaratri Puja and Evening Program   \n",
       "2305                Diwali Puja, The Need for Sincerity   \n",
       "2306                                     Christmas Puja   \n",
       "2308                      Mahashivaratri Puja, Guru Pad   \n",
       "2309                     Birthday Felicitations Program   \n",
       "2310                                      Birthday Puja   \n",
       "2311                                     Public Program   \n",
       "2312  Sahastrara Puja, Continue To Live A Life of Re...   \n",
       "2313        Adi Shakti Puja, Be One With Yourself First   \n",
       "2314               Guru Puja, Follow My Message of Love   \n",
       "2316                               Talk to Sahaja Yogis   \n",
       "2317                           Easter Puja, Be Peaceful   \n",
       "2320       Adi Shakti Puja, You Have to Become Fragrant   \n",
       "2321  Talk after Evening Program the day before the ...   \n",
       "2322     2nd Day of Navaratri, Satisfy the Swadhishthan   \n",
       "2323                  6th Day of Navaratri, On Drinking   \n",
       "2324       10th Day of Navaratri, Dassehra Celebrations   \n",
       "2325     Talk and Quawalli of the Evening Eve of Diwali   \n",
       "2327                     Visit to Belapur Health Centre   \n",
       "2328                               Makar Sankranti Puja   \n",
       "2330                            Shri Ganesha’s Birthday   \n",
       "2331                      Easter Puja, You must forgive   \n",
       "2334                    Guru Puja, How To Become A Guru   \n",
       "2337                    Diwali Puja, 1st Day, Dhanteras   \n",
       "2338                                Guru Nanaka Jayanti   \n",
       "\n",
       "                                  url  \\\n",
       "0     https://www.amruta.org/?p=12254   \n",
       "2     https://www.amruta.org/?p=10564   \n",
       "4     https://www.amruta.org/?p=11418   \n",
       "6      https://www.amruta.org/?p=7534   \n",
       "7     https://www.amruta.org/?p=11058   \n",
       "8      https://www.amruta.org/?p=4548   \n",
       "9      https://www.amruta.org/?p=8438   \n",
       "13    https://www.amruta.org/?p=11051   \n",
       "14     https://www.amruta.org/?p=8439   \n",
       "15    https://www.amruta.org/?p=11047   \n",
       "17    https://www.amruta.org/?p=11045   \n",
       "18    https://www.amruta.org/?p=11042   \n",
       "20    https://www.amruta.org/?p=11038   \n",
       "21     https://www.amruta.org/?p=8437   \n",
       "23     https://www.amruta.org/?p=7466   \n",
       "25    https://www.amruta.org/?p=11128   \n",
       "26     https://www.amruta.org/?p=8442   \n",
       "27     https://www.amruta.org/?p=7461   \n",
       "28     https://www.amruta.org/?p=8441   \n",
       "30     https://www.amruta.org/?p=5451   \n",
       "32     https://www.amruta.org/?p=4552   \n",
       "35    https://www.amruta.org/?p=11149   \n",
       "37    https://www.amruta.org/?p=11140   \n",
       "38     https://www.amruta.org/?p=8443   \n",
       "40    https://www.amruta.org/?p=11143   \n",
       "41     https://www.amruta.org/?p=2940   \n",
       "43    https://www.amruta.org/?p=11147   \n",
       "44    https://www.amruta.org/?p=11145   \n",
       "45    https://www.amruta.org/?p=19801   \n",
       "46     https://www.amruta.org/?p=5460   \n",
       "...                               ...   \n",
       "2299   https://www.amruta.org/?p=1565   \n",
       "2300   https://www.amruta.org/?p=2176   \n",
       "2301   https://www.amruta.org/?p=2530   \n",
       "2302   https://www.amruta.org/?p=1391   \n",
       "2303  https://www.amruta.org/?p=10090   \n",
       "2304   https://www.amruta.org/?p=2687   \n",
       "2305    https://www.amruta.org/?p=498   \n",
       "2306   https://www.amruta.org/?p=2629   \n",
       "2308   https://www.amruta.org/?p=2805   \n",
       "2309   https://www.amruta.org/?p=8657   \n",
       "2310   https://www.amruta.org/?p=2419   \n",
       "2311  https://www.amruta.org/?p=20105   \n",
       "2312    https://www.amruta.org/?p=354   \n",
       "2313   https://www.amruta.org/?p=1557   \n",
       "2314   https://www.amruta.org/?p=2465   \n",
       "2316  https://www.amruta.org/?p=10142   \n",
       "2317    https://www.amruta.org/?p=729   \n",
       "2320   https://www.amruta.org/?p=1552   \n",
       "2321   https://www.amruta.org/?p=2525   \n",
       "2322   https://www.amruta.org/?p=8879   \n",
       "2323   https://www.amruta.org/?p=2697   \n",
       "2324   https://www.amruta.org/?p=2702   \n",
       "2325   https://www.amruta.org/?p=1966   \n",
       "2327   https://www.amruta.org/?p=7200   \n",
       "2328   https://www.amruta.org/?p=2865   \n",
       "2330   https://www.amruta.org/?p=1972   \n",
       "2331    https://www.amruta.org/?p=721   \n",
       "2334   https://www.amruta.org/?p=8876   \n",
       "2337  https://www.amruta.org/?p=12125   \n",
       "2338  https://www.amruta.org/?p=12258   \n",
       "\n",
       "                                             amruta_url  \\\n",
       "0     https://www.amruta.org/1970/01/01/ardha-matra-...   \n",
       "2     https://www.amruta.org/1970/01/01/unidentified...   \n",
       "4     https://www.amruta.org/1970/01/01/unidentified...   \n",
       "6     https://www.amruta.org/1972/06/01/sahaja-yoga-...   \n",
       "7     https://www.amruta.org/1973/01/25/public-progr...   \n",
       "8     https://www.amruta.org/1973/08/28/shri-krishna...   \n",
       "9     https://www.amruta.org/1973/09/03/understand-y...   \n",
       "13    https://www.amruta.org/1973/11/17/public-progr...   \n",
       "14    https://www.amruta.org/1973/11/25/seven-chakra...   \n",
       "15    https://www.amruta.org/1973/12/07/public-progr...   \n",
       "17    https://www.amruta.org/1973/12/09/public-progr...   \n",
       "18    https://www.amruta.org/1973/12/22/public-progr...   \n",
       "20    https://www.amruta.org/1974/03/26/talk-at-birl...   \n",
       "21    https://www.amruta.org/1974/03/27/public-progr...   \n",
       "23    https://www.amruta.org/1975/01/20/power-of-for...   \n",
       "25    https://www.amruta.org/1975/01/22/talk-bholepa...   \n",
       "26    https://www.amruta.org/1975/01/23/seminar-mumb...   \n",
       "27    https://www.amruta.org/1975/01/25/must-listen-...   \n",
       "28    https://www.amruta.org/1975/02/02/meditation-a...   \n",
       "30    https://www.amruta.org/1975/02/09/prayer-to-th...   \n",
       "32    https://www.amruta.org/1975/03/01/talk-at-new-...   \n",
       "35              https://www.amruta.org/1975/03/13/talk/   \n",
       "37    https://www.amruta.org/1975/03/18/advice-at-bh...   \n",
       "38    https://www.amruta.org/1975/03/29/sciencetrigu...   \n",
       "40    https://www.amruta.org/1975/03/31/advice-at-bh...   \n",
       "41    https://www.amruta.org/1975/12/21/keep-the-att...   \n",
       "43    https://www.amruta.org/1975/12/22/public-progr...   \n",
       "44    https://www.amruta.org/1975/12/23/public-progr...   \n",
       "45    https://www.amruta.org/1975/12/26/public-progr...   \n",
       "46    https://www.amruta.org/1976/01/23/description-...   \n",
       "...                                                 ...   \n",
       "2299  https://www.amruta.org/2003/06/15/after-adi-sh...   \n",
       "2300  https://www.amruta.org/2003/07/13/guru-puja-2003/   \n",
       "2301  https://www.amruta.org/2003/08/10/shri-krishna...   \n",
       "2302  https://www.amruta.org/2003/09/13/shri-ganesha...   \n",
       "2303  https://www.amruta.org/2003/09/27/arrival-and-...   \n",
       "2304  https://www.amruta.org/2003/10/12/navaratri-pu...   \n",
       "2305  https://www.amruta.org/2003/11/09/diwali-puja-...   \n",
       "2306  https://www.amruta.org/2003/12/25/christmas-pu...   \n",
       "2308  https://www.amruta.org/2004/02/15/mahashivarat...   \n",
       "2309  https://www.amruta.org/2004/03/20/birthday-fel...   \n",
       "2310  https://www.amruta.org/2004/03/21/birthday-puj...   \n",
       "2311  https://www.amruta.org/2004/04/17/2002-0417-pu...   \n",
       "2312  https://www.amruta.org/2004/05/09/sahastrara-p...   \n",
       "2313  https://www.amruta.org/2004/06/06/shri-adi-sha...   \n",
       "2314  https://www.amruta.org/2004/07/04/guru-puja-2004/   \n",
       "2316  https://www.amruta.org/2006/08/02/talk-to-yogi...   \n",
       "2317  https://www.amruta.org/2007/04/08/easter-puja-...   \n",
       "2320  https://www.amruta.org/2007/06/24/shri-adi-sha...   \n",
       "2321  https://www.amruta.org/2007/08/04/evening-prog...   \n",
       "2322  https://www.amruta.org/2007/10/13/2nd-night-of...   \n",
       "2323  https://www.amruta.org/2007/10/17/sashti-sixth...   \n",
       "2324  https://www.amruta.org/2007/10/21/dassehra-ten...   \n",
       "2325  https://www.amruta.org/2007/11/10/talk-of-the-...   \n",
       "2327  https://www.amruta.org/2007/12/23/visit-to-bel...   \n",
       "2328  https://www.amruta.org/2008/01/17/makar-sankra...   \n",
       "2330  https://www.amruta.org/2008/02/10/shri-ganesha...   \n",
       "2331  https://www.amruta.org/2008/03/23/easter-puja-...   \n",
       "2334  https://www.amruta.org/2008/07/20/guru-puja-2008/   \n",
       "2337  https://www.amruta.org/2008/10/29/2008-1029-dh...   \n",
       "2338  https://www.amruta.org/2008/11/13/guru-nanaka-...   \n",
       "\n",
       "                                                git_url  \\\n",
       "0     https://raw.githubusercontent.com/amrutadotorg...   \n",
       "2     https://raw.githubusercontent.com/amrutadotorg...   \n",
       "4     https://raw.githubusercontent.com/amrutadotorg...   \n",
       "6     https://raw.githubusercontent.com/amrutadotorg...   \n",
       "7     https://raw.githubusercontent.com/amrutadotorg...   \n",
       "8     https://raw.githubusercontent.com/amrutadotorg...   \n",
       "9     https://raw.githubusercontent.com/amrutadotorg...   \n",
       "13    https://raw.githubusercontent.com/amrutadotorg...   \n",
       "14    https://raw.githubusercontent.com/amrutadotorg...   \n",
       "15    https://raw.githubusercontent.com/amrutadotorg...   \n",
       "17    https://raw.githubusercontent.com/amrutadotorg...   \n",
       "18    https://raw.githubusercontent.com/amrutadotorg...   \n",
       "20    https://raw.githubusercontent.com/amrutadotorg...   \n",
       "21    https://raw.githubusercontent.com/amrutadotorg...   \n",
       "23    https://raw.githubusercontent.com/amrutadotorg...   \n",
       "25    https://raw.githubusercontent.com/amrutadotorg...   \n",
       "26    https://raw.githubusercontent.com/amrutadotorg...   \n",
       "27    https://raw.githubusercontent.com/amrutadotorg...   \n",
       "28    https://raw.githubusercontent.com/amrutadotorg...   \n",
       "30    https://raw.githubusercontent.com/amrutadotorg...   \n",
       "32    https://raw.githubusercontent.com/amrutadotorg...   \n",
       "35    https://raw.githubusercontent.com/amrutadotorg...   \n",
       "37    https://raw.githubusercontent.com/amrutadotorg...   \n",
       "38    https://raw.githubusercontent.com/amrutadotorg...   \n",
       "40    https://raw.githubusercontent.com/amrutadotorg...   \n",
       "41    https://raw.githubusercontent.com/amrutadotorg...   \n",
       "43    https://raw.githubusercontent.com/amrutadotorg...   \n",
       "44    https://raw.githubusercontent.com/amrutadotorg...   \n",
       "45    https://raw.githubusercontent.com/amrutadotorg...   \n",
       "46    https://raw.githubusercontent.com/amrutadotorg...   \n",
       "...                                                 ...   \n",
       "2299  https://raw.githubusercontent.com/amrutadotorg...   \n",
       "2300  https://raw.githubusercontent.com/amrutadotorg...   \n",
       "2301  https://raw.githubusercontent.com/amrutadotorg...   \n",
       "2302  https://raw.githubusercontent.com/amrutadotorg...   \n",
       "2303  https://raw.githubusercontent.com/amrutadotorg...   \n",
       "2304  https://raw.githubusercontent.com/amrutadotorg...   \n",
       "2305  https://raw.githubusercontent.com/amrutadotorg...   \n",
       "2306  https://raw.githubusercontent.com/amrutadotorg...   \n",
       "2308  https://raw.githubusercontent.com/amrutadotorg...   \n",
       "2309  https://raw.githubusercontent.com/amrutadotorg...   \n",
       "2310  https://raw.githubusercontent.com/amrutadotorg...   \n",
       "2311  https://raw.githubusercontent.com/amrutadotorg...   \n",
       "2312  https://raw.githubusercontent.com/amrutadotorg...   \n",
       "2313  https://raw.githubusercontent.com/amrutadotorg...   \n",
       "2314  https://raw.githubusercontent.com/amrutadotorg...   \n",
       "2316                                                      \n",
       "2317  https://raw.githubusercontent.com/amrutadotorg...   \n",
       "2320  https://raw.githubusercontent.com/amrutadotorg...   \n",
       "2321  https://raw.githubusercontent.com/amrutadotorg...   \n",
       "2322  https://raw.githubusercontent.com/amrutadotorg...   \n",
       "2323  https://raw.githubusercontent.com/amrutadotorg...   \n",
       "2324  https://raw.githubusercontent.com/amrutadotorg...   \n",
       "2325  https://raw.githubusercontent.com/amrutadotorg...   \n",
       "2327  https://raw.githubusercontent.com/amrutadotorg...   \n",
       "2328  https://raw.githubusercontent.com/amrutadotorg...   \n",
       "2330  https://raw.githubusercontent.com/amrutadotorg...   \n",
       "2331  https://raw.githubusercontent.com/amrutadotorg...   \n",
       "2334  https://raw.githubusercontent.com/amrutadotorg...   \n",
       "2337  https://raw.githubusercontent.com/amrutadotorg...   \n",
       "2338  https://raw.githubusercontent.com/amrutadotorg...   \n",
       "\n",
       "                                            youtube_url  \\\n",
       "0     https://www.youtube.com/embed/RQizS7hUMyw?rel=...   \n",
       "2     https://www.youtube.com/embed/d03_RfQWKX4?rel=...   \n",
       "4                                                  None   \n",
       "6                                                  None   \n",
       "7                                                  None   \n",
       "8     https://www.youtube.com/embed/HEs8KLsUuNE?rel=...   \n",
       "9                                                  None   \n",
       "13    https://www.youtube.com/embed/Fd5hO76B6o0?rel=...   \n",
       "14                                                 None   \n",
       "15                                                 None   \n",
       "17    https://www.youtube.com/embed/-kqQwUDUmsw?rel=...   \n",
       "18    https://www.youtube.com/embed/jKKslmVfH2U?rel=...   \n",
       "20                                                 None   \n",
       "21                                                 None   \n",
       "23    https://www.youtube.com/embed/CN7PRwAIv0U?rel=...   \n",
       "25                                                 None   \n",
       "26                                                 None   \n",
       "27    https://www.youtube.com/embed/mkotc8-m3Ko?rel=...   \n",
       "28                                                 None   \n",
       "30                                                 None   \n",
       "32                                                 None   \n",
       "35                                                 None   \n",
       "37                                                 None   \n",
       "38                                                 None   \n",
       "40                                                 None   \n",
       "41                                                 None   \n",
       "43                                                 None   \n",
       "44                                                 None   \n",
       "45                                                 None   \n",
       "46                                                 None   \n",
       "...                                                 ...   \n",
       "2299                                               None   \n",
       "2300  https://www.youtube.com/embed/585zDxrmk3I?rel=...   \n",
       "2301  https://www.youtube.com/embed/V4aTeV_pUDs?rel=...   \n",
       "2302  https://www.youtube.com/embed/ErbDbmgONNQ?rel=...   \n",
       "2303  https://www.youtube.com/embed/2MaF-SH5KIA?rel=...   \n",
       "2304  https://www.youtube.com/embed/_k2_hAE8PQg?rel=...   \n",
       "2305  https://www.youtube.com/embed/Bl1tJHDi2Cw?rel=...   \n",
       "2306  https://www.youtube.com/embed/ZcuD1oHkigU?rel=...   \n",
       "2308  https://www.youtube.com/embed/m5hyH--2K9w?rel=...   \n",
       "2309  https://www.youtube.com/embed/TDq4fVuY7WA?rel=...   \n",
       "2310  https://www.youtube.com/embed/wyT5XvXmY24?rel=...   \n",
       "2311  https://www.youtube.com/embed/C4SqKAs4Z1U?rel=...   \n",
       "2312  https://www.youtube.com/embed/lKq0o7fgfXQ?rel=...   \n",
       "2313  https://www.youtube.com/embed/Ij5GICr1unU?rel=...   \n",
       "2314  https://www.youtube.com/embed/-RrcSukxuSM?rel=...   \n",
       "2316  https://www.youtube.com/embed/t6_Tfg-WO-g?rel=...   \n",
       "2317  https://www.youtube.com/embed/1Wbk2cpd15c?rel=...   \n",
       "2320  https://www.youtube.com/embed/XyxrG1mYpak?rel=...   \n",
       "2321                                               None   \n",
       "2322  https://www.youtube.com/embed/Hsd1FzC5uhc?rel=...   \n",
       "2323  https://www.youtube.com/embed/_NJprboZQxw?rel=...   \n",
       "2324  https://www.youtube.com/embed/pah97HPS2Ko?rel=...   \n",
       "2325  https://www.youtube.com/embed/HiBvhtC-zIk?rel=...   \n",
       "2327  https://www.youtube.com/embed/80A6hFbg2uY?rel=...   \n",
       "2328  https://www.youtube.com/embed/qJJuItGhgIA?rel=...   \n",
       "2330                                               None   \n",
       "2331  https://www.youtube.com/embed/IGo0JtJNv7A?rel=...   \n",
       "2334  https://www.youtube.com/embed/-68p-veeNzA?rel=...   \n",
       "2337  https://www.youtube.com/embed/HDfSeXRCyCo?rel=...   \n",
       "2338                                               None   \n",
       "\n",
       "                                              youku_url  \\\n",
       "0     http://v.youku.com/v_show/id_XMTI2MDU4ODEwMA==...   \n",
       "2       http://v.youku.com/v_show/id_XODkyOTY4MjQ0.html   \n",
       "4                                                  None   \n",
       "6                                                  None   \n",
       "7                                                  None   \n",
       "8     http://v.youku.com/v_show/id_XMTczMTMxNjIzNg==...   \n",
       "9                                                  None   \n",
       "13                                                 None   \n",
       "14                                                 None   \n",
       "15                                                 None   \n",
       "17                                                 None   \n",
       "18                                                 None   \n",
       "20                                                 None   \n",
       "21                                                 None   \n",
       "23                                                 None   \n",
       "25                                                 None   \n",
       "26                                                 None   \n",
       "27                                                 None   \n",
       "28                                                 None   \n",
       "30                                                 None   \n",
       "32                                                 None   \n",
       "35                                                 None   \n",
       "37                                                 None   \n",
       "38                                                 None   \n",
       "40                                                 None   \n",
       "41                                                 None   \n",
       "43                                                 None   \n",
       "44                                                 None   \n",
       "45                                                 None   \n",
       "46                                                 None   \n",
       "...                                                 ...   \n",
       "2299  http://v.youku.com/v_show/id_XNTk0NjUzNzcy.htm...   \n",
       "2300  http://v.youku.com/v_show/id_XNTk2NTYyMDAw.htm...   \n",
       "2301    http://v.youku.com/v_show/id_XNTk4NjE1NzE2.html   \n",
       "2302  http://v.youku.com/v_show/id_XMTQ3MzcxMDQ0MA==...   \n",
       "2303    http://v.youku.com/v_show/id_XODk4Nzg0ODQ0.html   \n",
       "2304  http://v.youku.com/v_show/id_XNTkxNTg0MjA0.htm...   \n",
       "2305  http://v.youku.com/v_show/id_XMTM3Nzk0MzM0MA==...   \n",
       "2306  http://v.youku.com/v_show/id_XNTk5OTc1Mzk2.htm...   \n",
       "2308  http://v.youku.com/v_show/id_XNjAwMTA2NDQw.htm...   \n",
       "2309    http://v.youku.com/v_show/id_XNTk3NzY0MTY0.html   \n",
       "2310  http://v.youku.com/v_show/id_XNTk5OTM0Mjcy.htm...   \n",
       "2311                                               None   \n",
       "2312  http://v.youku.com/v_show/id_XNTk4MzE2MjYw.htm...   \n",
       "2313  http://v.youku.com/v_show/id_XNTkyNjQzNjM2.htm...   \n",
       "2314                                               None   \n",
       "2316                                               None   \n",
       "2317  http://v.youku.com/v_show/id_XNTkxMTgyMTU2.htm...   \n",
       "2320  http://v.youku.com/v_show/id_XNTk5OTQ4Mzgw.htm...   \n",
       "2321                                               None   \n",
       "2322  http://v.youku.com/v_show/id_XNTkzODQ3MjAw.htm...   \n",
       "2323  http://v.youku.com/v_show/id_XNTk5NjY0MjA4.htm...   \n",
       "2324  http://v.youku.com/v_show/id_XNTk2MzYyMjUy.htm...   \n",
       "2325  http://v.youku.com/v_show/id_XNTkyMDQ0MzMy.htm...   \n",
       "2327    http://v.youku.com/v_show/id_XNTk5OTkwMDMy.html   \n",
       "2328  http://v.youku.com/v_show/id_XNTkzMDk2MTky.htm...   \n",
       "2330    http://v.youku.com/v_show/id_XNTk5NDkxNzEy.html   \n",
       "2331  http://v.youku.com/v_show/id_XNTk4MDQ4ODA4.htm...   \n",
       "2334  http://v.youku.com/v_show/id_XNTk4NTk4MDcy.htm...   \n",
       "2337  http://v.youku.com/v_show/id_XOTM1NTQ4ODY0.htm...   \n",
       "2338  http://v.youku.com/v_show/id_XMTI2MDU4MjI2MA==...   \n",
       "\n",
       "                                                    eng  \\\n",
       "0     Ardha Matra Volume 2 Interview Translation fro...   \n",
       "2     Swadishthan Chakra.\\nThe quality of this Chakr...   \n",
       "4     unidentified talk\\n“Since you must know that I...   \n",
       "6     Guru Purnima Puja. Mumbay (India), 1 June 1972...   \n",
       "7     Public Program, Bordi (India), January 25th, 1...   \n",
       "8     28 August 1973, Shri Krishna Puja, Most Dynami...   \n",
       "9     \\n\\n\\n\\nH. H. S H R I   M A T A J I   N I R M ...   \n",
       "13    Public Program, New Delhi (India), Hindi, Nove...   \n",
       "14    1973-11-25 Seven Chakras and their Deities (Pa...   \n",
       "15    1973-1207 Origin of Sahaj Yoga, Public Program...   \n",
       "17    Public Program, Shri Dattatreya Jayanti (Hindi...   \n",
       "18    Public Program (Hindi), Nagpur, Maharastra, 19...   \n",
       "20                      H.H. Shri Mataji Nirmala Devi\\n   \n",
       "21    1974-03-27 Public Program 3 at Birla Kreeda Ke...   \n",
       "23    Talk to yogis. Mumbai (India), 20 January 1975...   \n",
       "25    Talk, Bholepana ani nirvicharitecha killa \\nYe...   \n",
       "26    1975-01-23 Seminar Mumbai, (Hindi)\\nH.H. Shri ...   \n",
       "27    Talk to yogis (Hindi). Mumbay (India), 25 Janu...   \n",
       "28          1975-02-02, Meditation and Prayer, Mumbai\\n   \n",
       "30    Short prayer. Bombay (India), 9 February 1975....   \n",
       "32    \\nTalk at New Delhi, 10 King George Avenue Mar...   \n",
       "35    Talk, India, 1975-03-13\\nThose for whom it has...   \n",
       "37    Talk to Sahaja Yogis\\nPlease cure this person’...   \n",
       "38    1975-03-29 Science/Trigunatmika (Hindi)\\n(Side...   \n",
       "40    Talk to Sahaja Yogis \\nPeople who had come ear...   \n",
       "41    Keep the attention on yourself, Bombay (India)...   \n",
       "43    Public Program, The Experience Of God’s Love, ...   \n",
       "44    God’s Love\\nTranslation from Hindi talk in Mum...   \n",
       "45    1975-1226 Program at Bal Mohan Vidya Mandir\\nI...   \n",
       "46    Description of Kundalini. Delhi (India), 1976....   \n",
       "...                                                 ...   \n",
       "2299  After the Adi Shakti Puja, Cabella Ligure, 15 ...   \n",
       "2300  Guru Puja. Cabella Ligure (Italy), 13 July 200...   \n",
       "2301  Shri Krishna Puja (Hindi). Pune (India), 9 Aug...   \n",
       "2302  Shri Ganesha Puja, Cabella Ligure, 13 Septembe...   \n",
       "2303  (…) children sit here, doesn’t matter. Childre...   \n",
       "2304  Navaratri Puja, Birthday of Shri Gauri, Ellenv...   \n",
       "2305  Diwali Puja. Los Angeles (USA), 9 November 200...   \n",
       "2306  Christmas Puja, Ganapatipule (India), 25 Decem...   \n",
       "2308  Mahashivaratri Puja, Pune (India), 15 February...   \n",
       "2309  2004-03-20 Birthday Felicitations Program: Tal...   \n",
       "2310  Birthday Puja, New Delhi (India), 21 March 200...   \n",
       "2311  Public Program 2004-04-17\\nI bow to all the se...   \n",
       "2312  Sahastrara puja, “Continue to live a life of R...   \n",
       "2313  Adi Shakti Puja, Cabella Ligure, 6 June 2004.\\...   \n",
       "2314  Guru Puja, Cabella Ligure (Italy), 4 July 2004...   \n",
       "2316  Address to Sahaja Yogis, Chiswick, London (Uni...   \n",
       "2317  Easter puja. Pratishthan, Pune (India), 8 Apri...   \n",
       "2320  Adi Shakti Puja, Cabella Ligure, 24 June 2007....   \n",
       "2321  Evening program the day before the Krishna Puj...   \n",
       "2322  Second day of Navaratri, October 13, 2007, Syd...   \n",
       "2323  Sashti. Sixth night of Navaratri, Sydney (Aust...   \n",
       "2324  Dassehra. Tenth day of Navaratri, Sydney (Aust...   \n",
       "2325  Talk of the Evening Eve of Diwali. Noida (Indi...   \n",
       "2327  H.H.Shri Mataji Nirmala Devi visits the Intern...   \n",
       "2328  Makar Sankranti. Pratishtan (India), 2008.\\nTo...   \n",
       "2330  Talk held in occasion of Shri Ganesha’s Jayant...   \n",
       "2331  Easter Puja, “You must forgive”, Hotel Pride, ...   \n",
       "2334  Guru Puja, “How to Become a Guru”, Cabella Lig...   \n",
       "2337  Diwali Puja, 1st Day, Dhanteras\\n[English Tran...   \n",
       "2338  Guru Nanaka Jayanti\\n“…They didn’t talk of Kun...   \n",
       "\n",
       "                                                    Chs  \\\n",
       "0     Ardha Matra Volume 2 Interview Translation fro...   \n",
       "2     Swadishthan Chakra.\\nSwadrishna Chakra\\n\\nThe ...   \n",
       "4     unidentified talk\\n身份不明的谈话\\n\\n“Since you must ...   \n",
       "6     Guru Purnima Puja. Mumbay (India), 1 June 1972...   \n",
       "7     Public Program, Bordi (India), January 25th, 1...   \n",
       "8     28 August 1973, Shri Krishna Puja, Most Dynami...   \n",
       "9     H. H. S H R I   M A T A J I   N I R M A L A   ...   \n",
       "13    Public Program, New Delhi (India), Hindi, Nove...   \n",
       "14    1973-11-25 Seven Chakras and their Deities (Pa...   \n",
       "15    1973-1207 Origin of Sahaj Yoga, Public Program...   \n",
       "17    Public Program, Shri Dattatreya Jayanti (Hindi...   \n",
       "18    Public Program (Hindi), Nagpur, Maharastra, 19...   \n",
       "20    H.H. Shri Mataji Nirmala Devi\\nH.H. Shri Mataj...   \n",
       "21    1974-03-27 Public Program 3 at Birla Kreeda Ke...   \n",
       "23    Talk to yogis. Mumbai (India), 20 January 1975...   \n",
       "25    Talk, Bholepana ani nirvicharitecha killa \\n说话...   \n",
       "26    1975-01-23 Seminar Mumbai, (Hindi)\\n1975-01-23...   \n",
       "27    Talk to yogis (Hindi). Mumbay (India), 25 Janu...   \n",
       "28    1975-02-02, Meditation and Prayer, Mumbai\\n197...   \n",
       "30    Short prayer. Bombay (India), 9 February 1975....   \n",
       "32    Talk at New Delhi, 10 King George Avenue March...   \n",
       "35    Talk, India, 1975-03-13\\n谈话，印度，1975年3月13日\\n\\nT...   \n",
       "37    Talk to Sahaja Yogis\\n和Sahaja Yogis交谈\\n\\nPleas...   \n",
       "38    1975-03-29 Science/Trigunatmika (Hindi)\\n1975-...   \n",
       "40    Talk to Sahaja Yogis \\n和Sahaja Yogis交谈\\n\\nPeop...   \n",
       "41    Keep the attention on yourself, Bombay (India)...   \n",
       "43    Public Program, The Experience Of God’s Love, ...   \n",
       "44    God’s Love\\n神的爱\\n\\nTranslation from Hindi talk...   \n",
       "45    1975-1226 Program at Bal Mohan Vidya Mandir\\n1...   \n",
       "46    Description of Kundalini. Delhi (India), 1976....   \n",
       "...                                                 ...   \n",
       "2299  After the Adi Shakti Puja, Cabella Ligure, 15 ...   \n",
       "2300  Guru Puja. Cabella Ligure (Italy), 13 July 200...   \n",
       "2301  Shri Krishna Puja (Hindi). Pune (India), 9 Aug...   \n",
       "2302  Shri Ganesha Puja, Cabella Ligure, 13 Septembe...   \n",
       "2303  (…) children sit here, doesn’t matter. Childre...   \n",
       "2304  Navaratri Puja, Birthday of Shri Gauri, Ellenv...   \n",
       "2305  Diwali Puja. Los Angeles (USA), 9 November 200...   \n",
       "2306  Christmas Puja, Ganapatipule (India), 25 Decem...   \n",
       "2308  Mahashivaratri Puja, Pune (India), 15 February...   \n",
       "2309  2004-03-20 Birthday Felicitations Program: Tal...   \n",
       "2310  Birthday Puja, New Delhi (India), 21 March 200...   \n",
       "2311  Public Program 2004-04-17\\n公共计划2004-04-17\\n\\nI...   \n",
       "2312  Sahastrara puja, “Continue to live a life of R...   \n",
       "2313  Adi Shakti Puja, Cabella Ligure, 6 June 2004.\\...   \n",
       "2314  Guru Puja, Cabella Ligure (Italy), 4 July 2004...   \n",
       "2316  Address to Sahaja Yogis, Chiswick, London (Uni...   \n",
       "2317  Easter puja. Pratishthan, Pune (India), 8 Apri...   \n",
       "2320  Adi Shakti Puja, Cabella Ligure, 24 June 2007....   \n",
       "2321  Evening program the day before the Krishna Puj...   \n",
       "2322  Second day of Navaratri, October 13, 2007, Syd...   \n",
       "2323  Sashti. Sixth night of Navaratri, Sydney (Aust...   \n",
       "2324  Dassehra. Tenth day of Navaratri, Sydney (Aust...   \n",
       "2325  Talk of the Evening Eve of Diwali. Noida (Indi...   \n",
       "2327  H.H.Shri Mataji Nirmala Devi visits the Intern...   \n",
       "2328  Makar Sankranti. Pratishtan (India), 2008.\\nMa...   \n",
       "2330  Talk held in occasion of Shri Ganesha’s Jayant...   \n",
       "2331  Easter Puja, “You must forgive”, Hotel Pride, ...   \n",
       "2334  Guru Puja, “How to Become a Guru”, Cabella Lig...   \n",
       "2337  Diwali Puja, 1st Day, Dhanteras\\n排灯节Pooja，第1天，...   \n",
       "2338  Guru Nanaka Jayanti\\nGuru nanak jayanti\\n\\n“…T...   \n",
       "\n",
       "                                              chs_title  \\\n",
       "0                                      Ardha Matra第2卷专访   \n",
       "2                          身份不明的印地语谈话（在Swadhisthana上提取）   \n",
       "4                                               身份不明的谈话   \n",
       "6                                 Guru Purnima，霎哈嘉瑜伽新发现   \n",
       "7                                                  公共计划   \n",
       "8                           Shri Krishna Puja，最具活力的爱情力量   \n",
       "9                                          了解你的重要性（印地语）   \n",
       "13                                                 公共计划   \n",
       "14                            收到Seven Chakras和Thir DTS后   \n",
       "15                      Sahaja Yoga Ki Utpatti，霎哈嘉瑜伽的起源   \n",
       "17                          公共计划，Shri Dattatray Jayanti   \n",
       "18                                                 公共计划   \n",
       "20                                               公共计划日2   \n",
       "21                                       公共计划第3天，充满爱的振动   \n",
       "23                           谈话是一种轻松的瑜伽，宽恕的力量，宽恕的力量的重要性   \n",
       "25                                        说话，天真和无人居住的堡垒   \n",
       "26                                                  研讨会   \n",
       "27                                和Sahaja Yogis交谈，每天都要听   \n",
       "28                                                冥想和祈祷   \n",
       "30                                               向全能者祈祷   \n",
       "32                                                   谈论   \n",
       "35                                           说说话，清洁你的生活   \n",
       "37                                      和Sahaja Yogis交谈   \n",
       "38                                公共计划，科学/ Trigunatmika   \n",
       "40                                      和Sahaja Yogis交谈   \n",
       "41                                                 注意自己   \n",
       "43               公共计划，上帝的爱的经验，Prabhu Ki Prem Ka Anubhav   \n",
       "44    Public Program，God's Love，Parmatma Ka Prem，Bal...   \n",
       "45                                                 公共计划   \n",
       "46                                              昆达利尼的描述   \n",
       "...                                                 ...   \n",
       "2299                                    Adi Shakti Puja   \n",
       "2300                                Guru Puja，一个非常重要的责任   \n",
       "2301                                  Shri Krishna Puja   \n",
       "2302                           Shri Ganesha Puja，他们都是化身   \n",
       "2303                                              到达和谈话   \n",
       "2304                                Navratri Pooja和晚间节目   \n",
       "2305                                       排灯节Puja，需要诚意   \n",
       "2306                                            圣诞节Puja   \n",
       "2308                    Mahashivaratri Pooja，Master Pad   \n",
       "2309                                             生日祝福计划   \n",
       "2310                                               生日派哈   \n",
       "2311                                               公共计划   \n",
       "2312                            Sahastrara Puja，继续过现实生活   \n",
       "2313                           Adi Shakti Puja，先与自己合而为一   \n",
       "2314                                 Guru Puja，跟随我的爱的讯息   \n",
       "2316                                    和Sahaja Yogis交谈   \n",
       "2317                                       复活节Puja，是和平的   \n",
       "2320                          Adi Shakti Puja，你必须变得香气扑鼻   \n",
       "2321                            在Krishna Puja前一天晚间节目后谈话   \n",
       "2322              Navratri的第二天，Satisfi Thi Swadhishthan   \n",
       "2323                                   Navaratri的第六天，饮酒   \n",
       "2324                          Navaratri第十天，Dassehra庆祝活动   \n",
       "2325                                  排灯节晚上的谈话和Quawalli   \n",
       "2327                                      参观Belapur健康中心   \n",
       "2328                              Makar Sankranti Pooja   \n",
       "2330                                    Shri Ganesha的生日   \n",
       "2331                                      复活节Puja，你必须原谅   \n",
       "2334                                 Guru Puja，如何成为一名大师   \n",
       "2337                             排灯节Pooja，第1天，Dhanteras   \n",
       "2338                                 Guru nanak jayanti   \n",
       "\n",
       "                                              title_std  \n",
       "0     1970-0101 Ardha Matra Volume 2 Interview [Ardh...  \n",
       "2     1970-0101 Unidentified Hindi Talk (extract on ...  \n",
       "4       1970-0101 Unidentified talk [身份不明的谈话](机器翻译_未校对)  \n",
       "6     1972-0601 Guru Purnima, Sahaja Yoga a New Disc...  \n",
       "7             1973-0125 Public Program [公共计划](机器翻译_未校对)  \n",
       "8     1973-0828 Shri Krishna Puja, Most Dynamic Powe...  \n",
       "9     1973-0903 Understand your importance (Hindi) [...  \n",
       "13            1973-1117 Public Program [公共计划](机器翻译_未校对)  \n",
       "14    1973-1125 Seven Chakras and their Deities, Paa...  \n",
       "15    1973-1207 Sahajyog ki Utapatti, Origin of Saha...  \n",
       "17    1973-1209 Public Program, Shri Dattatreya Jaya...  \n",
       "18            1973-1222 Public Program [公共计划](机器翻译_未校对)  \n",
       "20    1974-0326 Public Program Day 2 [公共计划日2](机器翻译_未校对)  \n",
       "21    1974-0327 Public Program Day 3, Vibrations tha...  \n",
       "23    1975-0120 Talk to Sahaja Yogis, Kshma Ki Shakt...  \n",
       "25    1975-0122 Talk, Bholepana ani nirvicharitecha ...  \n",
       "26                    1975-0123 Seminar [研讨会](机器翻译_未校对)  \n",
       "27    1975-0125 Talk to Sahaja Yogis, Must listen ev...  \n",
       "28    1975-0202 Meditation and Prayer [冥想和祈祷](机器翻译_未校对)  \n",
       "30    1975-0209 Prayer to the Almighty [向全能者祈祷](机器翻译...  \n",
       "32                        1975-0301 Talk [谈论](机器翻译_未校对)  \n",
       "35    1975-0313 Talk, Clean your life [说说话，清洁你的生活](机...  \n",
       "37    1975-0318 Talk to Sahaja Yogis [和Sahaja Yogis交...  \n",
       "38    1975-0329 Public Program, Science/Trigunatmika...  \n",
       "40    1975-0331 Talk to Sahaja Yogis [和Sahaja Yogis交...  \n",
       "41    1975-1221 Keep the attention on yourself [注意自己...  \n",
       "43    1975-1222 Public Program, The Experience Of Go...  \n",
       "44    1975-1223 Public Program, God’s Love, Parmatma...  \n",
       "45            1975-1226 Public Program [公共计划](机器翻译_未校对)  \n",
       "46    1976-0123 Description of Kundalini [昆达利尼的描述](机...  \n",
       "...                                                 ...  \n",
       "2299  2003-0615 Adi Shakti Puja [Adi Shakti Puja](机器...  \n",
       "2300  2003-0713 Guru Puja, A very big responsibility...  \n",
       "2301  2003-0810 Shri Krishna Puja [Shri Krishna Puja...  \n",
       "2302  2003-0913 Shri Ganesha Puja, They Are All Inca...  \n",
       "2303       2003-0927 Arrival and Talk [到达和谈话](机器翻译_未校对)  \n",
       "2304  2003-1012 Navaratri Puja and Evening Program [...  \n",
       "2305  2003-1109 Diwali Puja, The Need for Sincerity ...  \n",
       "2306       2003-1225 Christmas Puja [圣诞节Puja](机器翻译_未校对)  \n",
       "2308  2004-0215 Mahashivaratri Puja, Guru Pad [Mahas...  \n",
       "2309  2004-0320 Birthday Felicitations Program [生日祝福...  \n",
       "2310           2004-0321 Birthday Puja [生日派哈](机器翻译_未校对)  \n",
       "2311          2004-0417 Public Program [公共计划](机器翻译_未校对)  \n",
       "2312  2004-0509 Sahastrara Puja, Continue To Live A ...  \n",
       "2313  2004-0606 Adi Shakti Puja, Be One With Yoursel...  \n",
       "2314  2004-0704 Guru Puja, Follow My Message of Love...  \n",
       "2316  2006-0802 Talk to Sahaja Yogis [和Sahaja Yogis交...  \n",
       "2317  2007-0408 Easter Puja, Be Peaceful [复活节Puja，是和...  \n",
       "2320  2007-0624 Adi Shakti Puja, You Have to Become ...  \n",
       "2321  2007-0804 Talk after Evening Program the day b...  \n",
       "2322  2007-1013 2nd Day of Navaratri, Satisfy the Sw...  \n",
       "2323  2007-1017 6th Day of Navaratri, On Drinking [N...  \n",
       "2324  2007-1021 10th Day of Navaratri, Dassehra Cele...  \n",
       "2325  2007-1110 Talk and Quawalli of the Evening Eve...  \n",
       "2327  2007-1223 Visit to Belapur Health Centre [参观Be...  \n",
       "2328  2008-0117 Makar Sankranti Puja [Makar Sankrant...  \n",
       "2330  2008-0210 Shri Ganesha’s Birthday [Shri Ganesh...  \n",
       "2331  2008-0323 Easter Puja, You must forgive [复活节Pu...  \n",
       "2334  2008-0720 Guru Puja, How To Become A Guru [Gur...  \n",
       "2337  2008-1029 Diwali Puja, 1st Day, Dhanteras [排灯节...  \n",
       "2338  2008-1113 Guru Nanaka Jayanti [Guru nanak jaya...  \n",
       "\n",
       "[1825 rows x 13 columns]"
      ]
     },
     "execution_count": 11,
     "metadata": {},
     "output_type": "execute_result"
    }
   ],
   "source": [
    "df"
   ]
  },
  {
   "cell_type": "markdown",
   "metadata": {
    "collapsed": true
   },
   "source": [
    "## 导出为中文文本"
   ]
  },
  {
   "cell_type": "code",
   "execution_count": 2,
   "metadata": {
    "collapsed": true
   },
   "outputs": [],
   "source": [
    "import pandas as pd\n",
    "import re\n",
    "from pathlib import Path\n",
    "df = pd.read_pickle('sahaja_cn_df.pkl')"
   ]
  },
  {
   "cell_type": "code",
   "execution_count": 5,
   "metadata": {
    "collapsed": false,
    "scrolled": false
   },
   "outputs": [],
   "source": [
    "df['title_std'] = df['date']+ ' ' + df['title']"
   ]
  },
  {
   "cell_type": "code",
   "execution_count": 17,
   "metadata": {
    "collapsed": false
   },
   "outputs": [],
   "source": [
    "df['youku_url'] = df['youku_url'].fillna('')"
   ]
  },
  {
   "cell_type": "code",
   "execution_count": 18,
   "metadata": {
    "collapsed": false
   },
   "outputs": [],
   "source": [
    "for i in df.itertuples():\n",
    "    try:\n",
    "        title = i[10].replace(r'/', '_').replace('?', '').replace(':', '')\n",
    "        p = Path.cwd() / '..' / 'engchs' / '{}.txt'.format(title)\n",
    "        f = p.open('w', encoding='utf-8')\n",
    "        if i[7]:\n",
    "            f.write(i[7])\n",
    "            f.write('\\n')\n",
    "        if i[8]:\n",
    "            f.write(i[8]) \n",
    "            f.write('\\n')\n",
    "        if i[9]:\n",
    "            f.write(i[9]) \n",
    "            f.write('\\n')\n",
    "        if any([i[7], i[8], i[9]]):\n",
    "            f.write('\\n')\n",
    "        f.write(i[5])\n",
    "        f.close()\n",
    "    except Exception as e:\n",
    "        print(e)\n",
    "        print(i[0])"
   ]
  },
  {
   "cell_type": "code",
   "execution_count": 16,
   "metadata": {
    "collapsed": false
   },
   "outputs": [
    {
     "data": {
      "text/plain": [
       "''"
      ]
     },
     "execution_count": 16,
     "metadata": {},
     "output_type": "execute_result"
    }
   ],
   "source": [
    "df.iloc[7, 5]"
   ]
  },
  {
   "cell_type": "code",
   "execution_count": null,
   "metadata": {
    "collapsed": true
   },
   "outputs": [],
   "source": []
  }
 ],
 "metadata": {
  "anaconda-cloud": {},
  "kernelspec": {
   "display_name": "Python [conda root]",
   "language": "python",
   "name": "conda-root-py"
  },
  "language_info": {
   "codemirror_mode": {
    "name": "ipython",
    "version": 3
   },
   "file_extension": ".py",
   "mimetype": "text/x-python",
   "name": "python",
   "nbconvert_exporter": "python",
   "pygments_lexer": "ipython3",
   "version": "3.5.5"
  }
 },
 "nbformat": 4,
 "nbformat_minor": 1
}
